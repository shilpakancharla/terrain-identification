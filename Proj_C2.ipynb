{
 "cells": [
  {
   "cell_type": "code",
   "execution_count": 118,
   "id": "confident-working",
   "metadata": {},
   "outputs": [],
   "source": [
    "import random\n",
    "import numpy as np\n",
    "import pandas as pd\n",
    "import tensorflow as tf\n",
    "import statistics as st\n",
    "from scipy import stats\n",
    "from sklearn.metrics import classification_report\n",
    "from keras.models import Sequential\n",
    "from keras.layers import Dense, Dropout, Bidirectional, LSTM\n",
    "from tensorflow.python.keras import regularizers\n",
    "from sklearn.model_selection import TimeSeriesSplit\n",
    "\n",
    "#import sys\n",
    "#!{sys.executable} -m pip install keras-rectified-adam\n",
    "\n",
    "# Import custom functions\n",
    "from preprocessing import *\n",
    "from model import *\n",
    "from evaluation import *"
   ]
  },
  {
   "cell_type": "code",
   "execution_count": 113,
   "id": "opposed-moment",
   "metadata": {},
   "outputs": [
    {
     "name": "stdout",
     "output_type": "stream",
     "text": [
      "(334543, 30, 6) (334543, 1)\n"
     ]
    }
   ],
   "source": [
    "# List of X_files\n",
    "X_files = ['TrainingData/subject_001_01__x.csv', 'TrainingData/subject_001_02__x.csv', \n",
    "           'TrainingData/subject_001_03__x.csv', 'TrainingData/subject_001_04__x.csv', \n",
    "           'TrainingData/subject_001_05__x.csv', 'TrainingData/subject_001_06__x.csv', \n",
    "           'TrainingData/subject_001_07__x.csv', 'TrainingData/subject_001_08__x.csv',\n",
    "           'TrainingData/subject_002_01__x.csv', 'TrainingData/subject_002_02__x.csv',\n",
    "           'TrainingData/subject_002_03__x.csv', 'TrainingData/subject_002_04__x.csv', \n",
    "           'TrainingData/subject_002_05__x.csv', 'TrainingData/subject_003_01__x.csv', \n",
    "           'TrainingData/subject_003_02__x.csv', 'TrainingData/subject_003_03__x.csv', \n",
    "           'TrainingData/subject_004_01__x.csv', 'TrainingData/subject_004_02__x.csv', \n",
    "           'TrainingData/subject_005_01__x.csv', 'TrainingData/subject_005_02__x.csv', \n",
    "           'TrainingData/subject_005_03__x.csv', 'TrainingData/subject_006_01__x.csv', \n",
    "           'TrainingData/subject_006_02__x.csv', 'TrainingData/subject_006_03__x.csv', \n",
    "           'TrainingData/subject_007_01__x.csv', 'TrainingData/subject_007_02__x.csv', \n",
    "           'TrainingData/subject_007_03__x.csv', 'TrainingData/subject_007_04__x.csv',\n",
    "           'TrainingData/subject_008_01__x.csv']\n",
    "\n",
    "# List of X_t_files\n",
    "X_t_files = ['TrainingData/subject_001_01__x_time.csv', 'TrainingData/subject_001_02__x_time.csv', \n",
    "             'TrainingData/subject_001_03__x_time.csv', 'TrainingData/subject_001_04__x_time.csv', \n",
    "             'TrainingData/subject_001_05__x_time.csv', 'TrainingData/subject_001_06__x_time.csv', \n",
    "             'TrainingData/subject_001_07__x_time.csv', 'TrainingData/subject_001_08__x_time.csv',\n",
    "             'TrainingData/subject_002_01__x_time.csv', 'TrainingData/subject_002_02__x_time.csv',\n",
    "             'TrainingData/subject_002_03__x_time.csv', 'TrainingData/subject_002_04__x_time.csv', \n",
    "             'TrainingData/subject_002_05__x_time.csv', 'TrainingData/subject_003_01__x_time.csv', \n",
    "             'TrainingData/subject_003_02__x_time.csv', 'TrainingData/subject_003_03__x_time.csv',\n",
    "             'TrainingData/subject_004_01__x_time.csv', 'TrainingData/subject_004_02__x_time.csv', \n",
    "             'TrainingData/subject_005_01__x_time.csv', 'TrainingData/subject_005_02__x_time.csv', \n",
    "             'TrainingData/subject_005_03__x_time.csv', 'TrainingData/subject_006_01__x_time.csv', \n",
    "             'TrainingData/subject_006_02__x_time.csv', 'TrainingData/subject_006_03__x_time.csv', \n",
    "             'TrainingData/subject_007_01__x_time.csv', 'TrainingData/subject_007_02__x_time.csv', \n",
    "             'TrainingData/subject_007_03__x_time.csv', 'TrainingData/subject_007_04__x_time.csv', \n",
    "             'TrainingData/subject_008_01__x_time.csv']\n",
    "\n",
    "# List of training y_files\n",
    "y_files = ['TrainingData/subject_001_01__y.csv', 'TrainingData/subject_001_02__y.csv', \n",
    "           'TrainingData/subject_001_03__y.csv', 'TrainingData/subject_001_04__y.csv', \n",
    "           'TrainingData/subject_001_05__y.csv', 'TrainingData/subject_001_06__y.csv', \n",
    "           'TrainingData/subject_001_07__y.csv', 'TrainingData/subject_001_08__y.csv',\n",
    "           'TrainingData/subject_002_01__y.csv', 'TrainingData/subject_002_02__y.csv',\n",
    "           'TrainingData/subject_002_03__y.csv', 'TrainingData/subject_002_04__y.csv', \n",
    "           'TrainingData/subject_002_05__y.csv', 'TrainingData/subject_003_01__y.csv', \n",
    "           'TrainingData/subject_003_02__y.csv', 'TrainingData/subject_003_03__y.csv', \n",
    "           'TrainingData/subject_004_01__y.csv', 'TrainingData/subject_004_02__y.csv', \n",
    "           'TrainingData/subject_005_01__y.csv', 'TrainingData/subject_005_02__y.csv', \n",
    "           'TrainingData/subject_005_03__y.csv', 'TrainingData/subject_006_01__y.csv', \n",
    "           'TrainingData/subject_006_02__y.csv', 'TrainingData/subject_006_03__y.csv', \n",
    "           'TrainingData/subject_007_01__y.csv', 'TrainingData/subject_007_02__y.csv', \n",
    "           'TrainingData/subject_007_03__y.csv', 'TrainingData/subject_007_04__y.csv',\n",
    "           'TrainingData/subject_008_01__y.csv']\n",
    "\n",
    "# List of training y_t_files\n",
    "y_t_files = ['TrainingData/subject_001_01__y_time.csv', 'TrainingData/subject_001_02__y_time.csv', \n",
    "             'TrainingData/subject_001_03__y_time.csv', 'TrainingData/subject_001_04__y_time.csv', \n",
    "             'TrainingData/subject_001_05__y_time.csv', 'TrainingData/subject_001_06__y_time.csv', \n",
    "             'TrainingData/subject_001_07__y_time.csv', 'TrainingData/subject_001_08__y_time.csv',\n",
    "             'TrainingData/subject_002_01__y_time.csv', 'TrainingData/subject_002_02__y_time.csv',\n",
    "             'TrainingData/subject_002_03__y_time.csv', 'TrainingData/subject_002_04__y_time.csv', \n",
    "             'TrainingData/subject_002_05__y_time.csv', 'TrainingData/subject_003_01__y_time.csv', \n",
    "             'TrainingData/subject_003_02__y_time.csv', 'TrainingData/subject_003_03__y_time.csv',\n",
    "             'TrainingData/subject_004_01__y_time.csv', 'TrainingData/subject_004_02__y_time.csv', \n",
    "             'TrainingData/subject_005_01__y_time.csv', 'TrainingData/subject_005_02__y_time.csv', \n",
    "             'TrainingData/subject_005_03__y_time.csv', 'TrainingData/subject_006_01__y_time.csv', \n",
    "             'TrainingData/subject_006_02__y_time.csv', 'TrainingData/subject_006_03__y_time.csv', \n",
    "             'TrainingData/subject_007_01__y_time.csv', 'TrainingData/subject_007_02__y_time.csv', \n",
    "             'TrainingData/subject_007_03__y_time.csv', 'TrainingData/subject_007_04__y_time.csv', \n",
    "             'TrainingData/subject_008_01__y_time.csv']\n",
    "\n",
    "training_X, training_y = generate_data(X_files, X_t_files, y_files, y_t_files)\n",
    "print(training_X.shape, training_y.shape)"
   ]
  },
  {
   "cell_type": "code",
   "execution_count": 114,
   "id": "opened-manhattan",
   "metadata": {},
   "outputs": [],
   "source": [
    "# Save the training data to .npy files so we do not have to generate them repeatedly\n",
    "np.save('training_X.npy', training_X)\n",
    "np.save('training_y.npy', training_y)"
   ]
  },
  {
   "cell_type": "code",
   "execution_count": 115,
   "id": "british-usage",
   "metadata": {},
   "outputs": [],
   "source": [
    "# Loading the data back\n",
    "training_X = np.load('training_X.npy')\n",
    "training_y = np.load('training_y.npy')"
   ]
  },
  {
   "cell_type": "code",
   "execution_count": 116,
   "id": "accredited-gasoline",
   "metadata": {},
   "outputs": [
    {
     "name": "stdout",
     "output_type": "stream",
     "text": [
      "{0: 0.332789863001707, 1: 6.142009987515605, 2: 4.600173257796601, 3: 1.6262687640973787}\n"
     ]
    },
    {
     "name": "stderr",
     "output_type": "stream",
     "text": [
      "/usr/local/Cellar/jupyterlab/3.0.9/libexec/lib/python3.9/site-packages/sklearn/utils/validation.py:70: FutureWarning: Pass classes=[0 1 2 3], y=[0 0 0 ... 0 0 0] as keyword args. From version 1.0 (renaming of 0.25) passing these as positional arguments will result in an error\n",
      "  warnings.warn(f\"Pass {args_msg} as keyword args. From version \"\n"
     ]
    }
   ],
   "source": [
    "# Get the class weights\n",
    "label_weights = get_label_weights(training_X, training_y)\n",
    "print(label_weights)\n",
    "# Perform one-hot encoding\n",
    "training_y_encoded = one_hot_encoding(training_y)"
   ]
  },
  {
   "cell_type": "code",
   "execution_count": 117,
   "id": "rolled-moldova",
   "metadata": {},
   "outputs": [
    {
     "name": "stdout",
     "output_type": "stream",
     "text": [
      "_________________________________________________________________\n",
      "Layer (type)                 Output Shape              Param #   \n",
      "=================================================================\n",
      "bidirectional_2 (Bidirection (None, 250)               132000    \n",
      "_________________________________________________________________\n",
      "dropout_2 (Dropout)          (None, 250)               0         \n",
      "_________________________________________________________________\n",
      "dense_3 (Dense)              (None, 125)               31375     \n",
      "_________________________________________________________________\n",
      "dense_4 (Dense)              (None, 4)                 504       \n",
      "=================================================================\n",
      "Total params: 163,879\n",
      "Trainable params: 163,879\n",
      "Non-trainable params: 0\n",
      "_________________________________________________________________\n"
     ]
    }
   ],
   "source": [
    "n_timesteps, n_features, n_outputs = training_X.shape[1], training_X.shape[2], training_y_encoded.shape[1]\n",
    "model = Sequential()\n",
    "model.add(Bidirectional(LSTM(units = 125, kernel_regularizer = regularizers.l1_l2(l1 = 2**-6, l2 = 2**-8)),\n",
    "                        input_shape = (n_timesteps, n_features)))\n",
    "model.add(Dropout(rate = 0.3))\n",
    "model.add(Dense(units = 125, activation = 'tanh'))\n",
    "model.add(Dense(n_outputs, activation = 'softmax'))\n",
    "model.compile(loss = 'categorical_crossentropy', optimizer = 'adam', \n",
    "              metrics = ['acc', f1, precision_measure, recall_measure])\n",
    "model.summary()"
   ]
  },
  {
   "cell_type": "code",
   "execution_count": 121,
   "id": "rough-wrapping",
   "metadata": {},
   "outputs": [
    {
     "name": "stdout",
     "output_type": "stream",
     "text": [
      "Train on 55758 samples, validate on 55757 samples\n",
      "Epoch 1/15\n",
      "55758/55758 [==============================] - 86s 2ms/step - loss: 1.6791 - acc: 0.4016 - f1: 0.1734 - precision_measure: 0.3369 - recall_measure: 0.1409 - val_loss: 2.1022 - val_acc: 0.2475 - val_f1: 0.1858 - val_precision_measure: 0.2122 - val_recall_measure: 0.1680\n",
      "Epoch 2/15\n",
      "55758/55758 [==============================] - 72s 1ms/step - loss: 1.0081 - acc: 0.4945 - f1: 0.3551 - precision_measure: 0.4883 - recall_measure: 0.3008 - val_loss: 1.6940 - val_acc: 0.5013 - val_f1: 0.4523 - val_precision_measure: 0.5048 - val_recall_measure: 0.4145\n",
      "Epoch 3/15\n",
      "55758/55758 [==============================] - 75s 1ms/step - loss: 0.6313 - acc: 0.5813 - f1: 0.4957 - precision_measure: 0.5859 - recall_measure: 0.4460 - val_loss: 1.8221 - val_acc: 0.5520 - val_f1: 0.5173 - val_precision_measure: 0.5527 - val_recall_measure: 0.4906\n",
      "Epoch 4/15\n",
      "55758/55758 [==============================] - 76s 1ms/step - loss: 0.4983 - acc: 0.5814 - f1: 0.5175 - precision_measure: 0.5713 - recall_measure: 0.4844 - val_loss: 1.9195 - val_acc: 0.5799 - val_f1: 0.5627 - val_precision_measure: 0.5775 - val_recall_measure: 0.5518\n",
      "Epoch 5/15\n",
      "55758/55758 [==============================] - 127s 2ms/step - loss: 0.4582 - acc: 0.5891 - f1: 0.5285 - precision_measure: 0.5765 - recall_measure: 0.5001 - val_loss: 1.7686 - val_acc: 0.6010 - val_f1: 0.5874 - val_precision_measure: 0.5994 - val_recall_measure: 0.5777\n",
      "Epoch 6/15\n",
      "55758/55758 [==============================] - 136s 2ms/step - loss: 0.4419 - acc: 0.6011 - f1: 0.5583 - precision_measure: 0.5978 - recall_measure: 0.5301 - val_loss: 1.5975 - val_acc: 0.6208 - val_f1: 0.6091 - val_precision_measure: 0.6216 - val_recall_measure: 0.5987\n",
      "Epoch 7/15\n",
      "55758/55758 [==============================] - 120s 2ms/step - loss: 0.4254 - acc: 0.6048 - f1: 0.5703 - precision_measure: 0.6045 - recall_measure: 0.5455 - val_loss: 1.3264 - val_acc: 0.6476 - val_f1: 0.6347 - val_precision_measure: 0.6492 - val_recall_measure: 0.6231\n",
      "Epoch 8/15\n",
      "55758/55758 [==============================] - 82s 1ms/step - loss: 0.4061 - acc: 0.6133 - f1: 0.5851 - precision_measure: 0.6122 - recall_measure: 0.5639 - val_loss: 1.5011 - val_acc: 0.6290 - val_f1: 0.6175 - val_precision_measure: 0.6281 - val_recall_measure: 0.6085\n",
      "Epoch 9/15\n",
      "55758/55758 [==============================] - 87s 2ms/step - loss: 0.4080 - acc: 0.6456 - f1: 0.6281 - precision_measure: 0.6467 - recall_measure: 0.6119 - val_loss: 1.7911 - val_acc: 0.5715 - val_f1: 0.5548 - val_precision_measure: 0.5741 - val_recall_measure: 0.5382\n",
      "Epoch 10/15\n",
      "55758/55758 [==============================] - 76s 1ms/step - loss: 0.3948 - acc: 0.6299 - f1: 0.6109 - precision_measure: 0.6320 - recall_measure: 0.5928 - val_loss: 1.5887 - val_acc: 0.6389 - val_f1: 0.6309 - val_precision_measure: 0.6392 - val_recall_measure: 0.6235\n",
      "Epoch 11/15\n",
      "55758/55758 [==============================] - 79s 1ms/step - loss: 0.3713 - acc: 0.6637 - f1: 0.6537 - precision_measure: 0.6663 - recall_measure: 0.6422 - val_loss: 1.3037 - val_acc: 0.6355 - val_f1: 0.6247 - val_precision_measure: 0.6334 - val_recall_measure: 0.6172\n",
      "Epoch 12/15\n",
      "55758/55758 [==============================] - 97s 2ms/step - loss: 0.6702 - acc: 0.6311 - f1: 0.5911 - precision_measure: 0.6186 - recall_measure: 0.5718 - val_loss: 1.2178 - val_acc: 0.6188 - val_f1: 0.6010 - val_precision_measure: 0.6175 - val_recall_measure: 0.5873\n",
      "Epoch 13/15\n",
      "55758/55758 [==============================] - 93s 2ms/step - loss: 0.3709 - acc: 0.6848 - f1: 0.6743 - precision_measure: 0.6878 - recall_measure: 0.6618 - val_loss: 1.1761 - val_acc: 0.6563 - val_f1: 0.6470 - val_precision_measure: 0.6551 - val_recall_measure: 0.6400\n",
      "Epoch 14/15\n",
      "55758/55758 [==============================] - 86s 2ms/step - loss: 0.3383 - acc: 0.7224 - f1: 0.7173 - precision_measure: 0.7258 - recall_measure: 0.7093 - val_loss: 1.0829 - val_acc: 0.6752 - val_f1: 0.6682 - val_precision_measure: 0.6755 - val_recall_measure: 0.6618\n",
      "Epoch 15/15\n",
      "55758/55758 [==============================] - 78s 1ms/step - loss: 0.3271 - acc: 0.7458 - f1: 0.7418 - precision_measure: 0.7489 - recall_measure: 0.7350 - val_loss: 1.1614 - val_acc: 0.6697 - val_f1: 0.6644 - val_precision_measure: 0.6696 - val_recall_measure: 0.6597\n",
      "Train on 111515 samples, validate on 55757 samples\n",
      "Epoch 1/15\n",
      "111515/111515 [==============================] - 209s 2ms/step - loss: 0.6544 - acc: 0.7264 - f1: 0.7202 - precision_measure: 0.7305 - recall_measure: 0.7124 - val_loss: 0.6507 - val_acc: 0.7525 - val_f1: 0.7470 - val_precision_measure: 0.7674 - val_recall_measure: 0.7328\n",
      "Epoch 2/15\n",
      "111515/111515 [==============================] - 140s 1ms/step - loss: 0.4996 - acc: 0.7455 - f1: 0.7299 - precision_measure: 0.7509 - recall_measure: 0.7153 - val_loss: 0.9670 - val_acc: 0.5313 - val_f1: 0.3987 - val_precision_measure: 0.5105 - val_recall_measure: 0.3440\n",
      "Epoch 3/15\n",
      "111515/111515 [==============================] - 147s 1ms/step - loss: 0.4305 - acc: 0.7684 - f1: 0.7540 - precision_measure: 0.7726 - recall_measure: 0.7405 - val_loss: 0.7980 - val_acc: 0.7171 - val_f1: 0.5948 - val_precision_measure: 0.7483 - val_recall_measure: 0.5189\n",
      "Epoch 4/15\n",
      "111515/111515 [==============================] - 142s 1ms/step - loss: 0.3646 - acc: 0.7681 - f1: 0.7600 - precision_measure: 0.7734 - recall_measure: 0.7489 - val_loss: 0.9749 - val_acc: 0.5217 - val_f1: 0.4941 - val_precision_measure: 0.5252 - val_recall_measure: 0.4706\n",
      "Epoch 5/15\n",
      "111515/111515 [==============================] - 142s 1ms/step - loss: 0.3235 - acc: 0.7795 - f1: 0.7740 - precision_measure: 0.7838 - recall_measure: 0.7655 - val_loss: 0.8973 - val_acc: 0.5117 - val_f1: 0.4983 - val_precision_measure: 0.5110 - val_recall_measure: 0.4879\n",
      "Epoch 6/15\n",
      "111515/111515 [==============================] - 134s 1ms/step - loss: 0.2998 - acc: 0.7894 - f1: 0.7851 - precision_measure: 0.7917 - recall_measure: 0.7792 - val_loss: 1.0321 - val_acc: 0.4946 - val_f1: 0.4808 - val_precision_measure: 0.4953 - val_recall_measure: 0.4686\n",
      "Epoch 7/15\n",
      "111515/111515 [==============================] - 152s 1ms/step - loss: 0.2761 - acc: 0.7968 - f1: 0.7933 - precision_measure: 0.7990 - recall_measure: 0.7883 - val_loss: 0.9287 - val_acc: 0.5022 - val_f1: 0.4922 - val_precision_measure: 0.5020 - val_recall_measure: 0.4836\n",
      "Epoch 8/15\n",
      "111515/111515 [==============================] - 139s 1ms/step - loss: 0.2698 - acc: 0.8018 - f1: 0.7994 - precision_measure: 0.8041 - recall_measure: 0.7952 - val_loss: 0.9464 - val_acc: 0.5078 - val_f1: 0.5002 - val_precision_measure: 0.5105 - val_recall_measure: 0.4911\n",
      "Epoch 9/15\n",
      "111515/111515 [==============================] - 139s 1ms/step - loss: 0.2469 - acc: 0.8167 - f1: 0.8147 - precision_measure: 0.8186 - recall_measure: 0.8111 - val_loss: 0.7291 - val_acc: 0.6109 - val_f1: 0.6066 - val_precision_measure: 0.6128 - val_recall_measure: 0.6009\n",
      "Epoch 10/15\n",
      "111515/111515 [==============================] - 134s 1ms/step - loss: 0.2441 - acc: 0.8190 - f1: 0.8168 - precision_measure: 0.8205 - recall_measure: 0.8134 - val_loss: 0.8173 - val_acc: 0.5649 - val_f1: 0.5605 - val_precision_measure: 0.5668 - val_recall_measure: 0.5547\n",
      "Epoch 11/15\n",
      "111515/111515 [==============================] - 135s 1ms/step - loss: 0.2283 - acc: 0.8281 - f1: 0.8266 - precision_measure: 0.8293 - recall_measure: 0.8241 - val_loss: 0.7626 - val_acc: 0.6076 - val_f1: 0.6025 - val_precision_measure: 0.6089 - val_recall_measure: 0.5966\n",
      "Epoch 12/15\n",
      "111515/111515 [==============================] - 129s 1ms/step - loss: 0.2125 - acc: 0.8355 - f1: 0.8347 - precision_measure: 0.8368 - recall_measure: 0.8327 - val_loss: 0.7683 - val_acc: 0.6187 - val_f1: 0.6142 - val_precision_measure: 0.6203 - val_recall_measure: 0.6085\n",
      "Epoch 13/15\n",
      "111515/111515 [==============================] - 129s 1ms/step - loss: 0.2105 - acc: 0.8411 - f1: 0.8401 - precision_measure: 0.8422 - recall_measure: 0.8382 - val_loss: 0.7701 - val_acc: 0.6119 - val_f1: 0.6093 - val_precision_measure: 0.6125 - val_recall_measure: 0.6063\n",
      "Epoch 14/15\n",
      "111515/111515 [==============================] - 128s 1ms/step - loss: 0.1965 - acc: 0.8484 - f1: 0.8478 - precision_measure: 0.8492 - recall_measure: 0.8463 - val_loss: 0.7486 - val_acc: 0.6393 - val_f1: 0.6367 - val_precision_measure: 0.6407 - val_recall_measure: 0.6329\n"
     ]
    },
    {
     "name": "stdout",
     "output_type": "stream",
     "text": [
      "Epoch 15/15\n",
      "111515/111515 [==============================] - 123s 1ms/step - loss: 0.1905 - acc: 0.8556 - f1: 0.8547 - precision_measure: 0.8563 - recall_measure: 0.8532 - val_loss: 0.7954 - val_acc: 0.6334 - val_f1: 0.6318 - val_precision_measure: 0.6344 - val_recall_measure: 0.6293\n",
      "Train on 167272 samples, validate on 55757 samples\n",
      "Epoch 1/15\n",
      "167272/167272 [==============================] - 179s 1ms/step - loss: 0.3256 - acc: 0.7753 - f1: 0.7736 - precision_measure: 0.7762 - recall_measure: 0.7711 - val_loss: 0.8120 - val_acc: 0.5763 - val_f1: 0.5746 - val_precision_measure: 0.5773 - val_recall_measure: 0.5719\n",
      "Epoch 2/15\n",
      "167272/167272 [==============================] - 182s 1ms/step - loss: 0.2887 - acc: 0.7683 - f1: 0.7666 - precision_measure: 0.7694 - recall_measure: 0.7640 - val_loss: 0.5908 - val_acc: 0.6734 - val_f1: 0.6696 - val_precision_measure: 0.6758 - val_recall_measure: 0.6636\n",
      "Epoch 3/15\n",
      "167272/167272 [==============================] - 180s 1ms/step - loss: 0.2662 - acc: 0.7916 - f1: 0.7903 - precision_measure: 0.7927 - recall_measure: 0.7881 - val_loss: 0.4474 - val_acc: 0.8423 - val_f1: 0.8411 - val_precision_measure: 0.8450 - val_recall_measure: 0.8373\n",
      "Epoch 4/15\n",
      "167272/167272 [==============================] - 181s 1ms/step - loss: 0.2439 - acc: 0.8042 - f1: 0.8033 - precision_measure: 0.8052 - recall_measure: 0.8016 - val_loss: 0.5419 - val_acc: 0.7128 - val_f1: 0.7110 - val_precision_measure: 0.7146 - val_recall_measure: 0.7075\n",
      "Epoch 5/15\n",
      "167272/167272 [==============================] - 181s 1ms/step - loss: 0.2266 - acc: 0.8235 - f1: 0.8229 - precision_measure: 0.8243 - recall_measure: 0.8215 - val_loss: 0.6333 - val_acc: 0.6652 - val_f1: 0.6639 - val_precision_measure: 0.6660 - val_recall_measure: 0.6619\n",
      "Epoch 6/15\n",
      "167272/167272 [==============================] - 180s 1ms/step - loss: 0.2116 - acc: 0.8364 - f1: 0.8359 - precision_measure: 0.8374 - recall_measure: 0.8344 - val_loss: 0.5317 - val_acc: 0.7353 - val_f1: 0.7341 - val_precision_measure: 0.7361 - val_recall_measure: 0.7321\n",
      "Epoch 7/15\n",
      "167272/167272 [==============================] - 177s 1ms/step - loss: 0.1950 - acc: 0.8514 - f1: 0.8509 - precision_measure: 0.8520 - recall_measure: 0.8499 - val_loss: 0.5767 - val_acc: 0.7273 - val_f1: 0.7266 - val_precision_measure: 0.7280 - val_recall_measure: 0.7252\n",
      "Epoch 8/15\n",
      "167272/167272 [==============================] - 183s 1ms/step - loss: 0.1806 - acc: 0.8625 - f1: 0.8622 - precision_measure: 0.8631 - recall_measure: 0.8613 - val_loss: 0.4903 - val_acc: 0.7705 - val_f1: 0.7702 - val_precision_measure: 0.7713 - val_recall_measure: 0.7692\n",
      "Epoch 9/15\n",
      "167272/167272 [==============================] - 182s 1ms/step - loss: 0.1660 - acc: 0.8750 - f1: 0.8749 - precision_measure: 0.8756 - recall_measure: 0.8742 - val_loss: 0.5412 - val_acc: 0.7603 - val_f1: 0.7598 - val_precision_measure: 0.7609 - val_recall_measure: 0.7588\n",
      "Epoch 10/15\n",
      "167272/167272 [==============================] - 182s 1ms/step - loss: 0.1632 - acc: 0.8841 - f1: 0.8838 - precision_measure: 0.8846 - recall_measure: 0.8831 - val_loss: 0.4644 - val_acc: 0.7985 - val_f1: 0.7984 - val_precision_measure: 0.7993 - val_recall_measure: 0.7975\n",
      "Epoch 11/15\n",
      "167272/167272 [==============================] - 186s 1ms/step - loss: 0.1417 - acc: 0.8994 - f1: 0.8993 - precision_measure: 0.8998 - recall_measure: 0.8988 - val_loss: 0.4585 - val_acc: 0.8020 - val_f1: 0.8017 - val_precision_measure: 0.8026 - val_recall_measure: 0.8009\n",
      "Epoch 12/15\n",
      "167272/167272 [==============================] - 179s 1ms/step - loss: 0.1332 - acc: 0.9096 - f1: 0.9094 - precision_measure: 0.9099 - recall_measure: 0.9090 - val_loss: 0.4112 - val_acc: 0.8461 - val_f1: 0.8459 - val_precision_measure: 0.8465 - val_recall_measure: 0.8452\n",
      "Epoch 13/15\n",
      "167272/167272 [==============================] - 180s 1ms/step - loss: 0.1219 - acc: 0.9208 - f1: 0.9207 - precision_measure: 0.9210 - recall_measure: 0.9203 - val_loss: 0.3638 - val_acc: 0.8702 - val_f1: 0.8700 - val_precision_measure: 0.8705 - val_recall_measure: 0.8696\n",
      "Epoch 14/15\n",
      "167272/167272 [==============================] - 282s 2ms/step - loss: 0.1078 - acc: 0.9320 - f1: 0.9319 - precision_measure: 0.9323 - recall_measure: 0.9316 - val_loss: 0.3955 - val_acc: 0.8506 - val_f1: 0.8505 - val_precision_measure: 0.8509 - val_recall_measure: 0.8500\n",
      "Epoch 15/15\n",
      "167272/167272 [==============================] - 193s 1ms/step - loss: 0.0962 - acc: 0.9411 - f1: 0.9410 - precision_measure: 0.9413 - recall_measure: 0.9408 - val_loss: 0.5013 - val_acc: 0.8319 - val_f1: 0.8319 - val_precision_measure: 0.8322 - val_recall_measure: 0.8316\n",
      "Train on 223029 samples, validate on 55757 samples\n",
      "Epoch 1/15\n",
      "223029/223029 [==============================] - 294s 1ms/step - loss: 0.1715 - acc: 0.9144 - f1: 0.9142 - precision_measure: 0.9150 - recall_measure: 0.9135 - val_loss: 0.3243 - val_acc: 0.8959 - val_f1: 0.8958 - val_precision_measure: 0.8963 - val_recall_measure: 0.8953\n",
      "Epoch 2/15\n",
      "223029/223029 [==============================] - 256s 1ms/step - loss: 0.1275 - acc: 0.9234 - f1: 0.9233 - precision_measure: 0.9239 - recall_measure: 0.9227 - val_loss: 0.2991 - val_acc: 0.8973 - val_f1: 0.8972 - val_precision_measure: 0.8977 - val_recall_measure: 0.8968\n",
      "Epoch 3/15\n",
      "223029/223029 [==============================] - 279s 1ms/step - loss: 0.0977 - acc: 0.9434 - f1: 0.9434 - precision_measure: 0.9438 - recall_measure: 0.9430 - val_loss: 0.2837 - val_acc: 0.9011 - val_f1: 0.9011 - val_precision_measure: 0.9014 - val_recall_measure: 0.9008\n",
      "Epoch 4/15\n",
      "223029/223029 [==============================] - 260s 1ms/step - loss: 0.0913 - acc: 0.9468 - f1: 0.9468 - precision_measure: 0.9472 - recall_measure: 0.9464 - val_loss: 0.3168 - val_acc: 0.8955 - val_f1: 0.8954 - val_precision_measure: 0.8956 - val_recall_measure: 0.8951\n",
      "Epoch 5/15\n",
      "223029/223029 [==============================] - 258s 1ms/step - loss: 0.0887 - acc: 0.9463 - f1: 0.9462 - precision_measure: 0.9466 - recall_measure: 0.9459 - val_loss: 0.2804 - val_acc: 0.9077 - val_f1: 0.9077 - val_precision_measure: 0.9079 - val_recall_measure: 0.9075\n",
      "Epoch 6/15\n",
      "223029/223029 [==============================] - 259s 1ms/step - loss: 0.0724 - acc: 0.9572 - f1: 0.9572 - precision_measure: 0.9574 - recall_measure: 0.9569 - val_loss: 0.3152 - val_acc: 0.8997 - val_f1: 0.8997 - val_precision_measure: 0.9000 - val_recall_measure: 0.8994\n",
      "Epoch 7/15\n",
      "223029/223029 [==============================] - 260s 1ms/step - loss: 0.0696 - acc: 0.9594 - f1: 0.9594 - precision_measure: 0.9596 - recall_measure: 0.9592 - val_loss: 0.3294 - val_acc: 0.8926 - val_f1: 0.8926 - val_precision_measure: 0.8927 - val_recall_measure: 0.8924\n",
      "Epoch 8/15\n",
      "223029/223029 [==============================] - 338s 2ms/step - loss: 0.0677 - acc: 0.9622 - f1: 0.9622 - precision_measure: 0.9623 - recall_measure: 0.9620 - val_loss: 0.3319 - val_acc: 0.9025 - val_f1: 0.9025 - val_precision_measure: 0.9026 - val_recall_measure: 0.9023\n",
      "Epoch 9/15\n",
      "223029/223029 [==============================] - 355s 2ms/step - loss: 0.0588 - acc: 0.9659 - f1: 0.9659 - precision_measure: 0.9661 - recall_measure: 0.9657 - val_loss: 0.3573 - val_acc: 0.9014 - val_f1: 0.9013 - val_precision_measure: 0.9014 - val_recall_measure: 0.9012\n",
      "Epoch 10/15\n",
      "223029/223029 [==============================] - 256s 1ms/step - loss: 0.0565 - acc: 0.9682 - f1: 0.9682 - precision_measure: 0.9683 - recall_measure: 0.9681 - val_loss: 0.3837 - val_acc: 0.8971 - val_f1: 0.8971 - val_precision_measure: 0.8972 - val_recall_measure: 0.8970\n",
      "Epoch 11/15\n",
      "223029/223029 [==============================] - 260s 1ms/step - loss: 0.0581 - acc: 0.9656 - f1: 0.9656 - precision_measure: 0.9657 - recall_measure: 0.9655 - val_loss: 0.4623 - val_acc: 0.8971 - val_f1: 0.8971 - val_precision_measure: 0.8971 - val_recall_measure: 0.8971\n",
      "Epoch 12/15\n",
      "223029/223029 [==============================] - 266s 1ms/step - loss: 0.0493 - acc: 0.9734 - f1: 0.9734 - precision_measure: 0.9735 - recall_measure: 0.9733 - val_loss: 0.4684 - val_acc: 0.9008 - val_f1: 0.9008 - val_precision_measure: 0.9009 - val_recall_measure: 0.9008\n",
      "Epoch 13/15\n"
     ]
    },
    {
     "name": "stdout",
     "output_type": "stream",
     "text": [
      "223029/223029 [==============================] - 248s 1ms/step - loss: 0.0470 - acc: 0.9738 - f1: 0.9738 - precision_measure: 0.9739 - recall_measure: 0.9736 - val_loss: 0.4856 - val_acc: 0.9049 - val_f1: 0.9049 - val_precision_measure: 0.9049 - val_recall_measure: 0.9049\n",
      "Epoch 14/15\n",
      "223029/223029 [==============================] - 245s 1ms/step - loss: 0.0466 - acc: 0.9743 - f1: 0.9743 - precision_measure: 0.9744 - recall_measure: 0.9742 - val_loss: 0.4649 - val_acc: 0.8972 - val_f1: 0.8972 - val_precision_measure: 0.8972 - val_recall_measure: 0.8971\n",
      "Epoch 15/15\n",
      "223029/223029 [==============================] - 244s 1ms/step - loss: 0.0459 - acc: 0.9751 - f1: 0.9751 - precision_measure: 0.9752 - recall_measure: 0.9751 - val_loss: 0.5503 - val_acc: 0.8979 - val_f1: 0.8978 - val_precision_measure: 0.8979 - val_recall_measure: 0.8978\n",
      "Train on 278786 samples, validate on 55757 samples\n",
      "Epoch 1/15\n",
      "278786/278786 [==============================] - 314s 1ms/step - loss: 0.0955 - acc: 0.9513 - f1: 0.9514 - precision_measure: 0.9516 - recall_measure: 0.9512 - val_loss: 0.8224 - val_acc: 0.6614 - val_f1: 0.6607 - val_precision_measure: 0.6621 - val_recall_measure: 0.6593\n",
      "Epoch 2/15\n",
      "278786/278786 [==============================] - 304s 1ms/step - loss: 0.0848 - acc: 0.9540 - f1: 0.9539 - precision_measure: 0.9542 - recall_measure: 0.9537 - val_loss: 1.0853 - val_acc: 0.6178 - val_f1: 0.6168 - val_precision_measure: 0.6188 - val_recall_measure: 0.6148\n",
      "Epoch 3/15\n",
      "278786/278786 [==============================] - 306s 1ms/step - loss: 0.0649 - acc: 0.9648 - f1: 0.9648 - precision_measure: 0.9650 - recall_measure: 0.9646 - val_loss: 0.8937 - val_acc: 0.6858 - val_f1: 0.6852 - val_precision_measure: 0.6863 - val_recall_measure: 0.6841\n",
      "Epoch 4/15\n",
      "278786/278786 [==============================] - 302s 1ms/step - loss: 0.0550 - acc: 0.9690 - f1: 0.9690 - precision_measure: 0.9691 - recall_measure: 0.9689 - val_loss: 1.0530 - val_acc: 0.6874 - val_f1: 0.6866 - val_precision_measure: 0.6876 - val_recall_measure: 0.6856\n",
      "Epoch 5/15\n",
      "278786/278786 [==============================] - 308s 1ms/step - loss: 0.0508 - acc: 0.9731 - f1: 0.9731 - precision_measure: 0.9732 - recall_measure: 0.9729 - val_loss: 0.9836 - val_acc: 0.7220 - val_f1: 0.7217 - val_precision_measure: 0.7227 - val_recall_measure: 0.7208\n",
      "Epoch 6/15\n",
      "278786/278786 [==============================] - 304s 1ms/step - loss: 0.0503 - acc: 0.9738 - f1: 0.9738 - precision_measure: 0.9739 - recall_measure: 0.9737 - val_loss: 1.1995 - val_acc: 0.6942 - val_f1: 0.6941 - val_precision_measure: 0.6947 - val_recall_measure: 0.6936\n",
      "Epoch 7/15\n",
      "278786/278786 [==============================] - 333s 1ms/step - loss: 0.0415 - acc: 0.9777 - f1: 0.9777 - precision_measure: 0.9777 - recall_measure: 0.9776 - val_loss: 1.3125 - val_acc: 0.6720 - val_f1: 0.6718 - val_precision_measure: 0.6723 - val_recall_measure: 0.6714\n",
      "Epoch 8/15\n",
      "278786/278786 [==============================] - 323s 1ms/step - loss: 0.0448 - acc: 0.9759 - f1: 0.9759 - precision_measure: 0.9760 - recall_measure: 0.9758 - val_loss: 1.0337 - val_acc: 0.7143 - val_f1: 0.7142 - val_precision_measure: 0.7148 - val_recall_measure: 0.7136\n",
      "Epoch 9/15\n",
      "278786/278786 [==============================] - 295s 1ms/step - loss: 0.0432 - acc: 0.9749 - f1: 0.9749 - precision_measure: 0.9749 - recall_measure: 0.9748 - val_loss: 0.9880 - val_acc: 0.7068 - val_f1: 0.7065 - val_precision_measure: 0.7073 - val_recall_measure: 0.7057\n",
      "Epoch 10/15\n",
      "278786/278786 [==============================] - 320s 1ms/step - loss: 0.0387 - acc: 0.9792 - f1: 0.9792 - precision_measure: 0.9792 - recall_measure: 0.9791 - val_loss: 1.0268 - val_acc: 0.7011 - val_f1: 0.7010 - val_precision_measure: 0.7014 - val_recall_measure: 0.7005\n",
      "Epoch 11/15\n",
      "278786/278786 [==============================] - 319s 1ms/step - loss: 0.0429 - acc: 0.9773 - f1: 0.9774 - precision_measure: 0.9775 - recall_measure: 0.9773 - val_loss: 1.2254 - val_acc: 0.7174 - val_f1: 0.7173 - val_precision_measure: 0.7176 - val_recall_measure: 0.7170\n",
      "Epoch 12/15\n",
      "278786/278786 [==============================] - 324s 1ms/step - loss: 0.0358 - acc: 0.9818 - f1: 0.9818 - precision_measure: 0.9819 - recall_measure: 0.9817 - val_loss: 1.2439 - val_acc: 0.7245 - val_f1: 0.7242 - val_precision_measure: 0.7247 - val_recall_measure: 0.7237\n",
      "Epoch 13/15\n",
      "278786/278786 [==============================] - 314s 1ms/step - loss: 0.0361 - acc: 0.9812 - f1: 0.9812 - precision_measure: 0.9813 - recall_measure: 0.9812 - val_loss: 1.2375 - val_acc: 0.7332 - val_f1: 0.7332 - val_precision_measure: 0.7337 - val_recall_measure: 0.7327\n",
      "Epoch 14/15\n",
      "278786/278786 [==============================] - 319s 1ms/step - loss: 0.0371 - acc: 0.9809 - f1: 0.9809 - precision_measure: 0.9809 - recall_measure: 0.9808 - val_loss: 1.2664 - val_acc: 0.7131 - val_f1: 0.7130 - val_precision_measure: 0.7134 - val_recall_measure: 0.7126\n",
      "Epoch 15/15\n",
      "278786/278786 [==============================] - 313s 1ms/step - loss: 0.0333 - acc: 0.9825 - f1: 0.9825 - precision_measure: 0.9826 - recall_measure: 0.9825 - val_loss: 1.2845 - val_acc: 0.7375 - val_f1: 0.7374 - val_precision_measure: 0.7379 - val_recall_measure: 0.7369\n"
     ]
    }
   ],
   "source": [
    "history = [] # Placeholder\n",
    "tscv = TimeSeriesSplit()\n",
    "for train_index, test_index in tscv.split(training_X):\n",
    "    X_train, X_test = training_X[train_index], training_X[test_index]\n",
    "    y_train, y_test = training_y_encoded[train_index], training_y_encoded[test_index]\n",
    "    history = model.fit(X_train, y_train, epochs = 15, batch_size = 128, class_weight = label_weights, \n",
    "                        validation_data = (X_test, y_test), shuffle = False)"
   ]
  },
  {
   "cell_type": "code",
   "execution_count": 122,
   "id": "mexican-research",
   "metadata": {},
   "outputs": [
    {
     "data": {
      "image/png": "[encoded data removed]",
      "text/plain": [
       "<Figure size 432x288 with 1 Axes>"
      ]
     },
     "metadata": {
      "needs_background": "light"
     },
     "output_type": "display_data"
    },
    {
     "data": {
      "image/png": "[encoded data removed]",
      "text/plain": [
       "<Figure size 432x288 with 1 Axes>"
      ]
     },
     "metadata": {
      "needs_background": "light"
     },
     "output_type": "display_data"
    },
    {
     "data": {
      "image/png": "[encoded data removed]",
      "text/plain": [
       "<Figure size 432x288 with 1 Axes>"
      ]
     },
     "metadata": {
      "needs_background": "light"
     },
     "output_type": "display_data"
    },
    {
     "data": {
      "image/png": "[encoded data removed]",
      "text/plain": [
       "<Figure size 432x288 with 1 Axes>"
      ]
     },
     "metadata": {
      "needs_background": "light"
     },
     "output_type": "display_data"
    },
    {
     "data": {
      "image/png": "[encoded data removed]",
      "text/plain": [
       "<Figure size 432x288 with 1 Axes>"
      ]
     },
     "metadata": {
      "needs_background": "light"
     },
     "output_type": "display_data"
    }
   ],
   "source": [
    "plot_history(history)"
   ]
  },
  {
   "cell_type": "code",
   "execution_count": 9,
   "id": "ordered-dividend",
   "metadata": {},
   "outputs": [
    {
     "name": "stdout",
     "output_type": "stream",
     "text": [
      "20716/20716 [==============================] - 11s 532us/step\n",
      "              precision    recall  f1-score   support\n",
      "\n",
      "           0       0.96      0.82      0.89     15600\n",
      "           1       0.77      0.99      0.87       784\n",
      "           2       0.90      0.99      0.94      1146\n",
      "           3       0.52      0.83      0.64      3186\n",
      "\n",
      "    accuracy                           0.84     20716\n",
      "   macro avg       0.79      0.91      0.83     20716\n",
      "weighted avg       0.88      0.84      0.85     20716\n",
      "\n"
     ]
    }
   ],
   "source": [
    "# Get prediction report\n",
    "y_pred = model.predict(X_test, batch_size = 64, verbose = 1)\n",
    "y_pred_bool = np.argmax(y_pred, axis = 1)\n",
    "print(classification_report(y_test, y_pred_bool))"
   ]
  },
  {
   "cell_type": "code",
   "execution_count": 10,
   "id": "fresh-foster",
   "metadata": {},
   "outputs": [],
   "source": [
    "validation = pd.DataFrame({'Y':val_y.flatten(), 'Prediction':y_pred_bool})\n",
    "validation = pd.DataFrame(list(zip(val_y.flatten(), y_pred_bool)), columns = ['Y', 'Prediction'])\n",
    "validation.to_csv('validation_prediction.csv')"
   ]
  },
  {
   "cell_type": "code",
   "execution_count": 123,
   "id": "comparative-guarantee",
   "metadata": {},
   "outputs": [],
   "source": [
    "# Get predictions using test data\n",
    "test_files = ['TestData/subject_009_01__x.csv', 'TestData/subject_010_01__x.csv', \n",
    "              'TestData/subject_011_01__x.csv', 'TestData/subject_012_01__x.csv']\n",
    "\n",
    "test_time_files = ['TestData/subject_009_01__x_time.csv', 'TestData/subject_010_01__x_time.csv', \n",
    "              'TestData/subject_011_01__x_time.csv', 'TestData/subject_012_01__x_time.csv']\n",
    "\n",
    "y_files = ['TestData/subject_009_01__y_time.csv', 'TestData/subject_010_01__y_time.csv',\n",
    "           'TestData/subject_011_01__y_time.csv', 'TestData/subject_012_01__y_time.csv']\n",
    "\n",
    "prediction_files = ['subject_009_01__y_prediction.csv', 'subject_010_01__y_prediction.csv',\n",
    "                    'subject_011_01__y_prediction.csv', 'subject_012_01__y_prediction.csv']"
   ]
  },
  {
   "cell_type": "code",
   "execution_count": 124,
   "id": "fifth-driving",
   "metadata": {},
   "outputs": [
    {
     "name": "stdout",
     "output_type": "stream",
     "text": [
      "37988/37988 [==============================] - 29s 758us/step\n",
      "9497\n",
      "49078/49078 [==============================] - 21s 435us/step\n",
      "12270\n",
      "51758/51758 [==============================] - 17s 324us/step\n",
      "12940\n",
      "45316/45316 [==============================] - 15s 328us/step\n",
      "11329\n"
     ]
    }
   ],
   "source": [
    "def create_dataset(X, time_steps, step):\n",
    "    X_values = []\n",
    "    for i in range(0, len(X) - time_steps, step):\n",
    "        value = X.iloc[i:(i + time_steps)].values\n",
    "        X_values.append(value)        \n",
    "    return np.array(X_values)\n",
    "\n",
    "def get_majority(y):\n",
    "    y_out = []\n",
    "    for i in range(0, y.shape[0], 4):\n",
    "        a = list(y[i:i+4])\n",
    "        y_out.append(max(a, key = a.count))\n",
    "    return np.array(y_out)\n",
    "\n",
    "for i in range(len(test_files)):\n",
    "    input_data = create_dataframe_X(test_files[i], test_time_files[i])\n",
    "    df = input_data.drop(['Time stamp'], axis = 1)\n",
    "    y_frame = pd.read_csv(y_files[i])\n",
    "    addl = y_frame.shape[0] * 4 - df.shape[0] + 30\n",
    "    addl_df = pd.DataFrame(df.iloc[-addl:])\n",
    "    df = df.append(to_add_df)\n",
    "    X_test = create_dataset(df, 30, 1)\n",
    "    y_test = model.predict(X_test, batch_size = 64, verbose = 1)\n",
    "    y_test_bool = np.argmax(y_test, axis = 1)\n",
    "    y_actual = get_majority(y_test_bool)\n",
    "    print(y_actual.size)\n",
    "    y_series = pd.Series(y_actual)\n",
    "    y_series.to_csv(\"C2_predictions/\" + prediction_files[i])"
   ]
  },
  {
   "cell_type": "code",
   "execution_count": null,
   "id": "blank-referral",
   "metadata": {},
   "outputs": [],
   "source": []
  }
 ],
 "metadata": {
  "kernelspec": {
   "display_name": "Python 3",
   "language": "python",
   "name": "python3"
  },
  "language_info": {
   "codemirror_mode": {
    "name": "ipython",
    "version": 3
   },
   "file_extension": ".py",
   "mimetype": "text/x-python",
   "name": "python",
   "nbconvert_exporter": "python",
   "pygments_lexer": "ipython3",
   "version": "3.9.2"
  }
 },
 "nbformat": 4,
 "nbformat_minor": 5
}
