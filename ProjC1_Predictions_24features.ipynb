{
 "cells": [
  {
   "cell_type": "code",
   "execution_count": 1,
   "id": "recognized-detroit",
   "metadata": {},
   "outputs": [],
   "source": [
    "#import sys\n",
    "import numpy as np\n",
    "import pandas as pd\n",
    "import tensorflow as tf\n",
    "import imblearn\n",
    "#!{sys.executable} -m pip install keras"
   ]
  },
  {
   "cell_type": "markdown",
   "id": "useful-kruger",
   "metadata": {},
   "source": [
    "# Preprocessing"
   ]
  },
  {
   "cell_type": "code",
   "execution_count": 2,
   "id": "divine-cooperative",
   "metadata": {},
   "outputs": [],
   "source": [
    "\"\"\"\n",
    "    Based on the training data given, we are able to extract 7 attributes:\n",
    "    1. x accelerometer measurement\n",
    "    2. y accelerometer measurement\n",
    "    3. z accelerometer measurement\n",
    "    4. x gyroscope measurement\n",
    "    5. y gyroscope measurement\n",
    "    6. z gyroscope measurement\n",
    "    7. time stamp for accelerometer and gyroscope measures\n",
    "    \n",
    "    We start by creating a dataframe using the csv files provided for readability.\n",
    "    \n",
    "    @param x_file: contains the xyz accelerometers and xyz gyroscope measures from the lower limb\n",
    "    @param x_time_file: contain the time stamps for the accelerometer and gyroscope measures\n",
    "    @return dataframe of 7 attributes mentioned\n",
    "\"\"\"\n",
    "def create_dataframe_X(x_file, x_time_file):\n",
    "    df1 = pd.read_csv(x_file, sep = ',', names = ['X_acc', 'Y_acc', 'Z_acc', 'X_gyr', 'Y_gyr', 'Z_gyr'])\n",
    "    df2 = pd.read_csv(x_time_file, names = ['Time stamp'])\n",
    "    frames = [df1, df2]\n",
    "    result = pd.concat(frames, axis = 1)\n",
    "    return result\n",
    "    \n",
    "\"\"\"\n",
    "    We have both the labels and the time stamps for the labels. We create a dataframe from these for\n",
    "    readability.\n",
    "    \n",
    "    @param y_file: contain the labels: \n",
    "        (0) indicates standing or walking in solid ground, \n",
    "        (1) indicates going down the stairs, \n",
    "        (2) indicates going up the stairs, and \n",
    "        (3) indicates walking on grass\n",
    "    @param y_time_file: contain the time stamps for the labels\n",
    "    @return dataframe of labels and time stamps\n",
    "\"\"\" \n",
    "def create_dataframe_Y(y_file, y_time_file):\n",
    "    df1 = pd.read_csv(y_file, names = ['Label'])\n",
    "    df2 = pd.read_csv(y_time_file, names = ['Time stamp'])\n",
    "    frames = [df1, df2]\n",
    "    result = pd.concat(frames, axis = 1)\n",
    "    return result\n",
    "    \n",
    "\"\"\"\n",
    "    We take the outputs of create_dataframe_X and create_dataframe_Y. In order to combine both of these\n",
    "    dataframes, we need look at the time intervals present for when the labels were assigned. The goal is\n",
    "    to return a dataframe that now has an eighth column in addition to the seven columns from the dataframe\n",
    "    from create_dataframe_X. Additionally, we know that x_frame contains more values than y_frame. We want to\n",
    "    map these labels accordingly. In the end, we drop data points that have missing values.\n",
    "    \n",
    "    @param x_frame: dataframe from create_dataframe_X\n",
    "    @param y_frame: dataframe from create_dataframe_Y\n",
    "    @return dataframe with 8 columns (7 attributes and label)\n",
    "\"\"\"\n",
    "def combine_frames(x_frame, y_frame):\n",
    "    # Change each dataframe column to a list for iterations\n",
    "    labels = y_frame['Label'].tolist()\n",
    "    time_stamp_y = y_frame['Time stamp'].tolist()\n",
    "    time_stamp_x = x_frame['Time stamp'].tolist()\n",
    "    \n",
    "    labels_for_x = [] # Create empty list to gather corresponding labels for x_frame\n",
    "    count = 0\n",
    "    for i in range(0, len(time_stamp_y)):\n",
    "        while (time_stamp_x[count] <= time_stamp_y[i]) and (count <= len(time_stamp_x)):\n",
    "            labels_for_x.append(labels[i])\n",
    "            count += 1\n",
    "        continue\n",
    "    \n",
    "    # Concatenate the dataframes\n",
    "    label_df = pd.DataFrame(labels_for_x, columns = ['Label']) # Convert list back to data frame\n",
    "    combined_frame = pd.concat([x_frame, label_df], axis = 1)\n",
    "    \n",
    "    # Drop missing values at the end\n",
    "    combined_frame = combined_frame.dropna()\n",
    "    \n",
    "    # Drop 'Time stamp' column\n",
    "    combined_frame = combined_frame.drop(columns = ['Time stamp'])\n",
    "    return combined_frame"
   ]
  },
  {
   "cell_type": "code",
   "execution_count": 3,
   "id": "overhead-blind",
   "metadata": {},
   "outputs": [
    {
     "name": "stdout",
     "output_type": "stream",
     "text": [
      "          X_acc     Y_acc     Z_acc     X_gyr     Y_gyr     Z_gyr  Label\n",
      "0      1.726654  9.619981  1.723327 -0.001997  0.067502  0.126057    0.0\n",
      "1      2.225759  9.493385  1.782374  0.008557  0.029333  0.073573    0.0\n",
      "2      2.010621  9.481603  1.770000 -0.004651  0.001009  0.062978    0.0\n",
      "3      1.614272  9.516440  1.798932  0.009519  0.024405  0.032554    0.0\n",
      "4      1.862582  9.353709  1.722649  0.007902  0.022794  0.020837    0.0\n",
      "...         ...       ...       ...       ...       ...       ...    ...\n",
      "70164  3.704972  8.586173  3.088743 -0.010505  0.009598 -0.004949    0.0\n",
      "70165  3.690854  8.759488  3.099146 -0.002501  0.001989  0.001526    0.0\n",
      "70166  3.939186  8.407883  3.049837  0.015672  0.011588  0.014313    0.0\n",
      "70167  3.762566  8.168921  3.062974  0.015675  0.007165  0.019624    0.0\n",
      "70168  3.729076  8.256303  3.034621 -0.005977  0.006976  0.006051    0.0\n",
      "\n",
      "[70169 rows x 7 columns]\n"
     ]
    }
   ],
   "source": [
    "x = create_dataframe_X('TrainingData/subject_001_02__x.csv', 'TrainingData/subject_001_02__x_time.csv')\n",
    "y = create_dataframe_Y('TrainingData/subject_001_02__y.csv', 'TrainingData/subject_001_02__y_time.csv')\n",
    "combined = combine_frames(x, y)\n",
    "print(combined)"
   ]
  },
  {
   "cell_type": "code",
   "execution_count": 4,
   "id": "frozen-batman",
   "metadata": {},
   "outputs": [],
   "source": [
    "\"\"\"\n",
    "    Generating data frames from training data.\n",
    "\"\"\"\n",
    "# Subject_001_01\n",
    "df_x_1_1 = create_dataframe_X('TrainingData/subject_001_01__x.csv', 'TrainingData/subject_001_01__x_time.csv')\n",
    "df_y_1_1 = create_dataframe_Y('TrainingData/subject_001_01__y.csv', 'TrainingData/subject_001_01__y_time.csv')\n",
    "frame_1_1 = combine_frames(df_x_1_1, df_y_1_1)\n",
    "\n",
    "# Subject_001_02\n",
    "df_x_1_2 = create_dataframe_X('TrainingData/subject_001_02__x.csv', 'TrainingData/subject_001_02__x_time.csv')\n",
    "df_y_1_2 = create_dataframe_Y('TrainingData/subject_001_02__y.csv', 'TrainingData/subject_001_02__y_time.csv')\n",
    "frame_1_2 = combine_frames(df_x_1_2, df_y_1_2)\n",
    "\n",
    "# Subject_001_03\n",
    "df_x_1_3 = create_dataframe_X('TrainingData/subject_001_03__x.csv', 'TrainingData/subject_001_03__x_time.csv')\n",
    "df_y_1_3 = create_dataframe_Y('TrainingData/subject_001_03__y.csv', 'TrainingData/subject_001_03__y_time.csv')\n",
    "frame_1_3 = combine_frames(df_x_1_3, df_y_1_3)\n",
    "\n",
    "# Subject_001_04\n",
    "df_x_1_4 = create_dataframe_X('TrainingData/subject_001_04__x.csv', 'TrainingData/subject_001_04__x_time.csv')\n",
    "df_y_1_4 = create_dataframe_Y('TrainingData/subject_001_04__y.csv', 'TrainingData/subject_001_04__y_time.csv')\n",
    "frame_1_4 = combine_frames(df_x_1_4, df_y_1_4)\n",
    "\n",
    "# Subject_001_05\n",
    "df_x_1_5 = create_dataframe_X('TrainingData/subject_001_05__x.csv', 'TrainingData/subject_001_05__x_time.csv')\n",
    "df_y_1_5 = create_dataframe_Y('TrainingData/subject_001_05__y.csv', 'TrainingData/subject_001_05__y_time.csv')\n",
    "frame_1_5 = combine_frames(df_x_1_5, df_y_1_5)\n",
    "\n",
    "# Subject_001_06\n",
    "df_x_1_6 = create_dataframe_X('TrainingData/subject_001_06__x.csv', 'TrainingData/subject_001_06__x_time.csv')\n",
    "df_y_1_6 = create_dataframe_Y('TrainingData/subject_001_06__y.csv', 'TrainingData/subject_001_06__y_time.csv')\n",
    "frame_1_6 = combine_frames(df_x_1_6, df_y_1_6)\n",
    "\n",
    "# Subject_001_07\n",
    "df_x_1_7 = create_dataframe_X('TrainingData/subject_001_07__x.csv', 'TrainingData/subject_001_07__x_time.csv')\n",
    "df_y_1_7 = create_dataframe_Y('TrainingData/subject_001_07__y.csv', 'TrainingData/subject_001_07__y_time.csv')\n",
    "frame_1_7 = combine_frames(df_x_1_7, df_y_1_7)\n",
    "\n",
    "# Subject_001_08\n",
    "df_x_1_8 = create_dataframe_X('TrainingData/subject_001_08__x.csv', 'TrainingData/subject_001_08__x_time.csv')\n",
    "df_y_1_8 = create_dataframe_Y('TrainingData/subject_001_08__y.csv', 'TrainingData/subject_001_08__y_time.csv')\n",
    "frame_1_8 = combine_frames(df_x_1_8, df_y_1_8)\n",
    "\n",
    "# Subject_002_01\n",
    "df_x_2_1 = create_dataframe_X('TrainingData/subject_002_01__x.csv', 'TrainingData/subject_002_01__x_time.csv')\n",
    "df_y_2_1 = create_dataframe_Y('TrainingData/subject_002_01__y.csv', 'TrainingData/subject_002_01__y_time.csv')\n",
    "frame_2_1 = combine_frames(df_x_2_1, df_y_2_1)\n",
    "\n",
    "# Subject_002_02\n",
    "df_x_2_2 = create_dataframe_X('TrainingData/subject_002_02__x.csv', 'TrainingData/subject_002_02__x_time.csv')\n",
    "df_y_2_2 = create_dataframe_Y('TrainingData/subject_002_02__y.csv', 'TrainingData/subject_002_02__y_time.csv')\n",
    "frame_2_2 = combine_frames(df_x_2_2, df_y_2_2)\n",
    "\n",
    "# Subject_002_03\n",
    "df_x_2_3 = create_dataframe_X('TrainingData/subject_002_03__x.csv', 'TrainingData/subject_002_03__x_time.csv')\n",
    "df_y_2_3 = create_dataframe_Y('TrainingData/subject_002_03__y.csv', 'TrainingData/subject_002_03__y_time.csv')\n",
    "frame_2_3 = combine_frames(df_x_2_3, df_y_2_3)\n",
    "\n",
    "# Subject_002_04\n",
    "df_x_2_4 = create_dataframe_X('TrainingData/subject_001_04__x.csv', 'TrainingData/subject_001_04__x_time.csv')\n",
    "df_y_2_4 = create_dataframe_Y('TrainingData/subject_001_04__y.csv', 'TrainingData/subject_001_04__y_time.csv')\n",
    "frame_2_4 = combine_frames(df_x_2_4, df_y_2_4)\n",
    "\n",
    "# Subject_002_05\n",
    "df_x_2_5 = create_dataframe_X('TrainingData/subject_002_05__x.csv', 'TrainingData/subject_002_05__x_time.csv')\n",
    "df_y_2_5 = create_dataframe_Y('TrainingData/subject_002_05__y.csv', 'TrainingData/subject_002_05__y_time.csv')\n",
    "frame_2_5 = combine_frames(df_x_2_5, df_y_2_5)\n",
    "\n",
    "# Subject_003_01\n",
    "df_x_3_1 = create_dataframe_X('TrainingData/subject_003_01__x.csv', 'TrainingData/subject_003_01__x_time.csv')\n",
    "df_y_3_1 = create_dataframe_Y('TrainingData/subject_003_01__y.csv', 'TrainingData/subject_003_01__y_time.csv')\n",
    "frame_3_1 = combine_frames(df_x_3_1, df_y_3_1)\n",
    "\n",
    "# Subject_003_02\n",
    "df_x_3_2 = create_dataframe_X('TrainingData/subject_003_02__x.csv', 'TrainingData/subject_003_02__x_time.csv')\n",
    "df_y_3_2 = create_dataframe_Y('TrainingData/subject_003_02__y.csv', 'TrainingData/subject_003_02__y_time.csv')\n",
    "frame_3_2 = combine_frames(df_x_3_2, df_y_3_2)\n",
    "\n",
    "# Subject_003_03\n",
    "df_x_3_3 = create_dataframe_X('TrainingData/subject_003_03__x.csv', 'TrainingData/subject_003_03__x_time.csv')\n",
    "df_y_3_3 = create_dataframe_Y('TrainingData/subject_003_03__y.csv', 'TrainingData/subject_003_03__y_time.csv')\n",
    "frame_3_3 = combine_frames(df_x_3_3, df_y_3_3)\n",
    "\n",
    "# Subject_004_01\n",
    "df_x_4_1 = create_dataframe_X('TrainingData/subject_004_01__x.csv', 'TrainingData/subject_004_01__x_time.csv')\n",
    "df_y_4_1 = create_dataframe_Y('TrainingData/subject_004_01__y.csv', 'TrainingData/subject_004_01__y_time.csv')\n",
    "frame_4_1 = combine_frames(df_x_4_1, df_y_4_1)\n",
    "\n",
    "# Subject_004_02\n",
    "df_x_4_2 = create_dataframe_X('TrainingData/subject_004_02__x.csv', 'TrainingData/subject_004_02__x_time.csv')\n",
    "df_y_4_2 = create_dataframe_Y('TrainingData/subject_004_02__y.csv', 'TrainingData/subject_004_02__y_time.csv')\n",
    "frame_4_2 = combine_frames(df_x_4_2, df_y_4_2)\n",
    "\n",
    "# Subject_005_01\n",
    "df_x_5_1 = create_dataframe_X('TrainingData/subject_005_01__x.csv', 'TrainingData/subject_005_01__x_time.csv')\n",
    "df_y_5_1 = create_dataframe_Y('TrainingData/subject_005_01__y.csv', 'TrainingData/subject_005_01__y_time.csv')\n",
    "frame_5_1 = combine_frames(df_x_5_1, df_y_5_1)\n",
    "\n",
    "# Subject_005_02\n",
    "df_x_5_2 = create_dataframe_X('TrainingData/subject_005_02__x.csv', 'TrainingData/subject_005_02__x_time.csv')\n",
    "df_y_5_2 = create_dataframe_Y('TrainingData/subject_005_02__y.csv', 'TrainingData/subject_005_02__y_time.csv')\n",
    "frame_5_2 = combine_frames(df_x_5_2, df_y_5_2)\n",
    "\n",
    "# Subject_005_03\n",
    "df_x_5_3 = create_dataframe_X('TrainingData/subject_005_03__x.csv', 'TrainingData/subject_005_03__x_time.csv')\n",
    "df_y_5_3 = create_dataframe_Y('TrainingData/subject_005_03__y.csv', 'TrainingData/subject_005_03__y_time.csv')\n",
    "frame_5_3 = combine_frames(df_x_5_3, df_y_5_3)\n",
    "\n",
    "# Subject_006_01\n",
    "df_x_6_1 = create_dataframe_X('TrainingData/subject_006_01__x.csv', 'TrainingData/subject_006_01__x_time.csv')\n",
    "df_y_6_1 = create_dataframe_Y('TrainingData/subject_006_01__y.csv', 'TrainingData/subject_006_01__y_time.csv')\n",
    "frame_6_1 = combine_frames(df_x_6_1, df_y_6_1)\n",
    "\n",
    "# Subject_006_02\n",
    "df_x_6_2 = create_dataframe_X('TrainingData/subject_006_02__x.csv', 'TrainingData/subject_006_02__x_time.csv')\n",
    "df_y_6_2 = create_dataframe_Y('TrainingData/subject_006_02__y.csv', 'TrainingData/subject_006_02__y_time.csv')\n",
    "frame_6_2 = combine_frames(df_x_6_2, df_y_6_2)\n",
    "\n",
    "# Subject_006_03\n",
    "df_x_6_3 = create_dataframe_X('TrainingData/subject_006_03__x.csv', 'TrainingData/subject_006_03__x_time.csv')\n",
    "df_y_6_3 = create_dataframe_Y('TrainingData/subject_006_03__y.csv', 'TrainingData/subject_006_03__y_time.csv')\n",
    "frame_6_3 = combine_frames(df_x_6_3, df_y_6_3)\n",
    "\n",
    "# Subject_007_01\n",
    "df_x_7_1 = create_dataframe_X('TrainingData/subject_007_01__x.csv', 'TrainingData/subject_007_01__x_time.csv')\n",
    "df_y_7_1 = create_dataframe_Y('TrainingData/subject_007_01__y.csv', 'TrainingData/subject_007_01__y_time.csv')\n",
    "frame_7_1 = combine_frames(df_x_7_1, df_y_7_1)\n",
    "\n",
    "# Subject_007_02\n",
    "df_x_7_2 = create_dataframe_X('TrainingData/subject_007_02__x.csv', 'TrainingData/subject_007_02__x_time.csv')\n",
    "df_y_7_2 = create_dataframe_Y('TrainingData/subject_007_02__y.csv', 'TrainingData/subject_007_02__y_time.csv')\n",
    "frame_7_2 = combine_frames(df_x_7_2, df_y_7_2)\n",
    "\n",
    "# Subject_007_03\n",
    "df_x_7_3 = create_dataframe_X('TrainingData/subject_007_03__x.csv', 'TrainingData/subject_007_03__x_time.csv')\n",
    "df_y_7_3 = create_dataframe_Y('TrainingData/subject_007_03__y.csv', 'TrainingData/subject_007_03__y_time.csv')\n",
    "frame_7_3 = combine_frames(df_x_7_3, df_y_7_3)\n",
    "\n",
    "# Subject_007_04\n",
    "df_x_7_4 = create_dataframe_X('TrainingData/subject_007_04__x.csv', 'TrainingData/subject_007_04__x_time.csv')\n",
    "df_y_7_4 = create_dataframe_Y('TrainingData/subject_007_04__y.csv', 'TrainingData/subject_007_04__y_time.csv')\n",
    "frame_7_4 = combine_frames(df_x_7_4, df_y_7_4)\n",
    "\n",
    "# Subject_008_01\n",
    "df_x_8_1 = create_dataframe_X('TrainingData/subject_008_01__x.csv', 'TrainingData/subject_008_01__x_time.csv')\n",
    "df_y_8_1 = create_dataframe_Y('TrainingData/subject_008_01__y.csv', 'TrainingData/subject_008_01__y_time.csv')\n",
    "frame_8_1 = combine_frames(df_x_8_1, df_y_8_1)"
   ]
  },
  {
   "cell_type": "code",
   "execution_count": 5,
   "id": "abstract-baseline",
   "metadata": {},
   "outputs": [],
   "source": [
    "\"\"\"\n",
    "    Combining all data frames.\n",
    "\"\"\"\n",
    "frame_list = [frame_1_1, frame_1_2, frame_1_3, frame_1_4, frame_1_5, frame_1_6, frame_1_7, frame_1_8,\n",
    "             frame_2_1, frame_2_2, frame_2_3, frame_2_4, frame_2_5,\n",
    "             frame_3_1, frame_3_2, frame_3_3,\n",
    "             frame_4_1, frame_4_2,\n",
    "             frame_5_1, frame_5_2, frame_5_3,\n",
    "             frame_6_1, frame_6_2, frame_6_3,\n",
    "             frame_7_1, frame_7_2, frame_7_3, frame_7_4,\n",
    "             frame_8_1]\n",
    "data = pd.concat(frame_list)"
   ]
  },
  {
   "cell_type": "code",
   "execution_count": 6,
   "id": "selective-consistency",
   "metadata": {},
   "outputs": [
    {
     "name": "stdout",
     "output_type": "stream",
     "text": [
      "          X_acc     Y_acc     Z_acc     X_gyr     Y_gyr     Z_gyr  Label\n",
      "0      4.435275  8.196063  2.974488  0.014215 -0.039157 -0.016744    0.0\n",
      "1      4.186920  8.344455  2.908057  0.005771 -0.004480 -0.003345    0.0\n",
      "2      4.544637  8.408659  2.890000  0.007967  0.022412  0.001159    0.0\n",
      "3      4.849308  8.411614  2.900692  0.027778 -0.010670 -0.014223    0.0\n",
      "4      4.509190  8.118649  2.847298  0.021577 -0.045498 -0.021111    0.0\n",
      "...         ...       ...       ...       ...       ...       ...    ...\n",
      "48132  2.098301  8.893398 -3.510000  0.001195  0.000335  0.001027    0.0\n",
      "48133  2.072244  8.908878 -3.500000  0.001351  0.001191  0.001031    0.0\n",
      "48134  2.085123  8.915123 -3.520000  0.001918 -0.001147  0.000000    0.0\n",
      "48135  2.083774  8.910000 -3.538981 -0.002015 -0.004099  0.001042    0.0\n",
      "48136  2.111447  8.908553 -3.535724  0.000183 -0.001673  0.001856    0.0\n",
      "\n",
      "[1345061 rows x 7 columns]\n"
     ]
    }
   ],
   "source": [
    "print(data)"
   ]
  },
  {
   "cell_type": "code",
   "execution_count": 7,
   "id": "graduate-chapter",
   "metadata": {},
   "outputs": [
    {
     "name": "stdout",
     "output_type": "stream",
     "text": [
      "<class 'pandas.core.frame.DataFrame'>\n",
      "<class 'pandas.core.series.Series'>\n"
     ]
    }
   ],
   "source": [
    "# Create X and y\n",
    "X = data[['X_acc', 'Y_acc', 'Z_acc', 'X_gyr', 'Y_gyr', 'Z_gyr']]\n",
    "y = data['Label']\n",
    "#oversample = SMOTE()\n",
    "print(type(X))\n",
    "print(type(y))"
   ]
  },
  {
   "cell_type": "code",
   "execution_count": 8,
   "id": "israeli-universe",
   "metadata": {},
   "outputs": [
    {
     "name": "stdout",
     "output_type": "stream",
     "text": [
      "              1         2         3         4         5         6         8   \\\n",
      "0       4.435275  8.196063  2.974488  0.014215 -0.039157 -0.016744  4.186920   \n",
      "1       4.509190  8.118649  2.847298  0.021577 -0.045498 -0.021111  4.226515   \n",
      "2       4.160676  8.260676  2.827568  0.011222 -0.016748 -0.006027  4.432763   \n",
      "3       3.931769  8.203628  2.958186 -0.015232 -0.006177  0.016877  4.524325   \n",
      "4       4.633221  8.197211  2.872404 -0.006495  0.039828  0.040343  4.788242   \n",
      "...          ...       ...       ...       ...       ...       ...       ...   \n",
      "336260  2.065920  8.890000 -3.531840  0.003673 -0.003765 -0.001882  2.040000   \n",
      "336261  2.080000  8.904528 -3.519057  0.001111 -0.002931  0.001819  2.089250   \n",
      "336262  2.098552  8.898552 -3.515724  0.000000 -0.003569 -0.002222  2.060000   \n",
      "336263  2.085576  8.891152 -3.518848 -0.005395 -0.003226 -0.001057  2.051408   \n",
      "336264  2.098301  8.893398 -3.510000  0.001195  0.000335  0.001027  2.072244   \n",
      "\n",
      "              9         10        11  ...        17        18        19  \\\n",
      "0       8.344455  2.908057  0.005771  ...  2.890000  0.007967  0.022412   \n",
      "1       8.273807  2.851742  0.012534  ...  2.856682  0.014484  0.028769   \n",
      "2       8.272613  2.790050 -0.002715  ...  2.820538 -0.002248  0.001547   \n",
      "3       8.446963  2.874356 -0.003438  ...  2.782674 -0.002790  0.012677   \n",
      "4       8.201208  2.805275 -0.009608  ...  2.847035 -0.012330  0.018727   \n",
      "...          ...       ...       ...  ...       ...       ...       ...   \n",
      "336260  8.910442 -3.528234 -0.003269  ... -3.512156 -0.003239 -0.005415   \n",
      "336261  8.900750 -3.539250  0.002040  ... -3.539476 -0.001942 -0.001111   \n",
      "336262  8.920930 -3.540930 -0.001169  ... -3.510000 -0.000049 -0.001136   \n",
      "336263  8.911408 -3.500704 -0.001219  ... -3.534900 -0.000794  0.001693   \n",
      "336264  8.908878 -3.500000  0.001351  ... -3.520000  0.001918 -0.001147   \n",
      "\n",
      "              20        22        23        24        25        26        27  \n",
      "0       0.001159  4.849308  8.411614  2.900692  0.027778 -0.010670 -0.014223  \n",
      "1      -0.011091  4.433669  8.294719  2.823521  0.016340 -0.029434 -0.008998  \n",
      "2       0.011137  4.098018  8.154184  2.901101 -0.010418 -0.042853  0.005031  \n",
      "3       0.054444  4.392814  8.239121  2.830176  0.001527  0.015576  0.052817  \n",
      "4       0.017562  4.612801  8.290000  2.845603 -0.004444  0.005675  0.003214  \n",
      "...          ...       ...       ...       ...       ...       ...       ...  \n",
      "336260 -0.001064  2.056069  8.903931 -3.516412  0.000787 -0.002222  0.000949  \n",
      "336261 -0.000280  2.104060  8.905940 -3.512179 -0.002083  0.000834 -0.001805  \n",
      "336262 -0.001111  2.095364  8.894636 -3.486954  0.000343  0.004787 -0.000768  \n",
      "336263  0.000582  2.103047  8.900000 -3.504349  0.000393  0.003299  0.001863  \n",
      "336264  0.000000  2.083774  8.910000 -3.538981 -0.002015 -0.004099  0.001042  \n",
      "\n",
      "[336265 rows x 24 columns]\n",
      "        Label\n",
      "0         0.0\n",
      "1         0.0\n",
      "2         0.0\n",
      "3         0.0\n",
      "4         0.0\n",
      "...       ...\n",
      "336260    0.0\n",
      "336261    0.0\n",
      "336262    0.0\n",
      "336263    0.0\n",
      "336264    0.0\n",
      "\n",
      "[336265 rows x 1 columns]\n"
     ]
    }
   ],
   "source": [
    "item0 = X.iloc[0::4,].reset_index()\n",
    "item1 = X.iloc[1::4,].reset_index()\n",
    "item2 = X.iloc[2::4,].reset_index()\n",
    "item3 = X.iloc[3::4,].reset_index()\n",
    "new_X = pd.concat([item0, item1, item2, item3], axis = 1, ignore_index = True)\n",
    "new_y = y.iloc[::4].reset_index()\n",
    "#print(new_X)\n",
    "#print(new_y)\n",
    "#print(new_X.iloc[0:2, 0:14])\n",
    "#print(new_X.iloc[0:2, 14:28])\n",
    "#print(new_X.iloc[0:2, ::7])\n",
    "\n",
    "new_X = new_X.dropna()\n",
    "new_X = new_X.drop(columns = [0, 7, 14, 21])\n",
    "new_y = new_y.iloc[0:336265]\n",
    "new_y = new_y.drop(columns = [\"index\"])\n",
    "print(new_X)\n",
    "print(new_y)"
   ]
  },
  {
   "cell_type": "code",
   "execution_count": 9,
   "id": "collectible-township",
   "metadata": {},
   "outputs": [
    {
     "name": "stdout",
     "output_type": "stream",
     "text": [
      "              1          2          3         4         5         6   \\\n",
      "0      -0.931978   1.150824  10.538850  4.443518  1.449658  0.937431   \n",
      "1       8.897181  -6.869992  -5.657345  3.617849  0.795477 -0.780897   \n",
      "2       9.330196  22.915230  -5.000229 -4.248560 -1.828423  0.324595   \n",
      "3      -4.193694   2.395663   8.624337  3.398952  0.073381 -0.732928   \n",
      "4       3.292324   9.915436   3.280830  5.784408  0.067339 -0.679083   \n",
      "...          ...        ...        ...       ...       ...       ...   \n",
      "58447   3.128545  -0.519814  11.584370  4.415041 -0.833713 -1.222693   \n",
      "58448 -12.750750  -7.068924  10.037950 -2.796976 -0.114285  0.778639   \n",
      "58449   2.476282   4.070074   8.641264  3.500828  1.436515 -1.176871   \n",
      "58450   4.990125   8.258702   1.902598 -0.854384 -0.068192 -0.021236   \n",
      "58451  -1.140044   9.454595   5.129984 -0.568959  0.852395  0.280907   \n",
      "\n",
      "              8          9          10        11  ...         17        18  \\\n",
      "0       0.342040   0.640000  10.404010  5.175676  ...  10.815580  5.620439   \n",
      "1      -8.809071  -3.481797   2.094920 -1.578053  ...  11.774270 -3.728639   \n",
      "2       1.214110  19.849260   9.348403 -4.346760  ...  14.656580 -3.469470   \n",
      "3      -2.503096   2.096946  10.126280  4.376418  ...  10.682490  4.914395   \n",
      "4       4.405783  10.593320   2.382686  6.280255  ...   2.239501  6.411526   \n",
      "...          ...        ...        ...       ...  ...        ...       ...   \n",
      "58447   0.745382  -0.543266  11.489610  4.809857  ...  10.733510  4.877403   \n",
      "58448 -11.385060  10.496570  14.993050 -2.067175  ...  11.307180 -1.594757   \n",
      "58449   2.489052   4.070299   9.331122  4.660241  ...   9.570243  5.549547   \n",
      "58450   0.100576   8.566462   4.133553 -0.932789  ...   5.792225 -0.925692   \n",
      "58451  -1.893223   8.513388   4.253884 -0.576500  ...   2.244594 -0.664271   \n",
      "\n",
      "             19        20        22         23         24        25        26  \\\n",
      "0      1.021552  1.279464 -0.036050  -1.471864   9.152086  5.805314  0.550576   \n",
      "1     -1.412274 -0.625922 -8.380100  28.535880  -4.083969 -0.656770  3.306867   \n",
      "2     -3.222960 -0.249272 -5.485085  10.735840  16.148350 -2.144037 -1.373014   \n",
      "3      2.487463 -0.172177  1.434496   1.462806  11.624630  5.941699  3.205086   \n",
      "4     -0.094429 -1.104388 -0.483425   8.970580   2.288946  5.711234 -0.416255   \n",
      "...         ...       ...       ...        ...        ...       ...       ...   \n",
      "58447 -1.783661 -1.736846 -2.066530  -0.016650  10.737030  4.927195 -1.851372   \n",
      "58448  2.103529  1.193513  0.137377   7.185249   9.931312 -1.402347  1.236648   \n",
      "58449  2.213091 -1.029874  7.386633   1.827574   9.671781  6.626860  1.909471   \n",
      "58450 -0.543098 -0.176426 -0.816739   8.776761   6.573435 -0.810178 -0.177498   \n",
      "58451  1.034618  0.342696  3.258174   9.095700   2.012454 -0.747876  0.891328   \n",
      "\n",
      "             27  \n",
      "0      1.484114  \n",
      "1      0.357802  \n",
      "2      0.325597  \n",
      "3      0.317472  \n",
      "4     -1.286935  \n",
      "...         ...  \n",
      "58447 -1.648768  \n",
      "58448  0.541063  \n",
      "58449 -0.847999  \n",
      "58450 -0.080125  \n",
      "58451  0.290699  \n",
      "\n",
      "[58452 rows x 24 columns]\n",
      "       Label\n",
      "0        0.0\n",
      "1        0.0\n",
      "2        0.0\n",
      "3        0.0\n",
      "4        0.0\n",
      "...      ...\n",
      "58447    3.0\n",
      "58448    3.0\n",
      "58449    3.0\n",
      "58450    3.0\n",
      "58451    3.0\n",
      "\n",
      "[58452 rows x 1 columns]\n"
     ]
    }
   ],
   "source": [
    "from imblearn.under_sampling import RandomUnderSampler\n",
    "rus = RandomUnderSampler(random_state=0)\n",
    "X_resampled, y_resampled = rus.fit_resample(new_X, new_y)\n",
    "print(X_resampled)\n",
    "print(y_resampled)"
   ]
  },
  {
   "cell_type": "code",
   "execution_count": 10,
   "id": "boring-diving",
   "metadata": {},
   "outputs": [
    {
     "name": "stdout",
     "output_type": "stream",
     "text": [
      "               1          2          3         4         5         6  \\\n",
      "0      -0.931978   1.150824  10.538850  4.443518  1.449658  0.937431   \n",
      "1       8.897181  -6.869992  -5.657345  3.617849  0.795477 -0.780897   \n",
      "2       9.330196  22.915230  -5.000229 -4.248560 -1.828423  0.324595   \n",
      "3      -4.193694   2.395663   8.624337  3.398952  0.073381 -0.732928   \n",
      "4       3.292324   9.915436   3.280830  5.784408  0.067339 -0.679083   \n",
      "...          ...        ...        ...       ...       ...       ...   \n",
      "58447   3.128545  -0.519814  11.584370  4.415041 -0.833713 -1.222693   \n",
      "58448 -12.750750  -7.068924  10.037950 -2.796976 -0.114285  0.778639   \n",
      "58449   2.476282   4.070074   8.641264  3.500828  1.436515 -1.176871   \n",
      "58450   4.990125   8.258702   1.902598 -0.854384 -0.068192 -0.021236   \n",
      "58451  -1.140044   9.454595   5.129984 -0.568959  0.852395  0.280907   \n",
      "\n",
      "               8          9         10        11  ...        18        19  \\\n",
      "0       0.342040   0.640000  10.404010  5.175676  ...  5.620439  1.021552   \n",
      "1      -8.809071  -3.481797   2.094920 -1.578053  ... -3.728639 -1.412274   \n",
      "2       1.214110  19.849260   9.348403 -4.346760  ... -3.469470 -3.222960   \n",
      "3      -2.503096   2.096946  10.126280  4.376418  ...  4.914395  2.487463   \n",
      "4       4.405783  10.593320   2.382686  6.280255  ...  6.411526 -0.094429   \n",
      "...          ...        ...        ...       ...  ...       ...       ...   \n",
      "58447   0.745382  -0.543266  11.489610  4.809857  ...  4.877403 -1.783661   \n",
      "58448 -11.385060  10.496570  14.993050 -2.067175  ... -1.594757  2.103529   \n",
      "58449   2.489052   4.070299   9.331122  4.660241  ...  5.549547  2.213091   \n",
      "58450   0.100576   8.566462   4.133553 -0.932789  ... -0.925692 -0.543098   \n",
      "58451  -1.893223   8.513388   4.253884 -0.576500  ... -0.664271  1.034618   \n",
      "\n",
      "             20        22         23         24        25        26        27  \\\n",
      "0      1.279464 -0.036050  -1.471864   9.152086  5.805314  0.550576  1.484114   \n",
      "1     -0.625922 -8.380100  28.535880  -4.083969 -0.656770  3.306867  0.357802   \n",
      "2     -0.249272 -5.485085  10.735840  16.148350 -2.144037 -1.373014  0.325597   \n",
      "3     -0.172177  1.434496   1.462806  11.624630  5.941699  3.205086  0.317472   \n",
      "4     -1.104388 -0.483425   8.970580   2.288946  5.711234 -0.416255 -1.286935   \n",
      "...         ...       ...        ...        ...       ...       ...       ...   \n",
      "58447 -1.736846 -2.066530  -0.016650  10.737030  4.927195 -1.851372 -1.648768   \n",
      "58448  1.193513  0.137377   7.185249   9.931312 -1.402347  1.236648  0.541063   \n",
      "58449 -1.029874  7.386633   1.827574   9.671781  6.626860  1.909471 -0.847999   \n",
      "58450 -0.176426 -0.816739   8.776761   6.573435 -0.810178 -0.177498 -0.080125   \n",
      "58451  0.342696  3.258174   9.095700   2.012454 -0.747876  0.891328  0.290699   \n",
      "\n",
      "       Label  \n",
      "0        0.0  \n",
      "1        0.0  \n",
      "2        0.0  \n",
      "3        0.0  \n",
      "4        0.0  \n",
      "...      ...  \n",
      "58447    3.0  \n",
      "58448    3.0  \n",
      "58449    3.0  \n",
      "58450    3.0  \n",
      "58451    3.0  \n",
      "\n",
      "[58452 rows x 25 columns]\n"
     ]
    }
   ],
   "source": [
    "data_resampled = pd.concat([X_resampled, y_resampled], axis = 1)\n",
    "print(data_resampled)"
   ]
  },
  {
   "cell_type": "markdown",
   "id": "alert-little",
   "metadata": {},
   "source": [
    "# Training, Validation, Test Sets"
   ]
  },
  {
   "cell_type": "code",
   "execution_count": 11,
   "id": "elect-pollution",
   "metadata": {},
   "outputs": [
    {
     "name": "stdout",
     "output_type": "stream",
     "text": [
      "Training:\n",
      "                1         2          3         4         5         6  \\\n",
      "27331   2.684021  5.902239   3.960992 -1.068728  0.113616 -0.135065   \n",
      "11165   4.435768  2.178142   7.088589  3.425281  0.169380 -1.571216   \n",
      "54313   1.000521  0.358844  10.525170  4.789847  1.985422  0.554309   \n",
      "15865   2.546577  8.408928   6.857072 -0.054817  0.343550  0.251634   \n",
      "45397  -3.893779 -0.750334  11.454740  5.242827  2.705046  1.335865   \n",
      "...          ...       ...        ...       ...       ...       ...   \n",
      "1115   -0.620051  9.030956   1.275923 -0.543841 -0.872618 -0.349009   \n",
      "4101    0.401814  1.858139  12.001980  5.295598  2.284205 -0.554545   \n",
      "48340  -1.301530  8.668470   1.268832 -0.733699 -0.972354 -0.224547   \n",
      "19551  14.742420 -2.004139   3.249742 -2.650505  3.852304  1.230034   \n",
      "44950   5.667555  8.399123   5.325120 -0.633430 -0.803683 -0.160945   \n",
      "\n",
      "               8         9         10        11  ...        18        19  \\\n",
      "27331   1.447139  5.602395   4.693619 -1.434231  ... -1.576595 -0.914314   \n",
      "11165   4.729639  1.964007   7.675524  4.035050  ...  5.037721  0.425558   \n",
      "54313   3.536028 -0.640265   8.935463  5.555773  ...  5.831987  0.810923   \n",
      "15865   3.585647  8.187913   5.423836  0.005448  ... -0.027064 -0.458593   \n",
      "45397   0.583758 -4.740218  10.499010  6.370040  ...  6.828296  2.568704   \n",
      "...          ...       ...        ...       ...  ...       ...       ...   \n",
      "1115   -2.877986  7.044079   1.479215 -0.723916  ... -0.927870 -0.446696   \n",
      "4101    1.338488  1.552087  12.766730  6.092764  ...  7.011380  2.632725   \n",
      "48340  -1.428690  7.683724   0.503104 -0.977253  ... -1.166791 -0.585698   \n",
      "19551  15.991300  8.343276   5.069586 -2.807355  ... -2.903185 -0.835199   \n",
      "44950   1.953335  8.194615   4.270462 -0.589658  ... -0.556154 -1.035829   \n",
      "\n",
      "             20        22         23         24        25        26        27  \\\n",
      "27331 -0.493324 -3.176794   6.520765   0.833588 -2.139801 -0.836646  0.074295   \n",
      "11165 -1.547252  0.424123   3.122213   9.005343  5.561376  0.866719 -1.441923   \n",
      "54313  0.727937  2.718257  -1.193092   9.252486  6.240690 -0.449477  0.435977   \n",
      "15865  0.046433  0.373186   7.054284   3.313704 -0.101149 -0.709368  0.014097   \n",
      "45397  2.331325  4.672149  -0.299075  12.746310  7.469323  0.458039  2.450636   \n",
      "...         ...       ...        ...        ...       ...       ...       ...   \n",
      "1115  -0.419207 -0.557028   9.246116   1.449254 -1.181305 -0.922031 -0.654273   \n",
      "4101  -0.045818  4.195475   2.482163  15.746200  7.676783  2.269166  0.152074   \n",
      "48340 -0.029691 -0.759595   9.824368   4.273276 -1.384466 -0.320099  0.076030   \n",
      "19551 -0.831930 -7.076043  14.490800  10.629060 -2.595493 -0.055263 -0.539583   \n",
      "44950 -0.170346 -0.315090   9.184811   3.505189 -0.561181 -0.968368 -0.160746   \n",
      "\n",
      "       Label  \n",
      "27331    1.0  \n",
      "11165    0.0  \n",
      "54313    3.0  \n",
      "15865    1.0  \n",
      "45397    3.0  \n",
      "...      ...  \n",
      "1115     0.0  \n",
      "4101     0.0  \n",
      "48340    3.0  \n",
      "19551    1.0  \n",
      "44950    3.0  \n",
      "\n",
      "[43839 rows x 25 columns]\n",
      "Validation:\n",
      "               1          2          3         4         5         6         8  \\\n",
      "25765  0.704543  10.901280   5.866338 -1.844300 -1.218660  0.377492 -3.849082   \n",
      "33055 -0.694742   8.693233   6.273908  0.743417 -0.501204 -0.082970 -1.279178   \n",
      "22234  4.721225  10.641430   5.672293 -1.771422 -1.027065 -0.266080  0.523227   \n",
      "55648  1.157651  -3.163440  15.457550 -4.133381  2.646774  0.862439  1.854145   \n",
      "55796  1.172066   7.244584  -0.244299 -1.388400  0.511397  0.161223  1.092120   \n",
      "...         ...        ...        ...       ...       ...       ...       ...   \n",
      "3436  -1.960026   8.183108   9.487281 -2.471348 -1.636062  0.111808  0.203514   \n",
      "19892 -1.401075  11.074040   4.009415 -2.247557 -0.942331 -0.328427 -1.583589   \n",
      "2139  -3.165805   8.305430  -0.653208 -0.715723 -0.997124 -0.140738 -3.761164   \n",
      "24417  1.175891   8.500072   5.275982 -2.442305 -0.382662 -0.718109  2.630140   \n",
      "24683 -6.703156   5.530209  10.549410  3.833398  0.587242 -0.029665 -0.922584   \n",
      "\n",
      "               9         10        11  ...        18        19        20  \\\n",
      "25765  -0.849069   8.738415  0.247620  ...  1.648066  0.020099  0.028852   \n",
      "33055   7.682694   5.819087  0.698353  ...  0.700458 -0.932304 -0.083840   \n",
      "22234  10.301660   6.555146 -1.340225  ... -1.207778 -1.051561 -0.217265   \n",
      "55648  12.761630  16.309630 -2.558911  ... -1.282210  1.178188  0.130365   \n",
      "55796   8.945449   0.318023 -1.716734  ... -2.166031  0.321706  0.112042   \n",
      "...          ...        ...       ...  ...       ...       ...       ...   \n",
      "3436    8.222532   6.991636 -1.117252  ... -1.263488  0.762035 -0.120580   \n",
      "19892   6.174867   5.803200 -2.571422  ... -3.089883 -0.969705 -0.260391   \n",
      "2139    8.119102   0.006406 -0.977718  ... -1.216523 -0.244500  0.176335   \n",
      "24417   8.852995   8.221868 -2.660766  ... -2.981640 -0.834874 -1.067597   \n",
      "24683   4.552646  12.670680  4.776964  ...  5.244251  1.771699  0.655951   \n",
      "\n",
      "              22         23         24        25        26        27  Label  \n",
      "25765 -12.146110   3.881046  12.623640  2.849029  1.306150  0.400882    1.0  \n",
      "33055  -3.508620   7.086352   5.470756  0.751230 -0.682254  0.031354    2.0  \n",
      "22234  -0.345366   9.913184   5.037245 -1.159521  0.127169 -0.061762    1.0  \n",
      "55648   1.442638   9.258290   9.239270 -0.774267  0.775700 -0.011762    3.0  \n",
      "55796   1.042599  10.381230   1.322728 -2.452983  0.153923  0.058875    3.0  \n",
      "...          ...        ...        ...       ...       ...       ...    ...  \n",
      "3436    3.403407   7.922368   4.063867  0.851039 -0.778332  0.156176    0.0  \n",
      "19892   1.788430  12.193080   5.773588 -3.355660 -1.306219 -0.340210    1.0  \n",
      "2139    2.198431   9.028274   4.817604 -1.337701 -0.246208  0.215441    0.0  \n",
      "24417   1.865604  19.874190  13.724920 -3.148271 -1.508920 -0.952249    1.0  \n",
      "24683   7.958278  -1.706113   9.317402  5.087526  0.370918  0.526366    1.0  \n",
      "\n",
      "[7306 rows x 25 columns]\n",
      "Test:\n",
      "                1          2          3         4         5         6  \\\n",
      "5       4.529190   2.441756  10.608650  5.839411  3.300385  0.448383   \n",
      "10     25.069780   9.606020   7.162625 -2.067335  3.444150  0.757161   \n",
      "11     -3.092719   9.036177   2.677937 -0.998793 -0.105356 -0.261810   \n",
      "13     -2.925221   8.295869   0.363806 -1.199252  0.150038  0.088586   \n",
      "19     -3.585952   8.021689  11.641290 -2.879605 -0.565083 -0.377137   \n",
      "...          ...        ...        ...       ...       ...       ...   \n",
      "58411   0.459674   8.961967   1.029515 -0.843777 -1.325987 -0.233630   \n",
      "58412  -4.661109   8.403633  18.771990 -2.426711 -1.325415  0.226010   \n",
      "58426  -0.009033   8.215645   2.015806 -0.347025 -0.527097  0.038423   \n",
      "58430   1.139370  11.287890   0.434312 -2.005235 -0.599011  0.145495   \n",
      "58438  -3.961234   2.152352  12.433280  6.828323 -1.798621 -1.545160   \n",
      "\n",
      "               8          9         10        11  ...        18        19  \\\n",
      "5       4.237524   2.020841  12.200910  6.710980  ...  7.251123  1.693294   \n",
      "10     13.081280   7.340094  10.139790 -1.635967  ... -1.224641 -3.605789   \n",
      "11     -1.088364   9.089777   2.308895 -1.184002  ... -1.398424  0.300701   \n",
      "13     -0.920247   8.783355   0.342385 -1.437137  ... -1.844610  0.266368   \n",
      "19     -6.946529   9.867287  12.033520 -2.501069  ... -2.035369  0.689104   \n",
      "...          ...        ...        ...       ...  ...       ...       ...   \n",
      "58411  -0.507080   8.671752  -1.063575 -1.029893  ... -1.516866 -1.250225   \n",
      "58412   7.165062   8.531060  17.595520 -2.499851  ... -0.652062  0.380767   \n",
      "58426   0.551612   7.759237   1.628897 -0.547675  ... -0.718970 -0.245872   \n",
      "58430   1.281453  10.617550   0.819073 -2.407173  ... -2.650394 -0.658382   \n",
      "58438  -5.356261   1.024872  11.760480  7.191319  ...  7.648683 -0.575807   \n",
      "\n",
      "             20         22         23         24        25        26  \\\n",
      "5      0.891586   1.650993   7.477162  12.922150  8.187883  1.004444   \n",
      "10    -1.753808 -17.541710  12.531610  10.832200 -0.618548 -3.016339   \n",
      "11    -0.063199  -0.796682   8.284425   1.394291 -1.914358  0.103143   \n",
      "13     0.129117   0.994247   9.843010   2.540680 -2.002487  0.078820   \n",
      "19    -0.064466   3.340875   9.900338   6.664226 -1.579274 -0.953224   \n",
      "...         ...        ...        ...        ...       ...       ...   \n",
      "58411 -0.026428  -2.040790   8.994359  -0.788401 -1.936474 -0.595543   \n",
      "58412 -0.401073  -2.018238   6.935137  13.186960  0.832448  0.312144   \n",
      "58426  0.197123   0.981955   8.448129   2.676829 -0.914550 -0.421809   \n",
      "58430  0.275786   5.727385  12.649300  -3.068957 -2.978361 -0.834308   \n",
      "58438 -1.747304   2.401736   2.816520  14.490760  7.878852 -1.111573   \n",
      "\n",
      "             27  Label  \n",
      "5      1.096158    0.0  \n",
      "10    -0.981569    0.0  \n",
      "11    -0.035110    0.0  \n",
      "13     0.022939    0.0  \n",
      "19    -0.345866    0.0  \n",
      "...         ...    ...  \n",
      "58411  0.240956    3.0  \n",
      "58412 -0.874186    3.0  \n",
      "58426  0.226723    3.0  \n",
      "58430  0.310544    3.0  \n",
      "58438 -1.880790    3.0  \n",
      "\n",
      "[7307 rows x 25 columns]\n"
     ]
    }
   ],
   "source": [
    "\"\"\"\n",
    "    Creating training, validation, and test sets from a data frame.\n",
    "    \n",
    "    @param frame: dataframe passed in\n",
    "    @return training, validation, and test sets created from frame passed in\n",
    "\"\"\"\n",
    "def training_validation_test_split(frame):\n",
    "    frame_copy = frame.copy()\n",
    "    training_set = frame_copy.sample(frac = 0.75, random_state = 0)\n",
    "    val_temp = frame_copy.drop(training_set.index)\n",
    "    validation_set = val_temp.sample(frac = 0.5, random_state = 0)\n",
    "    test_set = val_temp.drop(validation_set.index)\n",
    "    return training_set, validation_set, test_set\n",
    "\n",
    "training, val, test = training_validation_test_split(data_resampled)\n",
    "\n",
    "print(\"Training:\\n\", training)\n",
    "print(\"Validation:\\n\", val)\n",
    "print(\"Test:\\n\", test)"
   ]
  },
  {
   "cell_type": "code",
   "execution_count": 12,
   "id": "herbal-correspondence",
   "metadata": {},
   "outputs": [],
   "source": [
    "import keras\n",
    "from keras.utils import to_categorical\n",
    "from keras.models import Sequential\n",
    "from keras.layers import Conv1D, MaxPooling1D, Conv2D, MaxPooling2D, Flatten, Dense, Activation, BatchNormalization, Dropout\n",
    "\n",
    "from tensorflow.keras import regularizers\n",
    "\n",
    "from keras.optimizers import SGD, Adam, RMSprop\n",
    "\n",
    "from sklearn.model_selection import GridSearchCV\n",
    "from keras.wrappers.scikit_learn import KerasClassifier"
   ]
  },
  {
   "cell_type": "code",
   "execution_count": 13,
   "id": "warming-brazilian",
   "metadata": {},
   "outputs": [
    {
     "name": "stdout",
     "output_type": "stream",
     "text": [
      "Model: \"sequential\"\n",
      "_________________________________________________________________\n",
      "Layer (type)                 Output Shape              Param #   \n",
      "=================================================================\n",
      "conv1d (Conv1D)              (None, 23, 128)           384       \n",
      "_________________________________________________________________\n",
      "max_pooling1d (MaxPooling1D) (None, 11, 128)           0         \n",
      "_________________________________________________________________\n",
      "flatten (Flatten)            (None, 1408)              0         \n",
      "_________________________________________________________________\n",
      "dense (Dense)                (None, 64)                90176     \n",
      "_________________________________________________________________\n",
      "dense_1 (Dense)              (None, 4)                 260       \n",
      "=================================================================\n",
      "Total params: 90,820\n",
      "Trainable params: 90,820\n",
      "Non-trainable params: 0\n",
      "_________________________________________________________________\n"
     ]
    }
   ],
   "source": [
    "# Define a CNN model\n",
    "# from https://www.datatechnotes.com/2020/02/classification-example-with-keras-cnn.html\n",
    "def define_CNN_model():\n",
    "    model = Sequential()\n",
    "    \n",
    "    model.add(Conv1D(128, 2, activation=\"relu\", input_shape=(24,1)))\n",
    "    model.add(MaxPooling1D())\n",
    "    model.add(Flatten())   \n",
    "    model.add(Dense(64, activation=\"relu\"))\n",
    "    model.add(Dense(4, activation = 'softmax'))\n",
    "    model.compile(loss = 'categorical_crossentropy', optimizer = \"adam\", metrics = ['accuracy'])    \n",
    "    \n",
    "    return model\n",
    "\n",
    "# Creating an instance\n",
    "base_model = define_CNN_model()\n",
    "base_model.summary()"
   ]
  },
  {
   "cell_type": "code",
   "execution_count": 14,
   "id": "weighted-remove",
   "metadata": {},
   "outputs": [
    {
     "name": "stdout",
     "output_type": "stream",
     "text": [
      "Epoch 1/50\n",
      "   7/1370 [..............................] - ETA: 11s - loss: 1.5485 - accuracy: 0.2411"
     ]
    },
    {
     "name": "stderr",
     "output_type": "stream",
     "text": [
      "C:\\Users\\User1\\anaconda3\\envs\\tensorflow_env\\lib\\site-packages\\tensorflow\\python\\data\\ops\\dataset_ops.py:3349: UserWarning: Even though the tf.config.experimental_run_functions_eagerly option is set, this option does not apply to tf.data functions. tf.data functions are still traced and executed as graphs.\n",
      "  warnings.warn(\n",
      "C:\\Users\\User1\\anaconda3\\envs\\tensorflow_env\\lib\\site-packages\\tensorflow\\python\\data\\ops\\dataset_ops.py:3349: UserWarning: Even though the tf.config.experimental_run_functions_eagerly option is set, this option does not apply to tf.data functions. tf.data functions are still traced and executed as graphs.\n",
      "  warnings.warn(\n"
     ]
    },
    {
     "name": "stdout",
     "output_type": "stream",
     "text": [
      "1367/1370 [============================>.] - ETA: 0s - loss: 1.0149 - accuracy: 0.5383"
     ]
    },
    {
     "name": "stderr",
     "output_type": "stream",
     "text": [
      "C:\\Users\\User1\\anaconda3\\envs\\tensorflow_env\\lib\\site-packages\\tensorflow\\python\\data\\ops\\dataset_ops.py:3349: UserWarning: Even though the tf.config.experimental_run_functions_eagerly option is set, this option does not apply to tf.data functions. tf.data functions are still traced and executed as graphs.\n",
      "  warnings.warn(\n"
     ]
    },
    {
     "name": "stdout",
     "output_type": "stream",
     "text": [
      "1370/1370 [==============================] - 13s 9ms/step - loss: 1.0144 - accuracy: 0.5386 - val_loss: 0.8600 - val_accuracy: 0.6158\n",
      "Epoch 2/50\n",
      "1370/1370 [==============================] - 13s 9ms/step - loss: 0.8190 - accuracy: 0.6352 - val_loss: 0.7798 - val_accuracy: 0.6434\n",
      "Epoch 3/50\n",
      "1370/1370 [==============================] - 12s 9ms/step - loss: 0.7684 - accuracy: 0.6623 - val_loss: 0.7422 - val_accuracy: 0.6738\n",
      "Epoch 4/50\n",
      "1370/1370 [==============================] - 12s 9ms/step - loss: 0.7382 - accuracy: 0.6775 - val_loss: 0.7090 - val_accuracy: 0.6931\n",
      "Epoch 5/50\n",
      "1370/1370 [==============================] - 12s 9ms/step - loss: 0.7184 - accuracy: 0.6873 - val_loss: 0.7008 - val_accuracy: 0.6956\n",
      "Epoch 6/50\n",
      "1370/1370 [==============================] - 12s 9ms/step - loss: 0.6999 - accuracy: 0.6986 - val_loss: 0.7167 - val_accuracy: 0.6945\n",
      "Epoch 7/50\n",
      "1370/1370 [==============================] - 12s 9ms/step - loss: 0.6879 - accuracy: 0.7029 - val_loss: 0.6779 - val_accuracy: 0.7106\n",
      "Epoch 8/50\n",
      "1370/1370 [==============================] - 12s 9ms/step - loss: 0.6749 - accuracy: 0.7078 - val_loss: 0.6817 - val_accuracy: 0.7085\n",
      "Epoch 9/50\n",
      "1370/1370 [==============================] - 12s 9ms/step - loss: 0.6628 - accuracy: 0.7157 - val_loss: 0.6884 - val_accuracy: 0.7057\n",
      "Epoch 10/50\n",
      "1370/1370 [==============================] - 12s 9ms/step - loss: 0.6556 - accuracy: 0.7179 - val_loss: 0.6639 - val_accuracy: 0.7064\n",
      "Epoch 11/50\n",
      "1370/1370 [==============================] - 13s 9ms/step - loss: 0.6486 - accuracy: 0.7215 - val_loss: 0.6631 - val_accuracy: 0.7123\n",
      "Epoch 12/50\n",
      "1370/1370 [==============================] - 14s 10ms/step - loss: 0.6418 - accuracy: 0.7266 - val_loss: 0.6426 - val_accuracy: 0.7228\n",
      "Epoch 13/50\n",
      "1370/1370 [==============================] - 12s 9ms/step - loss: 0.6353 - accuracy: 0.7276 - val_loss: 0.6444 - val_accuracy: 0.7212\n",
      "Epoch 14/50\n",
      "1370/1370 [==============================] - 12s 9ms/step - loss: 0.6285 - accuracy: 0.7275 - val_loss: 0.6395 - val_accuracy: 0.7257\n",
      "Epoch 15/50\n",
      "1370/1370 [==============================] - 12s 9ms/step - loss: 0.6244 - accuracy: 0.7297 - val_loss: 0.6395 - val_accuracy: 0.7232\n",
      "Epoch 16/50\n",
      "1370/1370 [==============================] - 12s 9ms/step - loss: 0.6176 - accuracy: 0.7308 - val_loss: 0.6351 - val_accuracy: 0.7287\n",
      "Epoch 17/50\n",
      "1370/1370 [==============================] - 12s 9ms/step - loss: 0.6159 - accuracy: 0.7324 - val_loss: 0.6261 - val_accuracy: 0.7316\n",
      "Epoch 18/50\n",
      "1370/1370 [==============================] - 13s 9ms/step - loss: 0.6112 - accuracy: 0.7356 - val_loss: 0.6222 - val_accuracy: 0.7336\n",
      "Epoch 19/50\n",
      "1370/1370 [==============================] - 12s 9ms/step - loss: 0.6061 - accuracy: 0.7372 - val_loss: 0.6283 - val_accuracy: 0.7280\n",
      "Epoch 20/50\n",
      "1370/1370 [==============================] - 12s 9ms/step - loss: 0.6038 - accuracy: 0.7379 - val_loss: 0.6303 - val_accuracy: 0.7258\n",
      "Epoch 21/50\n",
      "1370/1370 [==============================] - 12s 9ms/step - loss: 0.6009 - accuracy: 0.7395 - val_loss: 0.6428 - val_accuracy: 0.7243\n",
      "Epoch 22/50\n",
      "1370/1370 [==============================] - 12s 9ms/step - loss: 0.5971 - accuracy: 0.7402 - val_loss: 0.6215 - val_accuracy: 0.7342\n",
      "Epoch 23/50\n",
      "1370/1370 [==============================] - 12s 9ms/step - loss: 0.5940 - accuracy: 0.7416 - val_loss: 0.6113 - val_accuracy: 0.7394\n",
      "Epoch 24/50\n",
      "1370/1370 [==============================] - 12s 9ms/step - loss: 0.5941 - accuracy: 0.7426 - val_loss: 0.6217 - val_accuracy: 0.7312\n",
      "Epoch 25/50\n",
      "1370/1370 [==============================] - 12s 9ms/step - loss: 0.5898 - accuracy: 0.7433 - val_loss: 0.6192 - val_accuracy: 0.7294\n",
      "Epoch 26/50\n",
      "1370/1370 [==============================] - 12s 9ms/step - loss: 0.5857 - accuracy: 0.7446 - val_loss: 0.6212 - val_accuracy: 0.7346\n",
      "Epoch 27/50\n",
      "1370/1370 [==============================] - 12s 9ms/step - loss: 0.5840 - accuracy: 0.7470 - val_loss: 0.6194 - val_accuracy: 0.7375\n",
      "Epoch 28/50\n",
      "1370/1370 [==============================] - 12s 9ms/step - loss: 0.5812 - accuracy: 0.7464 - val_loss: 0.6149 - val_accuracy: 0.7372\n",
      "Epoch 29/50\n",
      "1370/1370 [==============================] - 12s 9ms/step - loss: 0.5805 - accuracy: 0.7486 - val_loss: 0.6125 - val_accuracy: 0.7328\n",
      "Epoch 30/50\n",
      "1370/1370 [==============================] - 12s 9ms/step - loss: 0.5777 - accuracy: 0.7480 - val_loss: 0.6163 - val_accuracy: 0.7341\n",
      "Epoch 31/50\n",
      "1370/1370 [==============================] - 12s 9ms/step - loss: 0.5763 - accuracy: 0.7477 - val_loss: 0.6104 - val_accuracy: 0.7373\n",
      "Epoch 32/50\n",
      "1370/1370 [==============================] - 12s 9ms/step - loss: 0.5744 - accuracy: 0.7493 - val_loss: 0.6100 - val_accuracy: 0.7438\n",
      "Epoch 33/50\n",
      "1370/1370 [==============================] - 12s 9ms/step - loss: 0.5718 - accuracy: 0.7494 - val_loss: 0.6201 - val_accuracy: 0.7302\n",
      "Epoch 34/50\n",
      "1370/1370 [==============================] - 12s 9ms/step - loss: 0.5702 - accuracy: 0.7508 - val_loss: 0.6143 - val_accuracy: 0.7358\n",
      "Epoch 35/50\n",
      "1370/1370 [==============================] - 12s 9ms/step - loss: 0.5667 - accuracy: 0.7513 - val_loss: 0.6055 - val_accuracy: 0.7383\n",
      "Epoch 36/50\n",
      "1370/1370 [==============================] - 12s 9ms/step - loss: 0.5650 - accuracy: 0.7535 - val_loss: 0.6174 - val_accuracy: 0.7360\n",
      "Epoch 37/50\n",
      "1370/1370 [==============================] - 12s 9ms/step - loss: 0.5658 - accuracy: 0.7532 - val_loss: 0.6104 - val_accuracy: 0.7350\n",
      "Epoch 38/50\n",
      "1370/1370 [==============================] - 12s 9ms/step - loss: 0.5617 - accuracy: 0.7542 - val_loss: 0.6149 - val_accuracy: 0.7341\n",
      "Epoch 39/50\n",
      "1370/1370 [==============================] - 12s 9ms/step - loss: 0.5600 - accuracy: 0.7533 - val_loss: 0.6051 - val_accuracy: 0.7356\n",
      "Epoch 40/50\n",
      "1370/1370 [==============================] - 12s 9ms/step - loss: 0.5585 - accuracy: 0.7550 - val_loss: 0.6002 - val_accuracy: 0.7413\n",
      "Epoch 41/50\n",
      "1370/1370 [==============================] - 12s 9ms/step - loss: 0.5603 - accuracy: 0.7551 - val_loss: 0.5948 - val_accuracy: 0.7442\n",
      "Epoch 42/50\n",
      "1370/1370 [==============================] - 12s 9ms/step - loss: 0.5556 - accuracy: 0.7557 - val_loss: 0.6133 - val_accuracy: 0.7386\n",
      "Epoch 43/50\n",
      "1370/1370 [==============================] - 12s 9ms/step - loss: 0.5539 - accuracy: 0.7572 - val_loss: 0.5963 - val_accuracy: 0.7390\n",
      "Epoch 44/50\n",
      "1370/1370 [==============================] - 12s 9ms/step - loss: 0.5540 - accuracy: 0.7578 - val_loss: 0.5984 - val_accuracy: 0.7413\n",
      "Epoch 45/50\n",
      "1370/1370 [==============================] - 12s 9ms/step - loss: 0.5493 - accuracy: 0.7604 - val_loss: 0.6497 - val_accuracy: 0.7357\n",
      "Epoch 46/50\n",
      "1370/1370 [==============================] - 12s 9ms/step - loss: 0.5483 - accuracy: 0.7587 - val_loss: 0.6113 - val_accuracy: 0.7399\n",
      "Epoch 47/50\n",
      "1370/1370 [==============================] - 12s 9ms/step - loss: 0.5474 - accuracy: 0.7586 - val_loss: 0.6140 - val_accuracy: 0.7382\n",
      "Epoch 48/50\n",
      "1370/1370 [==============================] - 12s 9ms/step - loss: 0.5462 - accuracy: 0.7620 - val_loss: 0.6014 - val_accuracy: 0.7413\n",
      "Epoch 49/50\n",
      "1370/1370 [==============================] - 12s 9ms/step - loss: 0.5430 - accuracy: 0.7641 - val_loss: 0.6039 - val_accuracy: 0.7382\n",
      "Epoch 50/50\n",
      "1370/1370 [==============================] - 12s 9ms/step - loss: 0.5422 - accuracy: 0.7625 - val_loss: 0.5933 - val_accuracy: 0.7465\n"
     ]
    }
   ],
   "source": [
    "# Create X and y for training and validation data\n",
    "training_X = training[[1, 2, 3, 4, 5, 6, 8, 9, 10, 11, 12, 13, 15, 16, 17, 18, 19, 20, 22, 23, 24, 25, 26, 27]]\n",
    "training_y = training['Label']\n",
    "training_y_encoded = to_categorical(training_y)\n",
    "\n",
    "val_X = val[[1, 2, 3, 4, 5, 6, 8, 9, 10, 11, 12, 13, 15, 16, 17, 18, 19, 20, 22, 23, 24, 25, 26, 27]]\n",
    "val_y = val['Label']\n",
    "val_y_encoded = to_categorical(val_y)\n",
    "\n",
    "tf.config.run_functions_eagerly(True)\n",
    "base_history = base_model.fit(training_X, training_y_encoded, epochs = 50, validation_data = (val_X, val_y_encoded), verbose = 1)"
   ]
  },
  {
   "cell_type": "code",
   "execution_count": 14,
   "id": "eastern-seventh",
   "metadata": {},
   "outputs": [
    {
     "ename": "NameError",
     "evalue": "name 'base_history' is not defined",
     "output_type": "error",
     "traceback": [
      "\u001b[1;31m---------------------------------------------------------------------------\u001b[0m",
      "\u001b[1;31mNameError\u001b[0m                                 Traceback (most recent call last)",
      "\u001b[1;32m<ipython-input-14-980d9664e55c>\u001b[0m in \u001b[0;36m<module>\u001b[1;34m\u001b[0m\n\u001b[0;32m     20\u001b[0m     \u001b[0mplt\u001b[0m\u001b[1;33m.\u001b[0m\u001b[0mshow\u001b[0m\u001b[1;33m(\u001b[0m\u001b[1;33m)\u001b[0m\u001b[1;33m\u001b[0m\u001b[1;33m\u001b[0m\u001b[0m\n\u001b[0;32m     21\u001b[0m \u001b[1;33m\u001b[0m\u001b[0m\n\u001b[1;32m---> 22\u001b[1;33m \u001b[0mplot_history\u001b[0m\u001b[1;33m(\u001b[0m\u001b[0mbase_history\u001b[0m\u001b[1;33m)\u001b[0m\u001b[1;33m\u001b[0m\u001b[1;33m\u001b[0m\u001b[0m\n\u001b[0m",
      "\u001b[1;31mNameError\u001b[0m: name 'base_history' is not defined"
     ]
    }
   ],
   "source": [
    "# Defining a function for plotting training and validation learning curves\n",
    "import matplotlib.pyplot as plt\n",
    "def plot_history(history):\n",
    "\t  # plot loss\n",
    "    plt.title('Loss')\n",
    "    plt.plot(history.history['loss'], color='blue', label='train')\n",
    "    plt.plot(history.history['val_loss'], color='red', label='test')\n",
    "    plt.ylabel('Loss')\n",
    "    plt.xlabel('Epoch')\n",
    "    plt.legend(['Train', 'Validation'])\n",
    "    plt.show()\n",
    "    \n",
    "    # plot accuracy\n",
    "    plt.title('Accuracy')\n",
    "    plt.plot(history.history['accuracy'], color='blue', label='train')\n",
    "    plt.plot(history.history['val_accuracy'], color='red', label='test')\n",
    "    plt.ylabel('Accuracy')\n",
    "    plt.xlabel('Epoch')\n",
    "    plt.legend(['Train', 'Validation'])\n",
    "    plt.show()\n",
    "  \n",
    "plot_history(base_history)"
   ]
  },
  {
   "cell_type": "code",
   "execution_count": 22,
   "id": "ethical-upgrade",
   "metadata": {},
   "outputs": [
    {
     "name": "stdout",
     "output_type": "stream",
     "text": [
      "Model: \"sequential_7\"\n",
      "_________________________________________________________________\n",
      "Layer (type)                 Output Shape              Param #   \n",
      "=================================================================\n",
      "conv1d_1 (Conv1D)            (None, 23, 128)           384       \n",
      "_________________________________________________________________\n",
      "max_pooling1d_1 (MaxPooling1 (None, 11, 128)           0         \n",
      "_________________________________________________________________\n",
      "flatten_1 (Flatten)          (None, 1408)              0         \n",
      "_________________________________________________________________\n",
      "dropout (Dropout)            (None, 1408)              0         \n",
      "_________________________________________________________________\n",
      "dense_2 (Dense)              (None, 64)                90176     \n",
      "_________________________________________________________________\n",
      "dropout_1 (Dropout)          (None, 64)                0         \n",
      "_________________________________________________________________\n",
      "dense_3 (Dense)              (None, 4)                 260       \n",
      "=================================================================\n",
      "Total params: 90,820\n",
      "Trainable params: 90,820\n",
      "Non-trainable params: 0\n",
      "_________________________________________________________________\n"
     ]
    }
   ],
   "source": [
    "# Define a CNN model\n",
    "# from https://www.datatechnotes.com/2020/02/classification-example-with-keras-cnn.html\n",
    "def define_CNN_model(drop_rate, l1_value, l2_value):\n",
    "    model = Sequential()\n",
    "    \n",
    "    model.add(Conv1D(128, 2, activation=\"relu\", kernel_regularizer=regularizers.l1_l2(l1=l1_value, l2=l2_value), input_shape=(24,1)))\n",
    "    model.add(MaxPooling1D())\n",
    "    model.add(Flatten())   \n",
    "    model.add(Dropout(rate = drop_rate))\n",
    "    model.add(Dense(64, activation=\"relu\"))\n",
    "    model.add(Dropout(rate = drop_rate))\n",
    "    model.add(Dense(4, activation = 'softmax'))\n",
    "    model.compile(loss = 'categorical_crossentropy', optimizer = \"adam\", metrics = ['accuracy'])    \n",
    "    \n",
    "    return model\n",
    "\n",
    "# Creating an instance\n",
    "model_d3 = define_CNN_model(0.1, 0.01, 0.01)\n",
    "model_d3.summary()"
   ]
  },
  {
   "cell_type": "code",
   "execution_count": 26,
   "id": "preceding-attachment",
   "metadata": {},
   "outputs": [
    {
     "name": "stdout",
     "output_type": "stream",
     "text": [
      "Epoch 1/25\n",
      "  18/1370 [..............................] - ETA: 12s - loss: 1.8052 - accuracy: 0.2674"
     ]
    },
    {
     "name": "stderr",
     "output_type": "stream",
     "text": [
      "C:\\Users\\User1\\anaconda3\\envs\\tensorflow_env\\lib\\site-packages\\tensorflow\\python\\data\\ops\\dataset_ops.py:3349: UserWarning: Even though the tf.config.experimental_run_functions_eagerly option is set, this option does not apply to tf.data functions. tf.data functions are still traced and executed as graphs.\n",
      "  warnings.warn(\n"
     ]
    },
    {
     "name": "stdout",
     "output_type": "stream",
     "text": [
      "1367/1370 [============================>.] - ETA: 0s - loss: 1.2015 - accuracy: 0.4812"
     ]
    },
    {
     "name": "stderr",
     "output_type": "stream",
     "text": [
      "C:\\Users\\User1\\anaconda3\\envs\\tensorflow_env\\lib\\site-packages\\tensorflow\\python\\data\\ops\\dataset_ops.py:3349: UserWarning: Even though the tf.config.experimental_run_functions_eagerly option is set, this option does not apply to tf.data functions. tf.data functions are still traced and executed as graphs.\n",
      "  warnings.warn(\n"
     ]
    },
    {
     "name": "stdout",
     "output_type": "stream",
     "text": [
      "1370/1370 [==============================] - 14s 10ms/step - loss: 1.2012 - accuracy: 0.4812 - val_loss: 1.0175 - val_accuracy: 0.5723\n",
      "Epoch 2/25\n",
      "1370/1370 [==============================] - 14s 10ms/step - loss: 0.9824 - accuracy: 0.5808 - val_loss: 0.9092 - val_accuracy: 0.6250\n",
      "Epoch 3/25\n",
      "1370/1370 [==============================] - 14s 10ms/step - loss: 0.9138 - accuracy: 0.6189 - val_loss: 0.8597 - val_accuracy: 0.6330\n",
      "Epoch 4/25\n",
      "1370/1370 [==============================] - 14s 10ms/step - loss: 0.8756 - accuracy: 0.6344 - val_loss: 0.7991 - val_accuracy: 0.6729\n",
      "Epoch 5/25\n",
      "1370/1370 [==============================] - 14s 10ms/step - loss: 0.8490 - accuracy: 0.6455 - val_loss: 0.7891 - val_accuracy: 0.6833\n",
      "Epoch 6/25\n",
      "1370/1370 [==============================] - 14s 10ms/step - loss: 0.8331 - accuracy: 0.6541 - val_loss: 0.7703 - val_accuracy: 0.6774\n",
      "Epoch 7/25\n",
      "1370/1370 [==============================] - 14s 10ms/step - loss: 0.8149 - accuracy: 0.6602 - val_loss: 0.7485 - val_accuracy: 0.6931\n",
      "Epoch 8/25\n",
      "1370/1370 [==============================] - 14s 10ms/step - loss: 0.8007 - accuracy: 0.6663 - val_loss: 0.7357 - val_accuracy: 0.7011\n",
      "Epoch 9/25\n",
      "1370/1370 [==============================] - 14s 10ms/step - loss: 0.7931 - accuracy: 0.6692 - val_loss: 0.7276 - val_accuracy: 0.7012\n",
      "Epoch 10/25\n",
      "1370/1370 [==============================] - 14s 10ms/step - loss: 0.7816 - accuracy: 0.6751 - val_loss: 0.7263 - val_accuracy: 0.7018\n",
      "Epoch 11/25\n",
      "1370/1370 [==============================] - 14s 10ms/step - loss: 0.7755 - accuracy: 0.6778 - val_loss: 0.7115 - val_accuracy: 0.7048\n",
      "Epoch 12/25\n",
      "1370/1370 [==============================] - 14s 10ms/step - loss: 0.7668 - accuracy: 0.6807 - val_loss: 0.7164 - val_accuracy: 0.7104\n",
      "Epoch 13/25\n",
      "1370/1370 [==============================] - 14s 10ms/step - loss: 0.7615 - accuracy: 0.6856 - val_loss: 0.7063 - val_accuracy: 0.7093\n",
      "Epoch 14/25\n",
      "1370/1370 [==============================] - 14s 10ms/step - loss: 0.7546 - accuracy: 0.6858 - val_loss: 0.7011 - val_accuracy: 0.7183\n",
      "Epoch 15/25\n",
      "1370/1370 [==============================] - 15s 11ms/step - loss: 0.7517 - accuracy: 0.6881 - val_loss: 0.7043 - val_accuracy: 0.7091\n",
      "Epoch 16/25\n",
      "1370/1370 [==============================] - 14s 10ms/step - loss: 0.7474 - accuracy: 0.6894 - val_loss: 0.6940 - val_accuracy: 0.7164\n",
      "Epoch 17/25\n",
      "1370/1370 [==============================] - 14s 10ms/step - loss: 0.7413 - accuracy: 0.6927 - val_loss: 0.6838 - val_accuracy: 0.7205\n",
      "Epoch 18/25\n",
      "1370/1370 [==============================] - 14s 10ms/step - loss: 0.7400 - accuracy: 0.6921 - val_loss: 0.6874 - val_accuracy: 0.7208\n",
      "Epoch 19/25\n",
      "1370/1370 [==============================] - 14s 10ms/step - loss: 0.7354 - accuracy: 0.6955 - val_loss: 0.6882 - val_accuracy: 0.7245\n",
      "Epoch 20/25\n",
      "1370/1370 [==============================] - 14s 10ms/step - loss: 0.7318 - accuracy: 0.6961 - val_loss: 0.6754 - val_accuracy: 0.7241\n",
      "Epoch 21/25\n",
      "1370/1370 [==============================] - 14s 10ms/step - loss: 0.7324 - accuracy: 0.6942 - val_loss: 0.6842 - val_accuracy: 0.7223\n",
      "Epoch 22/25\n",
      "1370/1370 [==============================] - 14s 10ms/step - loss: 0.7258 - accuracy: 0.6968 - val_loss: 0.6868 - val_accuracy: 0.7231\n",
      "Epoch 23/25\n",
      "1370/1370 [==============================] - 14s 10ms/step - loss: 0.7256 - accuracy: 0.6997 - val_loss: 0.6809 - val_accuracy: 0.7254\n",
      "Epoch 24/25\n",
      "1370/1370 [==============================] - 14s 10ms/step - loss: 0.7231 - accuracy: 0.7001 - val_loss: 0.6890 - val_accuracy: 0.7190\n",
      "Epoch 25/25\n",
      "1370/1370 [==============================] - 14s 10ms/step - loss: 0.7221 - accuracy: 0.7004 - val_loss: 0.6872 - val_accuracy: 0.7195\n"
     ]
    }
   ],
   "source": [
    "# Create X and y for training and validation data\n",
    "training_X = training[[1, 2, 3, 4, 5, 6, 8, 9, 10, 11, 12, 13, 15, 16, 17, 18, 19, 20, 22, 23, 24, 25, 26, 27]]\n",
    "training_y = training['Label']\n",
    "training_y_encoded = to_categorical(training_y)\n",
    "\n",
    "val_X = val[[1, 2, 3, 4, 5, 6, 8, 9, 10, 11, 12, 13, 15, 16, 17, 18, 19, 20, 22, 23, 24, 25, 26, 27]]\n",
    "val_y = val['Label']\n",
    "val_y_encoded = to_categorical(val_y)\n",
    "\n",
    "tf.config.run_functions_eagerly(True)\n",
    "\n",
    "# Creating an instance & training w/ drop_rate = 0.1\n",
    "model_d1 = define_CNN_model(0.1, 0.01, 0.01)\n",
    "model_d1_history = model_d1.fit(training_X, training_y_encoded, epochs = 25, validation_data = (val_X, val_y_encoded), verbose = 1)"
   ]
  },
  {
   "cell_type": "code",
   "execution_count": 55,
   "id": "danish-characterization",
   "metadata": {},
   "outputs": [
    {
     "data": {
      "image/png": "[encoded data removed]",
      "text/plain": [
       "<Figure size 432x288 with 1 Axes>"
      ]
     },
     "metadata": {
      "needs_background": "light"
     },
     "output_type": "display_data"
    },
    {
     "data": {
      "image/png": "[encoded data removed]",
      "text/plain": [
       "<Figure size 432x288 with 1 Axes>"
      ]
     },
     "metadata": {
      "needs_background": "light"
     },
     "output_type": "display_data"
    },
    {
     "data": {
      "text/plain": [
       "0.7218724370002747"
      ]
     },
     "execution_count": 55,
     "metadata": {},
     "output_type": "execute_result"
    }
   ],
   "source": [
    "# test the Loss + Accuracy plot\n",
    "plot_history(model_d1_history)\n",
    "\n",
    "# test for the performance matrics\n",
    "import statistics as st\n",
    "st.mean(model_d1_history.history['val_accuracy'][20:25])"
   ]
  },
  {
   "cell_type": "code",
   "execution_count": 29,
   "id": "finite-ranking",
   "metadata": {},
   "outputs": [
    {
     "name": "stdout",
     "output_type": "stream",
     "text": [
      " 77/115 [===================>..........] - ETA: 0s"
     ]
    },
    {
     "name": "stderr",
     "output_type": "stream",
     "text": [
      "C:\\Users\\User1\\anaconda3\\envs\\tensorflow_env\\lib\\site-packages\\tensorflow\\python\\data\\ops\\dataset_ops.py:3349: UserWarning: Even though the tf.config.experimental_run_functions_eagerly option is set, this option does not apply to tf.data functions. tf.data functions are still traced and executed as graphs.\n",
      "  warnings.warn(\n"
     ]
    },
    {
     "name": "stdout",
     "output_type": "stream",
     "text": [
      "115/115 [==============================] - 0s 2ms/step\n",
      "              precision    recall  f1-score   support\n",
      "\n",
      "         0.0       0.55      0.55      0.55      1783\n",
      "         1.0       0.86      0.81      0.84      1843\n",
      "         2.0       0.91      0.92      0.91      1818\n",
      "         3.0       0.56      0.60      0.58      1862\n",
      "\n",
      "    accuracy                           0.72      7306\n",
      "   macro avg       0.72      0.72      0.72      7306\n",
      "weighted avg       0.72      0.72      0.72      7306\n",
      "\n"
     ]
    }
   ],
   "source": [
    "from sklearn.metrics import classification_report\n",
    "\n",
    "# test for the report generating methods\n",
    "y_pred = model_d1.predict(val_X, batch_size=64, verbose=1)\n",
    "y_pred_bool = np.argmax(y_pred, axis=1)\n",
    "\n",
    "print(classification_report(val_y, y_pred_bool))"
   ]
  },
  {
   "cell_type": "code",
   "execution_count": 72,
   "id": "acoustic-carroll",
   "metadata": {},
   "outputs": [
    {
     "name": "stdout",
     "output_type": "stream",
     "text": [
      "Fitting the  1 / 48  model\n"
     ]
    },
    {
     "name": "stderr",
     "output_type": "stream",
     "text": [
      "C:\\Users\\User1\\anaconda3\\envs\\tensorflow_env\\lib\\site-packages\\tensorflow\\python\\data\\ops\\dataset_ops.py:3349: UserWarning: Even though the tf.config.experimental_run_functions_eagerly option is set, this option does not apply to tf.data functions. tf.data functions are still traced and executed as graphs.\n",
      "  warnings.warn(\n",
      "C:\\Users\\User1\\anaconda3\\envs\\tensorflow_env\\lib\\site-packages\\tensorflow\\python\\data\\ops\\dataset_ops.py:3349: UserWarning: Even though the tf.config.experimental_run_functions_eagerly option is set, this option does not apply to tf.data functions. tf.data functions are still traced and executed as graphs.\n",
      "  warnings.warn(\n",
      "C:\\Users\\User1\\anaconda3\\envs\\tensorflow_env\\lib\\site-packages\\tensorflow\\python\\data\\ops\\dataset_ops.py:3349: UserWarning: Even though the tf.config.experimental_run_functions_eagerly option is set, this option does not apply to tf.data functions. tf.data functions are still traced and executed as graphs.\n",
      "  warnings.warn(\n"
     ]
    },
    {
     "name": "stdout",
     "output_type": "stream",
     "text": [
      "Fitting the  2 / 48  model\n"
     ]
    },
    {
     "name": "stderr",
     "output_type": "stream",
     "text": [
      "C:\\Users\\User1\\anaconda3\\envs\\tensorflow_env\\lib\\site-packages\\tensorflow\\python\\data\\ops\\dataset_ops.py:3349: UserWarning: Even though the tf.config.experimental_run_functions_eagerly option is set, this option does not apply to tf.data functions. tf.data functions are still traced and executed as graphs.\n",
      "  warnings.warn(\n",
      "C:\\Users\\User1\\anaconda3\\envs\\tensorflow_env\\lib\\site-packages\\tensorflow\\python\\data\\ops\\dataset_ops.py:3349: UserWarning: Even though the tf.config.experimental_run_functions_eagerly option is set, this option does not apply to tf.data functions. tf.data functions are still traced and executed as graphs.\n",
      "  warnings.warn(\n",
      "C:\\Users\\User1\\anaconda3\\envs\\tensorflow_env\\lib\\site-packages\\tensorflow\\python\\data\\ops\\dataset_ops.py:3349: UserWarning: Even though the tf.config.experimental_run_functions_eagerly option is set, this option does not apply to tf.data functions. tf.data functions are still traced and executed as graphs.\n",
      "  warnings.warn(\n",
      "C:\\Users\\User1\\anaconda3\\envs\\tensorflow_env\\lib\\site-packages\\tensorflow\\python\\data\\ops\\dataset_ops.py:3349: UserWarning: Even though the tf.config.experimental_run_functions_eagerly option is set, this option does not apply to tf.data functions. tf.data functions are still traced and executed as graphs.\n",
      "  warnings.warn(\n"
     ]
    },
    {
     "name": "stdout",
     "output_type": "stream",
     "text": [
      "Fitting the  3 / 48  model\n"
     ]
    },
    {
     "name": "stderr",
     "output_type": "stream",
     "text": [
      "C:\\Users\\User1\\anaconda3\\envs\\tensorflow_env\\lib\\site-packages\\tensorflow\\python\\data\\ops\\dataset_ops.py:3349: UserWarning: Even though the tf.config.experimental_run_functions_eagerly option is set, this option does not apply to tf.data functions. tf.data functions are still traced and executed as graphs.\n",
      "  warnings.warn(\n",
      "C:\\Users\\User1\\anaconda3\\envs\\tensorflow_env\\lib\\site-packages\\tensorflow\\python\\data\\ops\\dataset_ops.py:3349: UserWarning: Even though the tf.config.experimental_run_functions_eagerly option is set, this option does not apply to tf.data functions. tf.data functions are still traced and executed as graphs.\n",
      "  warnings.warn(\n",
      "C:\\Users\\User1\\anaconda3\\envs\\tensorflow_env\\lib\\site-packages\\tensorflow\\python\\data\\ops\\dataset_ops.py:3349: UserWarning: Even though the tf.config.experimental_run_functions_eagerly option is set, this option does not apply to tf.data functions. tf.data functions are still traced and executed as graphs.\n",
      "  warnings.warn(\n",
      "C:\\Users\\User1\\anaconda3\\envs\\tensorflow_env\\lib\\site-packages\\tensorflow\\python\\data\\ops\\dataset_ops.py:3349: UserWarning: Even though the tf.config.experimental_run_functions_eagerly option is set, this option does not apply to tf.data functions. tf.data functions are still traced and executed as graphs.\n",
      "  warnings.warn(\n"
     ]
    },
    {
     "name": "stdout",
     "output_type": "stream",
     "text": [
      "Fitting the  4 / 48  model\n"
     ]
    },
    {
     "name": "stderr",
     "output_type": "stream",
     "text": [
      "C:\\Users\\User1\\anaconda3\\envs\\tensorflow_env\\lib\\site-packages\\tensorflow\\python\\data\\ops\\dataset_ops.py:3349: UserWarning: Even though the tf.config.experimental_run_functions_eagerly option is set, this option does not apply to tf.data functions. tf.data functions are still traced and executed as graphs.\n",
      "  warnings.warn(\n",
      "C:\\Users\\User1\\anaconda3\\envs\\tensorflow_env\\lib\\site-packages\\tensorflow\\python\\data\\ops\\dataset_ops.py:3349: UserWarning: Even though the tf.config.experimental_run_functions_eagerly option is set, this option does not apply to tf.data functions. tf.data functions are still traced and executed as graphs.\n",
      "  warnings.warn(\n",
      "C:\\Users\\User1\\anaconda3\\envs\\tensorflow_env\\lib\\site-packages\\tensorflow\\python\\data\\ops\\dataset_ops.py:3349: UserWarning: Even though the tf.config.experimental_run_functions_eagerly option is set, this option does not apply to tf.data functions. tf.data functions are still traced and executed as graphs.\n",
      "  warnings.warn(\n",
      "C:\\Users\\User1\\anaconda3\\envs\\tensorflow_env\\lib\\site-packages\\tensorflow\\python\\data\\ops\\dataset_ops.py:3349: UserWarning: Even though the tf.config.experimental_run_functions_eagerly option is set, this option does not apply to tf.data functions. tf.data functions are still traced and executed as graphs.\n",
      "  warnings.warn(\n"
     ]
    },
    {
     "name": "stdout",
     "output_type": "stream",
     "text": [
      "Fitting the  5 / 48  model\n"
     ]
    },
    {
     "name": "stderr",
     "output_type": "stream",
     "text": [
      "C:\\Users\\User1\\anaconda3\\envs\\tensorflow_env\\lib\\site-packages\\tensorflow\\python\\data\\ops\\dataset_ops.py:3349: UserWarning: Even though the tf.config.experimental_run_functions_eagerly option is set, this option does not apply to tf.data functions. tf.data functions are still traced and executed as graphs.\n",
      "  warnings.warn(\n",
      "C:\\Users\\User1\\anaconda3\\envs\\tensorflow_env\\lib\\site-packages\\tensorflow\\python\\data\\ops\\dataset_ops.py:3349: UserWarning: Even though the tf.config.experimental_run_functions_eagerly option is set, this option does not apply to tf.data functions. tf.data functions are still traced and executed as graphs.\n",
      "  warnings.warn(\n",
      "C:\\Users\\User1\\anaconda3\\envs\\tensorflow_env\\lib\\site-packages\\tensorflow\\python\\data\\ops\\dataset_ops.py:3349: UserWarning: Even though the tf.config.experimental_run_functions_eagerly option is set, this option does not apply to tf.data functions. tf.data functions are still traced and executed as graphs.\n",
      "  warnings.warn(\n",
      "C:\\Users\\User1\\anaconda3\\envs\\tensorflow_env\\lib\\site-packages\\tensorflow\\python\\data\\ops\\dataset_ops.py:3349: UserWarning: Even though the tf.config.experimental_run_functions_eagerly option is set, this option does not apply to tf.data functions. tf.data functions are still traced and executed as graphs.\n",
      "  warnings.warn(\n"
     ]
    },
    {
     "name": "stdout",
     "output_type": "stream",
     "text": [
      "Fitting the  6 / 48  model\n"
     ]
    },
    {
     "name": "stderr",
     "output_type": "stream",
     "text": [
      "C:\\Users\\User1\\anaconda3\\envs\\tensorflow_env\\lib\\site-packages\\tensorflow\\python\\data\\ops\\dataset_ops.py:3349: UserWarning: Even though the tf.config.experimental_run_functions_eagerly option is set, this option does not apply to tf.data functions. tf.data functions are still traced and executed as graphs.\n",
      "  warnings.warn(\n",
      "C:\\Users\\User1\\anaconda3\\envs\\tensorflow_env\\lib\\site-packages\\tensorflow\\python\\data\\ops\\dataset_ops.py:3349: UserWarning: Even though the tf.config.experimental_run_functions_eagerly option is set, this option does not apply to tf.data functions. tf.data functions are still traced and executed as graphs.\n",
      "  warnings.warn(\n",
      "C:\\Users\\User1\\anaconda3\\envs\\tensorflow_env\\lib\\site-packages\\tensorflow\\python\\data\\ops\\dataset_ops.py:3349: UserWarning: Even though the tf.config.experimental_run_functions_eagerly option is set, this option does not apply to tf.data functions. tf.data functions are still traced and executed as graphs.\n",
      "  warnings.warn(\n",
      "C:\\Users\\User1\\anaconda3\\envs\\tensorflow_env\\lib\\site-packages\\tensorflow\\python\\data\\ops\\dataset_ops.py:3349: UserWarning: Even though the tf.config.experimental_run_functions_eagerly option is set, this option does not apply to tf.data functions. tf.data functions are still traced and executed as graphs.\n",
      "  warnings.warn(\n"
     ]
    },
    {
     "name": "stdout",
     "output_type": "stream",
     "text": [
      "Fitting the  7 / 48  model\n"
     ]
    },
    {
     "name": "stderr",
     "output_type": "stream",
     "text": [
      "C:\\Users\\User1\\anaconda3\\envs\\tensorflow_env\\lib\\site-packages\\tensorflow\\python\\data\\ops\\dataset_ops.py:3349: UserWarning: Even though the tf.config.experimental_run_functions_eagerly option is set, this option does not apply to tf.data functions. tf.data functions are still traced and executed as graphs.\n",
      "  warnings.warn(\n",
      "C:\\Users\\User1\\anaconda3\\envs\\tensorflow_env\\lib\\site-packages\\tensorflow\\python\\data\\ops\\dataset_ops.py:3349: UserWarning: Even though the tf.config.experimental_run_functions_eagerly option is set, this option does not apply to tf.data functions. tf.data functions are still traced and executed as graphs.\n",
      "  warnings.warn(\n",
      "C:\\Users\\User1\\anaconda3\\envs\\tensorflow_env\\lib\\site-packages\\tensorflow\\python\\data\\ops\\dataset_ops.py:3349: UserWarning: Even though the tf.config.experimental_run_functions_eagerly option is set, this option does not apply to tf.data functions. tf.data functions are still traced and executed as graphs.\n",
      "  warnings.warn(\n",
      "C:\\Users\\User1\\anaconda3\\envs\\tensorflow_env\\lib\\site-packages\\tensorflow\\python\\data\\ops\\dataset_ops.py:3349: UserWarning: Even though the tf.config.experimental_run_functions_eagerly option is set, this option does not apply to tf.data functions. tf.data functions are still traced and executed as graphs.\n",
      "  warnings.warn(\n"
     ]
    },
    {
     "name": "stdout",
     "output_type": "stream",
     "text": [
      "Fitting the  8 / 48  model\n"
     ]
    },
    {
     "name": "stderr",
     "output_type": "stream",
     "text": [
      "C:\\Users\\User1\\anaconda3\\envs\\tensorflow_env\\lib\\site-packages\\tensorflow\\python\\data\\ops\\dataset_ops.py:3349: UserWarning: Even though the tf.config.experimental_run_functions_eagerly option is set, this option does not apply to tf.data functions. tf.data functions are still traced and executed as graphs.\n",
      "  warnings.warn(\n",
      "C:\\Users\\User1\\anaconda3\\envs\\tensorflow_env\\lib\\site-packages\\tensorflow\\python\\data\\ops\\dataset_ops.py:3349: UserWarning: Even though the tf.config.experimental_run_functions_eagerly option is set, this option does not apply to tf.data functions. tf.data functions are still traced and executed as graphs.\n",
      "  warnings.warn(\n",
      "C:\\Users\\User1\\anaconda3\\envs\\tensorflow_env\\lib\\site-packages\\tensorflow\\python\\data\\ops\\dataset_ops.py:3349: UserWarning: Even though the tf.config.experimental_run_functions_eagerly option is set, this option does not apply to tf.data functions. tf.data functions are still traced and executed as graphs.\n",
      "  warnings.warn(\n",
      "C:\\Users\\User1\\anaconda3\\envs\\tensorflow_env\\lib\\site-packages\\tensorflow\\python\\data\\ops\\dataset_ops.py:3349: UserWarning: Even though the tf.config.experimental_run_functions_eagerly option is set, this option does not apply to tf.data functions. tf.data functions are still traced and executed as graphs.\n",
      "  warnings.warn(\n"
     ]
    },
    {
     "name": "stdout",
     "output_type": "stream",
     "text": [
      "Fitting the  9 / 48  model\n"
     ]
    },
    {
     "name": "stderr",
     "output_type": "stream",
     "text": [
      "C:\\Users\\User1\\anaconda3\\envs\\tensorflow_env\\lib\\site-packages\\tensorflow\\python\\data\\ops\\dataset_ops.py:3349: UserWarning: Even though the tf.config.experimental_run_functions_eagerly option is set, this option does not apply to tf.data functions. tf.data functions are still traced and executed as graphs.\n",
      "  warnings.warn(\n",
      "C:\\Users\\User1\\anaconda3\\envs\\tensorflow_env\\lib\\site-packages\\tensorflow\\python\\data\\ops\\dataset_ops.py:3349: UserWarning: Even though the tf.config.experimental_run_functions_eagerly option is set, this option does not apply to tf.data functions. tf.data functions are still traced and executed as graphs.\n",
      "  warnings.warn(\n",
      "C:\\Users\\User1\\anaconda3\\envs\\tensorflow_env\\lib\\site-packages\\tensorflow\\python\\data\\ops\\dataset_ops.py:3349: UserWarning: Even though the tf.config.experimental_run_functions_eagerly option is set, this option does not apply to tf.data functions. tf.data functions are still traced and executed as graphs.\n",
      "  warnings.warn(\n",
      "C:\\Users\\User1\\anaconda3\\envs\\tensorflow_env\\lib\\site-packages\\tensorflow\\python\\data\\ops\\dataset_ops.py:3349: UserWarning: Even though the tf.config.experimental_run_functions_eagerly option is set, this option does not apply to tf.data functions. tf.data functions are still traced and executed as graphs.\n",
      "  warnings.warn(\n"
     ]
    },
    {
     "name": "stdout",
     "output_type": "stream",
     "text": [
      "Fitting the  10 / 48  model\n"
     ]
    },
    {
     "name": "stderr",
     "output_type": "stream",
     "text": [
      "C:\\Users\\User1\\anaconda3\\envs\\tensorflow_env\\lib\\site-packages\\tensorflow\\python\\data\\ops\\dataset_ops.py:3349: UserWarning: Even though the tf.config.experimental_run_functions_eagerly option is set, this option does not apply to tf.data functions. tf.data functions are still traced and executed as graphs.\n",
      "  warnings.warn(\n",
      "C:\\Users\\User1\\anaconda3\\envs\\tensorflow_env\\lib\\site-packages\\tensorflow\\python\\data\\ops\\dataset_ops.py:3349: UserWarning: Even though the tf.config.experimental_run_functions_eagerly option is set, this option does not apply to tf.data functions. tf.data functions are still traced and executed as graphs.\n",
      "  warnings.warn(\n",
      "C:\\Users\\User1\\anaconda3\\envs\\tensorflow_env\\lib\\site-packages\\tensorflow\\python\\data\\ops\\dataset_ops.py:3349: UserWarning: Even though the tf.config.experimental_run_functions_eagerly option is set, this option does not apply to tf.data functions. tf.data functions are still traced and executed as graphs.\n",
      "  warnings.warn(\n",
      "C:\\Users\\User1\\anaconda3\\envs\\tensorflow_env\\lib\\site-packages\\tensorflow\\python\\data\\ops\\dataset_ops.py:3349: UserWarning: Even though the tf.config.experimental_run_functions_eagerly option is set, this option does not apply to tf.data functions. tf.data functions are still traced and executed as graphs.\n",
      "  warnings.warn(\n"
     ]
    },
    {
     "name": "stdout",
     "output_type": "stream",
     "text": [
      "Fitting the  11 / 48  model\n"
     ]
    },
    {
     "name": "stderr",
     "output_type": "stream",
     "text": [
      "C:\\Users\\User1\\anaconda3\\envs\\tensorflow_env\\lib\\site-packages\\tensorflow\\python\\data\\ops\\dataset_ops.py:3349: UserWarning: Even though the tf.config.experimental_run_functions_eagerly option is set, this option does not apply to tf.data functions. tf.data functions are still traced and executed as graphs.\n",
      "  warnings.warn(\n",
      "C:\\Users\\User1\\anaconda3\\envs\\tensorflow_env\\lib\\site-packages\\tensorflow\\python\\data\\ops\\dataset_ops.py:3349: UserWarning: Even though the tf.config.experimental_run_functions_eagerly option is set, this option does not apply to tf.data functions. tf.data functions are still traced and executed as graphs.\n",
      "  warnings.warn(\n",
      "C:\\Users\\User1\\anaconda3\\envs\\tensorflow_env\\lib\\site-packages\\tensorflow\\python\\data\\ops\\dataset_ops.py:3349: UserWarning: Even though the tf.config.experimental_run_functions_eagerly option is set, this option does not apply to tf.data functions. tf.data functions are still traced and executed as graphs.\n",
      "  warnings.warn(\n",
      "C:\\Users\\User1\\anaconda3\\envs\\tensorflow_env\\lib\\site-packages\\tensorflow\\python\\data\\ops\\dataset_ops.py:3349: UserWarning: Even though the tf.config.experimental_run_functions_eagerly option is set, this option does not apply to tf.data functions. tf.data functions are still traced and executed as graphs.\n",
      "  warnings.warn(\n"
     ]
    },
    {
     "name": "stdout",
     "output_type": "stream",
     "text": [
      "Fitting the  12 / 48  model\n"
     ]
    },
    {
     "name": "stderr",
     "output_type": "stream",
     "text": [
      "C:\\Users\\User1\\anaconda3\\envs\\tensorflow_env\\lib\\site-packages\\tensorflow\\python\\data\\ops\\dataset_ops.py:3349: UserWarning: Even though the tf.config.experimental_run_functions_eagerly option is set, this option does not apply to tf.data functions. tf.data functions are still traced and executed as graphs.\n",
      "  warnings.warn(\n",
      "C:\\Users\\User1\\anaconda3\\envs\\tensorflow_env\\lib\\site-packages\\tensorflow\\python\\data\\ops\\dataset_ops.py:3349: UserWarning: Even though the tf.config.experimental_run_functions_eagerly option is set, this option does not apply to tf.data functions. tf.data functions are still traced and executed as graphs.\n",
      "  warnings.warn(\n",
      "C:\\Users\\User1\\anaconda3\\envs\\tensorflow_env\\lib\\site-packages\\tensorflow\\python\\data\\ops\\dataset_ops.py:3349: UserWarning: Even though the tf.config.experimental_run_functions_eagerly option is set, this option does not apply to tf.data functions. tf.data functions are still traced and executed as graphs.\n",
      "  warnings.warn(\n",
      "C:\\Users\\User1\\anaconda3\\envs\\tensorflow_env\\lib\\site-packages\\tensorflow\\python\\data\\ops\\dataset_ops.py:3349: UserWarning: Even though the tf.config.experimental_run_functions_eagerly option is set, this option does not apply to tf.data functions. tf.data functions are still traced and executed as graphs.\n",
      "  warnings.warn(\n"
     ]
    },
    {
     "name": "stdout",
     "output_type": "stream",
     "text": [
      "Fitting the  13 / 48  model\n"
     ]
    },
    {
     "name": "stderr",
     "output_type": "stream",
     "text": [
      "C:\\Users\\User1\\anaconda3\\envs\\tensorflow_env\\lib\\site-packages\\tensorflow\\python\\data\\ops\\dataset_ops.py:3349: UserWarning: Even though the tf.config.experimental_run_functions_eagerly option is set, this option does not apply to tf.data functions. tf.data functions are still traced and executed as graphs.\n",
      "  warnings.warn(\n",
      "C:\\Users\\User1\\anaconda3\\envs\\tensorflow_env\\lib\\site-packages\\tensorflow\\python\\data\\ops\\dataset_ops.py:3349: UserWarning: Even though the tf.config.experimental_run_functions_eagerly option is set, this option does not apply to tf.data functions. tf.data functions are still traced and executed as graphs.\n",
      "  warnings.warn(\n",
      "C:\\Users\\User1\\anaconda3\\envs\\tensorflow_env\\lib\\site-packages\\tensorflow\\python\\data\\ops\\dataset_ops.py:3349: UserWarning: Even though the tf.config.experimental_run_functions_eagerly option is set, this option does not apply to tf.data functions. tf.data functions are still traced and executed as graphs.\n",
      "  warnings.warn(\n",
      "C:\\Users\\User1\\anaconda3\\envs\\tensorflow_env\\lib\\site-packages\\tensorflow\\python\\data\\ops\\dataset_ops.py:3349: UserWarning: Even though the tf.config.experimental_run_functions_eagerly option is set, this option does not apply to tf.data functions. tf.data functions are still traced and executed as graphs.\n",
      "  warnings.warn(\n"
     ]
    },
    {
     "name": "stdout",
     "output_type": "stream",
     "text": [
      "Fitting the  14 / 48  model\n"
     ]
    },
    {
     "name": "stderr",
     "output_type": "stream",
     "text": [
      "C:\\Users\\User1\\anaconda3\\envs\\tensorflow_env\\lib\\site-packages\\tensorflow\\python\\data\\ops\\dataset_ops.py:3349: UserWarning: Even though the tf.config.experimental_run_functions_eagerly option is set, this option does not apply to tf.data functions. tf.data functions are still traced and executed as graphs.\n",
      "  warnings.warn(\n",
      "C:\\Users\\User1\\anaconda3\\envs\\tensorflow_env\\lib\\site-packages\\tensorflow\\python\\data\\ops\\dataset_ops.py:3349: UserWarning: Even though the tf.config.experimental_run_functions_eagerly option is set, this option does not apply to tf.data functions. tf.data functions are still traced and executed as graphs.\n",
      "  warnings.warn(\n",
      "C:\\Users\\User1\\anaconda3\\envs\\tensorflow_env\\lib\\site-packages\\tensorflow\\python\\data\\ops\\dataset_ops.py:3349: UserWarning: Even though the tf.config.experimental_run_functions_eagerly option is set, this option does not apply to tf.data functions. tf.data functions are still traced and executed as graphs.\n",
      "  warnings.warn(\n",
      "C:\\Users\\User1\\anaconda3\\envs\\tensorflow_env\\lib\\site-packages\\tensorflow\\python\\data\\ops\\dataset_ops.py:3349: UserWarning: Even though the tf.config.experimental_run_functions_eagerly option is set, this option does not apply to tf.data functions. tf.data functions are still traced and executed as graphs.\n",
      "  warnings.warn(\n"
     ]
    },
    {
     "name": "stdout",
     "output_type": "stream",
     "text": [
      "Fitting the  15 / 48  model\n"
     ]
    },
    {
     "name": "stderr",
     "output_type": "stream",
     "text": [
      "C:\\Users\\User1\\anaconda3\\envs\\tensorflow_env\\lib\\site-packages\\tensorflow\\python\\data\\ops\\dataset_ops.py:3349: UserWarning: Even though the tf.config.experimental_run_functions_eagerly option is set, this option does not apply to tf.data functions. tf.data functions are still traced and executed as graphs.\n",
      "  warnings.warn(\n",
      "C:\\Users\\User1\\anaconda3\\envs\\tensorflow_env\\lib\\site-packages\\tensorflow\\python\\data\\ops\\dataset_ops.py:3349: UserWarning: Even though the tf.config.experimental_run_functions_eagerly option is set, this option does not apply to tf.data functions. tf.data functions are still traced and executed as graphs.\n",
      "  warnings.warn(\n",
      "C:\\Users\\User1\\anaconda3\\envs\\tensorflow_env\\lib\\site-packages\\tensorflow\\python\\data\\ops\\dataset_ops.py:3349: UserWarning: Even though the tf.config.experimental_run_functions_eagerly option is set, this option does not apply to tf.data functions. tf.data functions are still traced and executed as graphs.\n",
      "  warnings.warn(\n",
      "C:\\Users\\User1\\anaconda3\\envs\\tensorflow_env\\lib\\site-packages\\tensorflow\\python\\data\\ops\\dataset_ops.py:3349: UserWarning: Even though the tf.config.experimental_run_functions_eagerly option is set, this option does not apply to tf.data functions. tf.data functions are still traced and executed as graphs.\n",
      "  warnings.warn(\n"
     ]
    },
    {
     "name": "stdout",
     "output_type": "stream",
     "text": [
      "Fitting the  16 / 48  model\n"
     ]
    },
    {
     "name": "stderr",
     "output_type": "stream",
     "text": [
      "C:\\Users\\User1\\anaconda3\\envs\\tensorflow_env\\lib\\site-packages\\tensorflow\\python\\data\\ops\\dataset_ops.py:3349: UserWarning: Even though the tf.config.experimental_run_functions_eagerly option is set, this option does not apply to tf.data functions. tf.data functions are still traced and executed as graphs.\n",
      "  warnings.warn(\n",
      "C:\\Users\\User1\\anaconda3\\envs\\tensorflow_env\\lib\\site-packages\\tensorflow\\python\\data\\ops\\dataset_ops.py:3349: UserWarning: Even though the tf.config.experimental_run_functions_eagerly option is set, this option does not apply to tf.data functions. tf.data functions are still traced and executed as graphs.\n",
      "  warnings.warn(\n",
      "C:\\Users\\User1\\anaconda3\\envs\\tensorflow_env\\lib\\site-packages\\tensorflow\\python\\data\\ops\\dataset_ops.py:3349: UserWarning: Even though the tf.config.experimental_run_functions_eagerly option is set, this option does not apply to tf.data functions. tf.data functions are still traced and executed as graphs.\n",
      "  warnings.warn(\n",
      "C:\\Users\\User1\\anaconda3\\envs\\tensorflow_env\\lib\\site-packages\\tensorflow\\python\\data\\ops\\dataset_ops.py:3349: UserWarning: Even though the tf.config.experimental_run_functions_eagerly option is set, this option does not apply to tf.data functions. tf.data functions are still traced and executed as graphs.\n",
      "  warnings.warn(\n"
     ]
    },
    {
     "name": "stdout",
     "output_type": "stream",
     "text": [
      "Fitting the  17 / 48  model\n"
     ]
    },
    {
     "name": "stderr",
     "output_type": "stream",
     "text": [
      "C:\\Users\\User1\\anaconda3\\envs\\tensorflow_env\\lib\\site-packages\\tensorflow\\python\\data\\ops\\dataset_ops.py:3349: UserWarning: Even though the tf.config.experimental_run_functions_eagerly option is set, this option does not apply to tf.data functions. tf.data functions are still traced and executed as graphs.\n",
      "  warnings.warn(\n",
      "C:\\Users\\User1\\anaconda3\\envs\\tensorflow_env\\lib\\site-packages\\tensorflow\\python\\data\\ops\\dataset_ops.py:3349: UserWarning: Even though the tf.config.experimental_run_functions_eagerly option is set, this option does not apply to tf.data functions. tf.data functions are still traced and executed as graphs.\n",
      "  warnings.warn(\n",
      "C:\\Users\\User1\\anaconda3\\envs\\tensorflow_env\\lib\\site-packages\\tensorflow\\python\\data\\ops\\dataset_ops.py:3349: UserWarning: Even though the tf.config.experimental_run_functions_eagerly option is set, this option does not apply to tf.data functions. tf.data functions are still traced and executed as graphs.\n",
      "  warnings.warn(\n",
      "C:\\Users\\User1\\anaconda3\\envs\\tensorflow_env\\lib\\site-packages\\tensorflow\\python\\data\\ops\\dataset_ops.py:3349: UserWarning: Even though the tf.config.experimental_run_functions_eagerly option is set, this option does not apply to tf.data functions. tf.data functions are still traced and executed as graphs.\n",
      "  warnings.warn(\n"
     ]
    },
    {
     "name": "stdout",
     "output_type": "stream",
     "text": [
      "Fitting the  18 / 48  model\n"
     ]
    },
    {
     "name": "stderr",
     "output_type": "stream",
     "text": [
      "C:\\Users\\User1\\anaconda3\\envs\\tensorflow_env\\lib\\site-packages\\tensorflow\\python\\data\\ops\\dataset_ops.py:3349: UserWarning: Even though the tf.config.experimental_run_functions_eagerly option is set, this option does not apply to tf.data functions. tf.data functions are still traced and executed as graphs.\n",
      "  warnings.warn(\n",
      "C:\\Users\\User1\\anaconda3\\envs\\tensorflow_env\\lib\\site-packages\\tensorflow\\python\\data\\ops\\dataset_ops.py:3349: UserWarning: Even though the tf.config.experimental_run_functions_eagerly option is set, this option does not apply to tf.data functions. tf.data functions are still traced and executed as graphs.\n",
      "  warnings.warn(\n",
      "C:\\Users\\User1\\anaconda3\\envs\\tensorflow_env\\lib\\site-packages\\tensorflow\\python\\data\\ops\\dataset_ops.py:3349: UserWarning: Even though the tf.config.experimental_run_functions_eagerly option is set, this option does not apply to tf.data functions. tf.data functions are still traced and executed as graphs.\n",
      "  warnings.warn(\n",
      "C:\\Users\\User1\\anaconda3\\envs\\tensorflow_env\\lib\\site-packages\\tensorflow\\python\\data\\ops\\dataset_ops.py:3349: UserWarning: Even though the tf.config.experimental_run_functions_eagerly option is set, this option does not apply to tf.data functions. tf.data functions are still traced and executed as graphs.\n",
      "  warnings.warn(\n"
     ]
    },
    {
     "name": "stdout",
     "output_type": "stream",
     "text": [
      "Fitting the  19 / 48  model\n"
     ]
    },
    {
     "name": "stderr",
     "output_type": "stream",
     "text": [
      "C:\\Users\\User1\\anaconda3\\envs\\tensorflow_env\\lib\\site-packages\\tensorflow\\python\\data\\ops\\dataset_ops.py:3349: UserWarning: Even though the tf.config.experimental_run_functions_eagerly option is set, this option does not apply to tf.data functions. tf.data functions are still traced and executed as graphs.\n",
      "  warnings.warn(\n",
      "C:\\Users\\User1\\anaconda3\\envs\\tensorflow_env\\lib\\site-packages\\tensorflow\\python\\data\\ops\\dataset_ops.py:3349: UserWarning: Even though the tf.config.experimental_run_functions_eagerly option is set, this option does not apply to tf.data functions. tf.data functions are still traced and executed as graphs.\n",
      "  warnings.warn(\n",
      "C:\\Users\\User1\\anaconda3\\envs\\tensorflow_env\\lib\\site-packages\\tensorflow\\python\\data\\ops\\dataset_ops.py:3349: UserWarning: Even though the tf.config.experimental_run_functions_eagerly option is set, this option does not apply to tf.data functions. tf.data functions are still traced and executed as graphs.\n",
      "  warnings.warn(\n",
      "C:\\Users\\User1\\anaconda3\\envs\\tensorflow_env\\lib\\site-packages\\tensorflow\\python\\data\\ops\\dataset_ops.py:3349: UserWarning: Even though the tf.config.experimental_run_functions_eagerly option is set, this option does not apply to tf.data functions. tf.data functions are still traced and executed as graphs.\n",
      "  warnings.warn(\n"
     ]
    },
    {
     "name": "stdout",
     "output_type": "stream",
     "text": [
      "Fitting the  20 / 48  model\n"
     ]
    },
    {
     "name": "stderr",
     "output_type": "stream",
     "text": [
      "C:\\Users\\User1\\anaconda3\\envs\\tensorflow_env\\lib\\site-packages\\tensorflow\\python\\data\\ops\\dataset_ops.py:3349: UserWarning: Even though the tf.config.experimental_run_functions_eagerly option is set, this option does not apply to tf.data functions. tf.data functions are still traced and executed as graphs.\n",
      "  warnings.warn(\n",
      "C:\\Users\\User1\\anaconda3\\envs\\tensorflow_env\\lib\\site-packages\\tensorflow\\python\\data\\ops\\dataset_ops.py:3349: UserWarning: Even though the tf.config.experimental_run_functions_eagerly option is set, this option does not apply to tf.data functions. tf.data functions are still traced and executed as graphs.\n",
      "  warnings.warn(\n",
      "C:\\Users\\User1\\anaconda3\\envs\\tensorflow_env\\lib\\site-packages\\tensorflow\\python\\data\\ops\\dataset_ops.py:3349: UserWarning: Even though the tf.config.experimental_run_functions_eagerly option is set, this option does not apply to tf.data functions. tf.data functions are still traced and executed as graphs.\n",
      "  warnings.warn(\n",
      "C:\\Users\\User1\\anaconda3\\envs\\tensorflow_env\\lib\\site-packages\\tensorflow\\python\\data\\ops\\dataset_ops.py:3349: UserWarning: Even though the tf.config.experimental_run_functions_eagerly option is set, this option does not apply to tf.data functions. tf.data functions are still traced and executed as graphs.\n",
      "  warnings.warn(\n"
     ]
    },
    {
     "name": "stdout",
     "output_type": "stream",
     "text": [
      "Fitting the  21 / 48  model\n"
     ]
    },
    {
     "name": "stderr",
     "output_type": "stream",
     "text": [
      "C:\\Users\\User1\\anaconda3\\envs\\tensorflow_env\\lib\\site-packages\\tensorflow\\python\\data\\ops\\dataset_ops.py:3349: UserWarning: Even though the tf.config.experimental_run_functions_eagerly option is set, this option does not apply to tf.data functions. tf.data functions are still traced and executed as graphs.\n",
      "  warnings.warn(\n",
      "C:\\Users\\User1\\anaconda3\\envs\\tensorflow_env\\lib\\site-packages\\tensorflow\\python\\data\\ops\\dataset_ops.py:3349: UserWarning: Even though the tf.config.experimental_run_functions_eagerly option is set, this option does not apply to tf.data functions. tf.data functions are still traced and executed as graphs.\n",
      "  warnings.warn(\n",
      "C:\\Users\\User1\\anaconda3\\envs\\tensorflow_env\\lib\\site-packages\\tensorflow\\python\\data\\ops\\dataset_ops.py:3349: UserWarning: Even though the tf.config.experimental_run_functions_eagerly option is set, this option does not apply to tf.data functions. tf.data functions are still traced and executed as graphs.\n",
      "  warnings.warn(\n",
      "C:\\Users\\User1\\anaconda3\\envs\\tensorflow_env\\lib\\site-packages\\tensorflow\\python\\data\\ops\\dataset_ops.py:3349: UserWarning: Even though the tf.config.experimental_run_functions_eagerly option is set, this option does not apply to tf.data functions. tf.data functions are still traced and executed as graphs.\n",
      "  warnings.warn(\n"
     ]
    },
    {
     "name": "stdout",
     "output_type": "stream",
     "text": [
      "Fitting the  22 / 48  model\n"
     ]
    },
    {
     "name": "stderr",
     "output_type": "stream",
     "text": [
      "C:\\Users\\User1\\anaconda3\\envs\\tensorflow_env\\lib\\site-packages\\tensorflow\\python\\data\\ops\\dataset_ops.py:3349: UserWarning: Even though the tf.config.experimental_run_functions_eagerly option is set, this option does not apply to tf.data functions. tf.data functions are still traced and executed as graphs.\n",
      "  warnings.warn(\n",
      "C:\\Users\\User1\\anaconda3\\envs\\tensorflow_env\\lib\\site-packages\\tensorflow\\python\\data\\ops\\dataset_ops.py:3349: UserWarning: Even though the tf.config.experimental_run_functions_eagerly option is set, this option does not apply to tf.data functions. tf.data functions are still traced and executed as graphs.\n",
      "  warnings.warn(\n",
      "C:\\Users\\User1\\anaconda3\\envs\\tensorflow_env\\lib\\site-packages\\tensorflow\\python\\data\\ops\\dataset_ops.py:3349: UserWarning: Even though the tf.config.experimental_run_functions_eagerly option is set, this option does not apply to tf.data functions. tf.data functions are still traced and executed as graphs.\n",
      "  warnings.warn(\n",
      "C:\\Users\\User1\\anaconda3\\envs\\tensorflow_env\\lib\\site-packages\\tensorflow\\python\\data\\ops\\dataset_ops.py:3349: UserWarning: Even though the tf.config.experimental_run_functions_eagerly option is set, this option does not apply to tf.data functions. tf.data functions are still traced and executed as graphs.\n",
      "  warnings.warn(\n"
     ]
    },
    {
     "name": "stdout",
     "output_type": "stream",
     "text": [
      "Fitting the  23 / 48  model\n"
     ]
    },
    {
     "name": "stderr",
     "output_type": "stream",
     "text": [
      "C:\\Users\\User1\\anaconda3\\envs\\tensorflow_env\\lib\\site-packages\\tensorflow\\python\\data\\ops\\dataset_ops.py:3349: UserWarning: Even though the tf.config.experimental_run_functions_eagerly option is set, this option does not apply to tf.data functions. tf.data functions are still traced and executed as graphs.\n",
      "  warnings.warn(\n",
      "C:\\Users\\User1\\anaconda3\\envs\\tensorflow_env\\lib\\site-packages\\tensorflow\\python\\data\\ops\\dataset_ops.py:3349: UserWarning: Even though the tf.config.experimental_run_functions_eagerly option is set, this option does not apply to tf.data functions. tf.data functions are still traced and executed as graphs.\n",
      "  warnings.warn(\n",
      "C:\\Users\\User1\\anaconda3\\envs\\tensorflow_env\\lib\\site-packages\\tensorflow\\python\\data\\ops\\dataset_ops.py:3349: UserWarning: Even though the tf.config.experimental_run_functions_eagerly option is set, this option does not apply to tf.data functions. tf.data functions are still traced and executed as graphs.\n",
      "  warnings.warn(\n",
      "C:\\Users\\User1\\anaconda3\\envs\\tensorflow_env\\lib\\site-packages\\tensorflow\\python\\data\\ops\\dataset_ops.py:3349: UserWarning: Even though the tf.config.experimental_run_functions_eagerly option is set, this option does not apply to tf.data functions. tf.data functions are still traced and executed as graphs.\n",
      "  warnings.warn(\n"
     ]
    },
    {
     "name": "stdout",
     "output_type": "stream",
     "text": [
      "Fitting the  24 / 48  model\n"
     ]
    },
    {
     "name": "stderr",
     "output_type": "stream",
     "text": [
      "C:\\Users\\User1\\anaconda3\\envs\\tensorflow_env\\lib\\site-packages\\tensorflow\\python\\data\\ops\\dataset_ops.py:3349: UserWarning: Even though the tf.config.experimental_run_functions_eagerly option is set, this option does not apply to tf.data functions. tf.data functions are still traced and executed as graphs.\n",
      "  warnings.warn(\n",
      "C:\\Users\\User1\\anaconda3\\envs\\tensorflow_env\\lib\\site-packages\\tensorflow\\python\\data\\ops\\dataset_ops.py:3349: UserWarning: Even though the tf.config.experimental_run_functions_eagerly option is set, this option does not apply to tf.data functions. tf.data functions are still traced and executed as graphs.\n",
      "  warnings.warn(\n",
      "C:\\Users\\User1\\anaconda3\\envs\\tensorflow_env\\lib\\site-packages\\tensorflow\\python\\data\\ops\\dataset_ops.py:3349: UserWarning: Even though the tf.config.experimental_run_functions_eagerly option is set, this option does not apply to tf.data functions. tf.data functions are still traced and executed as graphs.\n",
      "  warnings.warn(\n",
      "C:\\Users\\User1\\anaconda3\\envs\\tensorflow_env\\lib\\site-packages\\tensorflow\\python\\data\\ops\\dataset_ops.py:3349: UserWarning: Even though the tf.config.experimental_run_functions_eagerly option is set, this option does not apply to tf.data functions. tf.data functions are still traced and executed as graphs.\n",
      "  warnings.warn(\n"
     ]
    },
    {
     "name": "stdout",
     "output_type": "stream",
     "text": [
      "Fitting the  25 / 48  model\n"
     ]
    },
    {
     "name": "stderr",
     "output_type": "stream",
     "text": [
      "C:\\Users\\User1\\anaconda3\\envs\\tensorflow_env\\lib\\site-packages\\tensorflow\\python\\data\\ops\\dataset_ops.py:3349: UserWarning: Even though the tf.config.experimental_run_functions_eagerly option is set, this option does not apply to tf.data functions. tf.data functions are still traced and executed as graphs.\n",
      "  warnings.warn(\n",
      "C:\\Users\\User1\\anaconda3\\envs\\tensorflow_env\\lib\\site-packages\\tensorflow\\python\\data\\ops\\dataset_ops.py:3349: UserWarning: Even though the tf.config.experimental_run_functions_eagerly option is set, this option does not apply to tf.data functions. tf.data functions are still traced and executed as graphs.\n",
      "  warnings.warn(\n",
      "C:\\Users\\User1\\anaconda3\\envs\\tensorflow_env\\lib\\site-packages\\tensorflow\\python\\data\\ops\\dataset_ops.py:3349: UserWarning: Even though the tf.config.experimental_run_functions_eagerly option is set, this option does not apply to tf.data functions. tf.data functions are still traced and executed as graphs.\n",
      "  warnings.warn(\n",
      "C:\\Users\\User1\\anaconda3\\envs\\tensorflow_env\\lib\\site-packages\\tensorflow\\python\\data\\ops\\dataset_ops.py:3349: UserWarning: Even though the tf.config.experimental_run_functions_eagerly option is set, this option does not apply to tf.data functions. tf.data functions are still traced and executed as graphs.\n",
      "  warnings.warn(\n"
     ]
    },
    {
     "name": "stdout",
     "output_type": "stream",
     "text": [
      "Fitting the  26 / 48  model\n"
     ]
    },
    {
     "name": "stderr",
     "output_type": "stream",
     "text": [
      "C:\\Users\\User1\\anaconda3\\envs\\tensorflow_env\\lib\\site-packages\\tensorflow\\python\\data\\ops\\dataset_ops.py:3349: UserWarning: Even though the tf.config.experimental_run_functions_eagerly option is set, this option does not apply to tf.data functions. tf.data functions are still traced and executed as graphs.\n",
      "  warnings.warn(\n",
      "C:\\Users\\User1\\anaconda3\\envs\\tensorflow_env\\lib\\site-packages\\tensorflow\\python\\data\\ops\\dataset_ops.py:3349: UserWarning: Even though the tf.config.experimental_run_functions_eagerly option is set, this option does not apply to tf.data functions. tf.data functions are still traced and executed as graphs.\n",
      "  warnings.warn(\n",
      "C:\\Users\\User1\\anaconda3\\envs\\tensorflow_env\\lib\\site-packages\\tensorflow\\python\\data\\ops\\dataset_ops.py:3349: UserWarning: Even though the tf.config.experimental_run_functions_eagerly option is set, this option does not apply to tf.data functions. tf.data functions are still traced and executed as graphs.\n",
      "  warnings.warn(\n",
      "C:\\Users\\User1\\anaconda3\\envs\\tensorflow_env\\lib\\site-packages\\tensorflow\\python\\data\\ops\\dataset_ops.py:3349: UserWarning: Even though the tf.config.experimental_run_functions_eagerly option is set, this option does not apply to tf.data functions. tf.data functions are still traced and executed as graphs.\n",
      "  warnings.warn(\n"
     ]
    },
    {
     "name": "stdout",
     "output_type": "stream",
     "text": [
      "Fitting the  27 / 48  model\n"
     ]
    },
    {
     "name": "stderr",
     "output_type": "stream",
     "text": [
      "C:\\Users\\User1\\anaconda3\\envs\\tensorflow_env\\lib\\site-packages\\tensorflow\\python\\data\\ops\\dataset_ops.py:3349: UserWarning: Even though the tf.config.experimental_run_functions_eagerly option is set, this option does not apply to tf.data functions. tf.data functions are still traced and executed as graphs.\n",
      "  warnings.warn(\n",
      "C:\\Users\\User1\\anaconda3\\envs\\tensorflow_env\\lib\\site-packages\\tensorflow\\python\\data\\ops\\dataset_ops.py:3349: UserWarning: Even though the tf.config.experimental_run_functions_eagerly option is set, this option does not apply to tf.data functions. tf.data functions are still traced and executed as graphs.\n",
      "  warnings.warn(\n",
      "C:\\Users\\User1\\anaconda3\\envs\\tensorflow_env\\lib\\site-packages\\tensorflow\\python\\data\\ops\\dataset_ops.py:3349: UserWarning: Even though the tf.config.experimental_run_functions_eagerly option is set, this option does not apply to tf.data functions. tf.data functions are still traced and executed as graphs.\n",
      "  warnings.warn(\n",
      "C:\\Users\\User1\\anaconda3\\envs\\tensorflow_env\\lib\\site-packages\\tensorflow\\python\\data\\ops\\dataset_ops.py:3349: UserWarning: Even though the tf.config.experimental_run_functions_eagerly option is set, this option does not apply to tf.data functions. tf.data functions are still traced and executed as graphs.\n",
      "  warnings.warn(\n"
     ]
    },
    {
     "name": "stdout",
     "output_type": "stream",
     "text": [
      "Fitting the  28 / 48  model\n"
     ]
    },
    {
     "name": "stderr",
     "output_type": "stream",
     "text": [
      "C:\\Users\\User1\\anaconda3\\envs\\tensorflow_env\\lib\\site-packages\\tensorflow\\python\\data\\ops\\dataset_ops.py:3349: UserWarning: Even though the tf.config.experimental_run_functions_eagerly option is set, this option does not apply to tf.data functions. tf.data functions are still traced and executed as graphs.\n",
      "  warnings.warn(\n",
      "C:\\Users\\User1\\anaconda3\\envs\\tensorflow_env\\lib\\site-packages\\tensorflow\\python\\data\\ops\\dataset_ops.py:3349: UserWarning: Even though the tf.config.experimental_run_functions_eagerly option is set, this option does not apply to tf.data functions. tf.data functions are still traced and executed as graphs.\n",
      "  warnings.warn(\n",
      "C:\\Users\\User1\\anaconda3\\envs\\tensorflow_env\\lib\\site-packages\\tensorflow\\python\\data\\ops\\dataset_ops.py:3349: UserWarning: Even though the tf.config.experimental_run_functions_eagerly option is set, this option does not apply to tf.data functions. tf.data functions are still traced and executed as graphs.\n",
      "  warnings.warn(\n",
      "C:\\Users\\User1\\anaconda3\\envs\\tensorflow_env\\lib\\site-packages\\tensorflow\\python\\data\\ops\\dataset_ops.py:3349: UserWarning: Even though the tf.config.experimental_run_functions_eagerly option is set, this option does not apply to tf.data functions. tf.data functions are still traced and executed as graphs.\n",
      "  warnings.warn(\n"
     ]
    },
    {
     "name": "stdout",
     "output_type": "stream",
     "text": [
      "Fitting the  29 / 48  model\n"
     ]
    },
    {
     "name": "stderr",
     "output_type": "stream",
     "text": [
      "C:\\Users\\User1\\anaconda3\\envs\\tensorflow_env\\lib\\site-packages\\tensorflow\\python\\data\\ops\\dataset_ops.py:3349: UserWarning: Even though the tf.config.experimental_run_functions_eagerly option is set, this option does not apply to tf.data functions. tf.data functions are still traced and executed as graphs.\n",
      "  warnings.warn(\n",
      "C:\\Users\\User1\\anaconda3\\envs\\tensorflow_env\\lib\\site-packages\\tensorflow\\python\\data\\ops\\dataset_ops.py:3349: UserWarning: Even though the tf.config.experimental_run_functions_eagerly option is set, this option does not apply to tf.data functions. tf.data functions are still traced and executed as graphs.\n",
      "  warnings.warn(\n",
      "C:\\Users\\User1\\anaconda3\\envs\\tensorflow_env\\lib\\site-packages\\tensorflow\\python\\data\\ops\\dataset_ops.py:3349: UserWarning: Even though the tf.config.experimental_run_functions_eagerly option is set, this option does not apply to tf.data functions. tf.data functions are still traced and executed as graphs.\n",
      "  warnings.warn(\n",
      "C:\\Users\\User1\\anaconda3\\envs\\tensorflow_env\\lib\\site-packages\\tensorflow\\python\\data\\ops\\dataset_ops.py:3349: UserWarning: Even though the tf.config.experimental_run_functions_eagerly option is set, this option does not apply to tf.data functions. tf.data functions are still traced and executed as graphs.\n",
      "  warnings.warn(\n"
     ]
    },
    {
     "name": "stdout",
     "output_type": "stream",
     "text": [
      "Fitting the  30 / 48  model\n"
     ]
    },
    {
     "name": "stderr",
     "output_type": "stream",
     "text": [
      "C:\\Users\\User1\\anaconda3\\envs\\tensorflow_env\\lib\\site-packages\\tensorflow\\python\\data\\ops\\dataset_ops.py:3349: UserWarning: Even though the tf.config.experimental_run_functions_eagerly option is set, this option does not apply to tf.data functions. tf.data functions are still traced and executed as graphs.\n",
      "  warnings.warn(\n",
      "C:\\Users\\User1\\anaconda3\\envs\\tensorflow_env\\lib\\site-packages\\tensorflow\\python\\data\\ops\\dataset_ops.py:3349: UserWarning: Even though the tf.config.experimental_run_functions_eagerly option is set, this option does not apply to tf.data functions. tf.data functions are still traced and executed as graphs.\n",
      "  warnings.warn(\n",
      "C:\\Users\\User1\\anaconda3\\envs\\tensorflow_env\\lib\\site-packages\\tensorflow\\python\\data\\ops\\dataset_ops.py:3349: UserWarning: Even though the tf.config.experimental_run_functions_eagerly option is set, this option does not apply to tf.data functions. tf.data functions are still traced and executed as graphs.\n",
      "  warnings.warn(\n",
      "C:\\Users\\User1\\anaconda3\\envs\\tensorflow_env\\lib\\site-packages\\tensorflow\\python\\data\\ops\\dataset_ops.py:3349: UserWarning: Even though the tf.config.experimental_run_functions_eagerly option is set, this option does not apply to tf.data functions. tf.data functions are still traced and executed as graphs.\n",
      "  warnings.warn(\n"
     ]
    },
    {
     "name": "stdout",
     "output_type": "stream",
     "text": [
      "Fitting the  31 / 48  model\n"
     ]
    },
    {
     "name": "stderr",
     "output_type": "stream",
     "text": [
      "C:\\Users\\User1\\anaconda3\\envs\\tensorflow_env\\lib\\site-packages\\tensorflow\\python\\data\\ops\\dataset_ops.py:3349: UserWarning: Even though the tf.config.experimental_run_functions_eagerly option is set, this option does not apply to tf.data functions. tf.data functions are still traced and executed as graphs.\n",
      "  warnings.warn(\n",
      "C:\\Users\\User1\\anaconda3\\envs\\tensorflow_env\\lib\\site-packages\\tensorflow\\python\\data\\ops\\dataset_ops.py:3349: UserWarning: Even though the tf.config.experimental_run_functions_eagerly option is set, this option does not apply to tf.data functions. tf.data functions are still traced and executed as graphs.\n",
      "  warnings.warn(\n",
      "C:\\Users\\User1\\anaconda3\\envs\\tensorflow_env\\lib\\site-packages\\tensorflow\\python\\data\\ops\\dataset_ops.py:3349: UserWarning: Even though the tf.config.experimental_run_functions_eagerly option is set, this option does not apply to tf.data functions. tf.data functions are still traced and executed as graphs.\n",
      "  warnings.warn(\n",
      "C:\\Users\\User1\\anaconda3\\envs\\tensorflow_env\\lib\\site-packages\\tensorflow\\python\\data\\ops\\dataset_ops.py:3349: UserWarning: Even though the tf.config.experimental_run_functions_eagerly option is set, this option does not apply to tf.data functions. tf.data functions are still traced and executed as graphs.\n",
      "  warnings.warn(\n"
     ]
    },
    {
     "name": "stdout",
     "output_type": "stream",
     "text": [
      "Fitting the  32 / 48  model\n"
     ]
    },
    {
     "name": "stderr",
     "output_type": "stream",
     "text": [
      "C:\\Users\\User1\\anaconda3\\envs\\tensorflow_env\\lib\\site-packages\\tensorflow\\python\\data\\ops\\dataset_ops.py:3349: UserWarning: Even though the tf.config.experimental_run_functions_eagerly option is set, this option does not apply to tf.data functions. tf.data functions are still traced and executed as graphs.\n",
      "  warnings.warn(\n",
      "C:\\Users\\User1\\anaconda3\\envs\\tensorflow_env\\lib\\site-packages\\tensorflow\\python\\data\\ops\\dataset_ops.py:3349: UserWarning: Even though the tf.config.experimental_run_functions_eagerly option is set, this option does not apply to tf.data functions. tf.data functions are still traced and executed as graphs.\n",
      "  warnings.warn(\n",
      "C:\\Users\\User1\\anaconda3\\envs\\tensorflow_env\\lib\\site-packages\\tensorflow\\python\\data\\ops\\dataset_ops.py:3349: UserWarning: Even though the tf.config.experimental_run_functions_eagerly option is set, this option does not apply to tf.data functions. tf.data functions are still traced and executed as graphs.\n",
      "  warnings.warn(\n",
      "C:\\Users\\User1\\anaconda3\\envs\\tensorflow_env\\lib\\site-packages\\tensorflow\\python\\data\\ops\\dataset_ops.py:3349: UserWarning: Even though the tf.config.experimental_run_functions_eagerly option is set, this option does not apply to tf.data functions. tf.data functions are still traced and executed as graphs.\n",
      "  warnings.warn(\n"
     ]
    },
    {
     "name": "stdout",
     "output_type": "stream",
     "text": [
      "Fitting the  33 / 48  model\n"
     ]
    },
    {
     "name": "stderr",
     "output_type": "stream",
     "text": [
      "C:\\Users\\User1\\anaconda3\\envs\\tensorflow_env\\lib\\site-packages\\tensorflow\\python\\data\\ops\\dataset_ops.py:3349: UserWarning: Even though the tf.config.experimental_run_functions_eagerly option is set, this option does not apply to tf.data functions. tf.data functions are still traced and executed as graphs.\n",
      "  warnings.warn(\n",
      "C:\\Users\\User1\\anaconda3\\envs\\tensorflow_env\\lib\\site-packages\\tensorflow\\python\\data\\ops\\dataset_ops.py:3349: UserWarning: Even though the tf.config.experimental_run_functions_eagerly option is set, this option does not apply to tf.data functions. tf.data functions are still traced and executed as graphs.\n",
      "  warnings.warn(\n",
      "C:\\Users\\User1\\anaconda3\\envs\\tensorflow_env\\lib\\site-packages\\tensorflow\\python\\data\\ops\\dataset_ops.py:3349: UserWarning: Even though the tf.config.experimental_run_functions_eagerly option is set, this option does not apply to tf.data functions. tf.data functions are still traced and executed as graphs.\n",
      "  warnings.warn(\n",
      "C:\\Users\\User1\\anaconda3\\envs\\tensorflow_env\\lib\\site-packages\\tensorflow\\python\\data\\ops\\dataset_ops.py:3349: UserWarning: Even though the tf.config.experimental_run_functions_eagerly option is set, this option does not apply to tf.data functions. tf.data functions are still traced and executed as graphs.\n",
      "  warnings.warn(\n",
      "C:\\Users\\User1\\anaconda3\\envs\\tensorflow_env\\lib\\site-packages\\sklearn\\metrics\\_classification.py:1245: UndefinedMetricWarning: Precision and F-score are ill-defined and being set to 0.0 in labels with no predicted samples. Use `zero_division` parameter to control this behavior.\n",
      "  _warn_prf(average, modifier, msg_start, len(result))\n",
      "C:\\Users\\User1\\anaconda3\\envs\\tensorflow_env\\lib\\site-packages\\sklearn\\metrics\\_classification.py:1245: UndefinedMetricWarning: Precision and F-score are ill-defined and being set to 0.0 in labels with no predicted samples. Use `zero_division` parameter to control this behavior.\n",
      "  _warn_prf(average, modifier, msg_start, len(result))\n",
      "C:\\Users\\User1\\anaconda3\\envs\\tensorflow_env\\lib\\site-packages\\sklearn\\metrics\\_classification.py:1245: UndefinedMetricWarning: Precision and F-score are ill-defined and being set to 0.0 in labels with no predicted samples. Use `zero_division` parameter to control this behavior.\n",
      "  _warn_prf(average, modifier, msg_start, len(result))\n",
      "C:\\Users\\User1\\anaconda3\\envs\\tensorflow_env\\lib\\site-packages\\tensorflow\\python\\data\\ops\\dataset_ops.py:3349: UserWarning: Even though the tf.config.experimental_run_functions_eagerly option is set, this option does not apply to tf.data functions. tf.data functions are still traced and executed as graphs.\n",
      "  warnings.warn(\n",
      "C:\\Users\\User1\\anaconda3\\envs\\tensorflow_env\\lib\\site-packages\\tensorflow\\python\\data\\ops\\dataset_ops.py:3349: UserWarning: Even though the tf.config.experimental_run_functions_eagerly option is set, this option does not apply to tf.data functions. tf.data functions are still traced and executed as graphs.\n",
      "  warnings.warn(\n"
     ]
    },
    {
     "name": "stdout",
     "output_type": "stream",
     "text": [
      "Fitting the  34 / 48  model\n"
     ]
    },
    {
     "name": "stderr",
     "output_type": "stream",
     "text": [
      "C:\\Users\\User1\\anaconda3\\envs\\tensorflow_env\\lib\\site-packages\\tensorflow\\python\\data\\ops\\dataset_ops.py:3349: UserWarning: Even though the tf.config.experimental_run_functions_eagerly option is set, this option does not apply to tf.data functions. tf.data functions are still traced and executed as graphs.\n",
      "  warnings.warn(\n",
      "C:\\Users\\User1\\anaconda3\\envs\\tensorflow_env\\lib\\site-packages\\tensorflow\\python\\data\\ops\\dataset_ops.py:3349: UserWarning: Even though the tf.config.experimental_run_functions_eagerly option is set, this option does not apply to tf.data functions. tf.data functions are still traced and executed as graphs.\n",
      "  warnings.warn(\n",
      "C:\\Users\\User1\\anaconda3\\envs\\tensorflow_env\\lib\\site-packages\\sklearn\\metrics\\_classification.py:1245: UndefinedMetricWarning: Precision and F-score are ill-defined and being set to 0.0 in labels with no predicted samples. Use `zero_division` parameter to control this behavior.\n",
      "  _warn_prf(average, modifier, msg_start, len(result))\n",
      "C:\\Users\\User1\\anaconda3\\envs\\tensorflow_env\\lib\\site-packages\\sklearn\\metrics\\_classification.py:1245: UndefinedMetricWarning: Precision and F-score are ill-defined and being set to 0.0 in labels with no predicted samples. Use `zero_division` parameter to control this behavior.\n",
      "  _warn_prf(average, modifier, msg_start, len(result))\n",
      "C:\\Users\\User1\\anaconda3\\envs\\tensorflow_env\\lib\\site-packages\\sklearn\\metrics\\_classification.py:1245: UndefinedMetricWarning: Precision and F-score are ill-defined and being set to 0.0 in labels with no predicted samples. Use `zero_division` parameter to control this behavior.\n",
      "  _warn_prf(average, modifier, msg_start, len(result))\n",
      "C:\\Users\\User1\\anaconda3\\envs\\tensorflow_env\\lib\\site-packages\\tensorflow\\python\\data\\ops\\dataset_ops.py:3349: UserWarning: Even though the tf.config.experimental_run_functions_eagerly option is set, this option does not apply to tf.data functions. tf.data functions are still traced and executed as graphs.\n",
      "  warnings.warn(\n",
      "C:\\Users\\User1\\anaconda3\\envs\\tensorflow_env\\lib\\site-packages\\tensorflow\\python\\data\\ops\\dataset_ops.py:3349: UserWarning: Even though the tf.config.experimental_run_functions_eagerly option is set, this option does not apply to tf.data functions. tf.data functions are still traced and executed as graphs.\n",
      "  warnings.warn(\n"
     ]
    },
    {
     "name": "stdout",
     "output_type": "stream",
     "text": [
      "Fitting the  35 / 48  model\n"
     ]
    },
    {
     "name": "stderr",
     "output_type": "stream",
     "text": [
      "C:\\Users\\User1\\anaconda3\\envs\\tensorflow_env\\lib\\site-packages\\tensorflow\\python\\data\\ops\\dataset_ops.py:3349: UserWarning: Even though the tf.config.experimental_run_functions_eagerly option is set, this option does not apply to tf.data functions. tf.data functions are still traced and executed as graphs.\n",
      "  warnings.warn(\n",
      "C:\\Users\\User1\\anaconda3\\envs\\tensorflow_env\\lib\\site-packages\\tensorflow\\python\\data\\ops\\dataset_ops.py:3349: UserWarning: Even though the tf.config.experimental_run_functions_eagerly option is set, this option does not apply to tf.data functions. tf.data functions are still traced and executed as graphs.\n",
      "  warnings.warn(\n",
      "C:\\Users\\User1\\anaconda3\\envs\\tensorflow_env\\lib\\site-packages\\sklearn\\metrics\\_classification.py:1245: UndefinedMetricWarning: Precision and F-score are ill-defined and being set to 0.0 in labels with no predicted samples. Use `zero_division` parameter to control this behavior.\n",
      "  _warn_prf(average, modifier, msg_start, len(result))\n",
      "C:\\Users\\User1\\anaconda3\\envs\\tensorflow_env\\lib\\site-packages\\sklearn\\metrics\\_classification.py:1245: UndefinedMetricWarning: Precision and F-score are ill-defined and being set to 0.0 in labels with no predicted samples. Use `zero_division` parameter to control this behavior.\n",
      "  _warn_prf(average, modifier, msg_start, len(result))\n",
      "C:\\Users\\User1\\anaconda3\\envs\\tensorflow_env\\lib\\site-packages\\sklearn\\metrics\\_classification.py:1245: UndefinedMetricWarning: Precision and F-score are ill-defined and being set to 0.0 in labels with no predicted samples. Use `zero_division` parameter to control this behavior.\n",
      "  _warn_prf(average, modifier, msg_start, len(result))\n",
      "C:\\Users\\User1\\anaconda3\\envs\\tensorflow_env\\lib\\site-packages\\tensorflow\\python\\data\\ops\\dataset_ops.py:3349: UserWarning: Even though the tf.config.experimental_run_functions_eagerly option is set, this option does not apply to tf.data functions. tf.data functions are still traced and executed as graphs.\n",
      "  warnings.warn(\n",
      "C:\\Users\\User1\\anaconda3\\envs\\tensorflow_env\\lib\\site-packages\\tensorflow\\python\\data\\ops\\dataset_ops.py:3349: UserWarning: Even though the tf.config.experimental_run_functions_eagerly option is set, this option does not apply to tf.data functions. tf.data functions are still traced and executed as graphs.\n",
      "  warnings.warn(\n"
     ]
    },
    {
     "name": "stdout",
     "output_type": "stream",
     "text": [
      "Fitting the  36 / 48  model\n"
     ]
    },
    {
     "name": "stderr",
     "output_type": "stream",
     "text": [
      "C:\\Users\\User1\\anaconda3\\envs\\tensorflow_env\\lib\\site-packages\\tensorflow\\python\\data\\ops\\dataset_ops.py:3349: UserWarning: Even though the tf.config.experimental_run_functions_eagerly option is set, this option does not apply to tf.data functions. tf.data functions are still traced and executed as graphs.\n",
      "  warnings.warn(\n",
      "C:\\Users\\User1\\anaconda3\\envs\\tensorflow_env\\lib\\site-packages\\tensorflow\\python\\data\\ops\\dataset_ops.py:3349: UserWarning: Even though the tf.config.experimental_run_functions_eagerly option is set, this option does not apply to tf.data functions. tf.data functions are still traced and executed as graphs.\n",
      "  warnings.warn(\n",
      "C:\\Users\\User1\\anaconda3\\envs\\tensorflow_env\\lib\\site-packages\\sklearn\\metrics\\_classification.py:1245: UndefinedMetricWarning: Precision and F-score are ill-defined and being set to 0.0 in labels with no predicted samples. Use `zero_division` parameter to control this behavior.\n",
      "  _warn_prf(average, modifier, msg_start, len(result))\n",
      "C:\\Users\\User1\\anaconda3\\envs\\tensorflow_env\\lib\\site-packages\\sklearn\\metrics\\_classification.py:1245: UndefinedMetricWarning: Precision and F-score are ill-defined and being set to 0.0 in labels with no predicted samples. Use `zero_division` parameter to control this behavior.\n",
      "  _warn_prf(average, modifier, msg_start, len(result))\n",
      "C:\\Users\\User1\\anaconda3\\envs\\tensorflow_env\\lib\\site-packages\\sklearn\\metrics\\_classification.py:1245: UndefinedMetricWarning: Precision and F-score are ill-defined and being set to 0.0 in labels with no predicted samples. Use `zero_division` parameter to control this behavior.\n",
      "  _warn_prf(average, modifier, msg_start, len(result))\n",
      "C:\\Users\\User1\\anaconda3\\envs\\tensorflow_env\\lib\\site-packages\\tensorflow\\python\\data\\ops\\dataset_ops.py:3349: UserWarning: Even though the tf.config.experimental_run_functions_eagerly option is set, this option does not apply to tf.data functions. tf.data functions are still traced and executed as graphs.\n",
      "  warnings.warn(\n",
      "C:\\Users\\User1\\anaconda3\\envs\\tensorflow_env\\lib\\site-packages\\tensorflow\\python\\data\\ops\\dataset_ops.py:3349: UserWarning: Even though the tf.config.experimental_run_functions_eagerly option is set, this option does not apply to tf.data functions. tf.data functions are still traced and executed as graphs.\n",
      "  warnings.warn(\n"
     ]
    },
    {
     "name": "stdout",
     "output_type": "stream",
     "text": [
      "Fitting the  37 / 48  model\n"
     ]
    },
    {
     "name": "stderr",
     "output_type": "stream",
     "text": [
      "C:\\Users\\User1\\anaconda3\\envs\\tensorflow_env\\lib\\site-packages\\tensorflow\\python\\data\\ops\\dataset_ops.py:3349: UserWarning: Even though the tf.config.experimental_run_functions_eagerly option is set, this option does not apply to tf.data functions. tf.data functions are still traced and executed as graphs.\n",
      "  warnings.warn(\n",
      "C:\\Users\\User1\\anaconda3\\envs\\tensorflow_env\\lib\\site-packages\\tensorflow\\python\\data\\ops\\dataset_ops.py:3349: UserWarning: Even though the tf.config.experimental_run_functions_eagerly option is set, this option does not apply to tf.data functions. tf.data functions are still traced and executed as graphs.\n",
      "  warnings.warn(\n",
      "C:\\Users\\User1\\anaconda3\\envs\\tensorflow_env\\lib\\site-packages\\sklearn\\metrics\\_classification.py:1245: UndefinedMetricWarning: Precision and F-score are ill-defined and being set to 0.0 in labels with no predicted samples. Use `zero_division` parameter to control this behavior.\n",
      "  _warn_prf(average, modifier, msg_start, len(result))\n",
      "C:\\Users\\User1\\anaconda3\\envs\\tensorflow_env\\lib\\site-packages\\sklearn\\metrics\\_classification.py:1245: UndefinedMetricWarning: Precision and F-score are ill-defined and being set to 0.0 in labels with no predicted samples. Use `zero_division` parameter to control this behavior.\n",
      "  _warn_prf(average, modifier, msg_start, len(result))\n",
      "C:\\Users\\User1\\anaconda3\\envs\\tensorflow_env\\lib\\site-packages\\sklearn\\metrics\\_classification.py:1245: UndefinedMetricWarning: Precision and F-score are ill-defined and being set to 0.0 in labels with no predicted samples. Use `zero_division` parameter to control this behavior.\n",
      "  _warn_prf(average, modifier, msg_start, len(result))\n",
      "C:\\Users\\User1\\anaconda3\\envs\\tensorflow_env\\lib\\site-packages\\tensorflow\\python\\data\\ops\\dataset_ops.py:3349: UserWarning: Even though the tf.config.experimental_run_functions_eagerly option is set, this option does not apply to tf.data functions. tf.data functions are still traced and executed as graphs.\n",
      "  warnings.warn(\n",
      "C:\\Users\\User1\\anaconda3\\envs\\tensorflow_env\\lib\\site-packages\\tensorflow\\python\\data\\ops\\dataset_ops.py:3349: UserWarning: Even though the tf.config.experimental_run_functions_eagerly option is set, this option does not apply to tf.data functions. tf.data functions are still traced and executed as graphs.\n",
      "  warnings.warn(\n"
     ]
    },
    {
     "name": "stdout",
     "output_type": "stream",
     "text": [
      "Fitting the  38 / 48  model\n"
     ]
    },
    {
     "name": "stderr",
     "output_type": "stream",
     "text": [
      "C:\\Users\\User1\\anaconda3\\envs\\tensorflow_env\\lib\\site-packages\\tensorflow\\python\\data\\ops\\dataset_ops.py:3349: UserWarning: Even though the tf.config.experimental_run_functions_eagerly option is set, this option does not apply to tf.data functions. tf.data functions are still traced and executed as graphs.\n",
      "  warnings.warn(\n",
      "C:\\Users\\User1\\anaconda3\\envs\\tensorflow_env\\lib\\site-packages\\tensorflow\\python\\data\\ops\\dataset_ops.py:3349: UserWarning: Even though the tf.config.experimental_run_functions_eagerly option is set, this option does not apply to tf.data functions. tf.data functions are still traced and executed as graphs.\n",
      "  warnings.warn(\n",
      "C:\\Users\\User1\\anaconda3\\envs\\tensorflow_env\\lib\\site-packages\\sklearn\\metrics\\_classification.py:1245: UndefinedMetricWarning: Precision and F-score are ill-defined and being set to 0.0 in labels with no predicted samples. Use `zero_division` parameter to control this behavior.\n",
      "  _warn_prf(average, modifier, msg_start, len(result))\n",
      "C:\\Users\\User1\\anaconda3\\envs\\tensorflow_env\\lib\\site-packages\\sklearn\\metrics\\_classification.py:1245: UndefinedMetricWarning: Precision and F-score are ill-defined and being set to 0.0 in labels with no predicted samples. Use `zero_division` parameter to control this behavior.\n",
      "  _warn_prf(average, modifier, msg_start, len(result))\n",
      "C:\\Users\\User1\\anaconda3\\envs\\tensorflow_env\\lib\\site-packages\\sklearn\\metrics\\_classification.py:1245: UndefinedMetricWarning: Precision and F-score are ill-defined and being set to 0.0 in labels with no predicted samples. Use `zero_division` parameter to control this behavior.\n",
      "  _warn_prf(average, modifier, msg_start, len(result))\n",
      "C:\\Users\\User1\\anaconda3\\envs\\tensorflow_env\\lib\\site-packages\\tensorflow\\python\\data\\ops\\dataset_ops.py:3349: UserWarning: Even though the tf.config.experimental_run_functions_eagerly option is set, this option does not apply to tf.data functions. tf.data functions are still traced and executed as graphs.\n",
      "  warnings.warn(\n",
      "C:\\Users\\User1\\anaconda3\\envs\\tensorflow_env\\lib\\site-packages\\tensorflow\\python\\data\\ops\\dataset_ops.py:3349: UserWarning: Even though the tf.config.experimental_run_functions_eagerly option is set, this option does not apply to tf.data functions. tf.data functions are still traced and executed as graphs.\n",
      "  warnings.warn(\n"
     ]
    },
    {
     "name": "stdout",
     "output_type": "stream",
     "text": [
      "Fitting the  39 / 48  model\n"
     ]
    },
    {
     "name": "stderr",
     "output_type": "stream",
     "text": [
      "C:\\Users\\User1\\anaconda3\\envs\\tensorflow_env\\lib\\site-packages\\tensorflow\\python\\data\\ops\\dataset_ops.py:3349: UserWarning: Even though the tf.config.experimental_run_functions_eagerly option is set, this option does not apply to tf.data functions. tf.data functions are still traced and executed as graphs.\n",
      "  warnings.warn(\n",
      "C:\\Users\\User1\\anaconda3\\envs\\tensorflow_env\\lib\\site-packages\\tensorflow\\python\\data\\ops\\dataset_ops.py:3349: UserWarning: Even though the tf.config.experimental_run_functions_eagerly option is set, this option does not apply to tf.data functions. tf.data functions are still traced and executed as graphs.\n",
      "  warnings.warn(\n",
      "C:\\Users\\User1\\anaconda3\\envs\\tensorflow_env\\lib\\site-packages\\sklearn\\metrics\\_classification.py:1245: UndefinedMetricWarning: Precision and F-score are ill-defined and being set to 0.0 in labels with no predicted samples. Use `zero_division` parameter to control this behavior.\n",
      "  _warn_prf(average, modifier, msg_start, len(result))\n",
      "C:\\Users\\User1\\anaconda3\\envs\\tensorflow_env\\lib\\site-packages\\sklearn\\metrics\\_classification.py:1245: UndefinedMetricWarning: Precision and F-score are ill-defined and being set to 0.0 in labels with no predicted samples. Use `zero_division` parameter to control this behavior.\n",
      "  _warn_prf(average, modifier, msg_start, len(result))\n",
      "C:\\Users\\User1\\anaconda3\\envs\\tensorflow_env\\lib\\site-packages\\sklearn\\metrics\\_classification.py:1245: UndefinedMetricWarning: Precision and F-score are ill-defined and being set to 0.0 in labels with no predicted samples. Use `zero_division` parameter to control this behavior.\n",
      "  _warn_prf(average, modifier, msg_start, len(result))\n",
      "C:\\Users\\User1\\anaconda3\\envs\\tensorflow_env\\lib\\site-packages\\tensorflow\\python\\data\\ops\\dataset_ops.py:3349: UserWarning: Even though the tf.config.experimental_run_functions_eagerly option is set, this option does not apply to tf.data functions. tf.data functions are still traced and executed as graphs.\n",
      "  warnings.warn(\n",
      "C:\\Users\\User1\\anaconda3\\envs\\tensorflow_env\\lib\\site-packages\\tensorflow\\python\\data\\ops\\dataset_ops.py:3349: UserWarning: Even though the tf.config.experimental_run_functions_eagerly option is set, this option does not apply to tf.data functions. tf.data functions are still traced and executed as graphs.\n",
      "  warnings.warn(\n"
     ]
    },
    {
     "name": "stdout",
     "output_type": "stream",
     "text": [
      "Fitting the  40 / 48  model\n"
     ]
    },
    {
     "name": "stderr",
     "output_type": "stream",
     "text": [
      "C:\\Users\\User1\\anaconda3\\envs\\tensorflow_env\\lib\\site-packages\\tensorflow\\python\\data\\ops\\dataset_ops.py:3349: UserWarning: Even though the tf.config.experimental_run_functions_eagerly option is set, this option does not apply to tf.data functions. tf.data functions are still traced and executed as graphs.\n",
      "  warnings.warn(\n",
      "C:\\Users\\User1\\anaconda3\\envs\\tensorflow_env\\lib\\site-packages\\tensorflow\\python\\data\\ops\\dataset_ops.py:3349: UserWarning: Even though the tf.config.experimental_run_functions_eagerly option is set, this option does not apply to tf.data functions. tf.data functions are still traced and executed as graphs.\n",
      "  warnings.warn(\n",
      "C:\\Users\\User1\\anaconda3\\envs\\tensorflow_env\\lib\\site-packages\\sklearn\\metrics\\_classification.py:1245: UndefinedMetricWarning: Precision and F-score are ill-defined and being set to 0.0 in labels with no predicted samples. Use `zero_division` parameter to control this behavior.\n",
      "  _warn_prf(average, modifier, msg_start, len(result))\n",
      "C:\\Users\\User1\\anaconda3\\envs\\tensorflow_env\\lib\\site-packages\\sklearn\\metrics\\_classification.py:1245: UndefinedMetricWarning: Precision and F-score are ill-defined and being set to 0.0 in labels with no predicted samples. Use `zero_division` parameter to control this behavior.\n",
      "  _warn_prf(average, modifier, msg_start, len(result))\n",
      "C:\\Users\\User1\\anaconda3\\envs\\tensorflow_env\\lib\\site-packages\\sklearn\\metrics\\_classification.py:1245: UndefinedMetricWarning: Precision and F-score are ill-defined and being set to 0.0 in labels with no predicted samples. Use `zero_division` parameter to control this behavior.\n",
      "  _warn_prf(average, modifier, msg_start, len(result))\n",
      "C:\\Users\\User1\\anaconda3\\envs\\tensorflow_env\\lib\\site-packages\\tensorflow\\python\\data\\ops\\dataset_ops.py:3349: UserWarning: Even though the tf.config.experimental_run_functions_eagerly option is set, this option does not apply to tf.data functions. tf.data functions are still traced and executed as graphs.\n",
      "  warnings.warn(\n",
      "C:\\Users\\User1\\anaconda3\\envs\\tensorflow_env\\lib\\site-packages\\tensorflow\\python\\data\\ops\\dataset_ops.py:3349: UserWarning: Even though the tf.config.experimental_run_functions_eagerly option is set, this option does not apply to tf.data functions. tf.data functions are still traced and executed as graphs.\n",
      "  warnings.warn(\n"
     ]
    },
    {
     "name": "stdout",
     "output_type": "stream",
     "text": [
      "Fitting the  41 / 48  model\n"
     ]
    },
    {
     "name": "stderr",
     "output_type": "stream",
     "text": [
      "C:\\Users\\User1\\anaconda3\\envs\\tensorflow_env\\lib\\site-packages\\tensorflow\\python\\data\\ops\\dataset_ops.py:3349: UserWarning: Even though the tf.config.experimental_run_functions_eagerly option is set, this option does not apply to tf.data functions. tf.data functions are still traced and executed as graphs.\n",
      "  warnings.warn(\n",
      "C:\\Users\\User1\\anaconda3\\envs\\tensorflow_env\\lib\\site-packages\\tensorflow\\python\\data\\ops\\dataset_ops.py:3349: UserWarning: Even though the tf.config.experimental_run_functions_eagerly option is set, this option does not apply to tf.data functions. tf.data functions are still traced and executed as graphs.\n",
      "  warnings.warn(\n",
      "C:\\Users\\User1\\anaconda3\\envs\\tensorflow_env\\lib\\site-packages\\sklearn\\metrics\\_classification.py:1245: UndefinedMetricWarning: Precision and F-score are ill-defined and being set to 0.0 in labels with no predicted samples. Use `zero_division` parameter to control this behavior.\n",
      "  _warn_prf(average, modifier, msg_start, len(result))\n",
      "C:\\Users\\User1\\anaconda3\\envs\\tensorflow_env\\lib\\site-packages\\sklearn\\metrics\\_classification.py:1245: UndefinedMetricWarning: Precision and F-score are ill-defined and being set to 0.0 in labels with no predicted samples. Use `zero_division` parameter to control this behavior.\n",
      "  _warn_prf(average, modifier, msg_start, len(result))\n",
      "C:\\Users\\User1\\anaconda3\\envs\\tensorflow_env\\lib\\site-packages\\sklearn\\metrics\\_classification.py:1245: UndefinedMetricWarning: Precision and F-score are ill-defined and being set to 0.0 in labels with no predicted samples. Use `zero_division` parameter to control this behavior.\n",
      "  _warn_prf(average, modifier, msg_start, len(result))\n",
      "C:\\Users\\User1\\anaconda3\\envs\\tensorflow_env\\lib\\site-packages\\tensorflow\\python\\data\\ops\\dataset_ops.py:3349: UserWarning: Even though the tf.config.experimental_run_functions_eagerly option is set, this option does not apply to tf.data functions. tf.data functions are still traced and executed as graphs.\n",
      "  warnings.warn(\n",
      "C:\\Users\\User1\\anaconda3\\envs\\tensorflow_env\\lib\\site-packages\\tensorflow\\python\\data\\ops\\dataset_ops.py:3349: UserWarning: Even though the tf.config.experimental_run_functions_eagerly option is set, this option does not apply to tf.data functions. tf.data functions are still traced and executed as graphs.\n",
      "  warnings.warn(\n"
     ]
    },
    {
     "name": "stdout",
     "output_type": "stream",
     "text": [
      "Fitting the  42 / 48  model\n"
     ]
    },
    {
     "name": "stderr",
     "output_type": "stream",
     "text": [
      "C:\\Users\\User1\\anaconda3\\envs\\tensorflow_env\\lib\\site-packages\\tensorflow\\python\\data\\ops\\dataset_ops.py:3349: UserWarning: Even though the tf.config.experimental_run_functions_eagerly option is set, this option does not apply to tf.data functions. tf.data functions are still traced and executed as graphs.\n",
      "  warnings.warn(\n",
      "C:\\Users\\User1\\anaconda3\\envs\\tensorflow_env\\lib\\site-packages\\tensorflow\\python\\data\\ops\\dataset_ops.py:3349: UserWarning: Even though the tf.config.experimental_run_functions_eagerly option is set, this option does not apply to tf.data functions. tf.data functions are still traced and executed as graphs.\n",
      "  warnings.warn(\n",
      "C:\\Users\\User1\\anaconda3\\envs\\tensorflow_env\\lib\\site-packages\\sklearn\\metrics\\_classification.py:1245: UndefinedMetricWarning: Precision and F-score are ill-defined and being set to 0.0 in labels with no predicted samples. Use `zero_division` parameter to control this behavior.\n",
      "  _warn_prf(average, modifier, msg_start, len(result))\n",
      "C:\\Users\\User1\\anaconda3\\envs\\tensorflow_env\\lib\\site-packages\\sklearn\\metrics\\_classification.py:1245: UndefinedMetricWarning: Precision and F-score are ill-defined and being set to 0.0 in labels with no predicted samples. Use `zero_division` parameter to control this behavior.\n",
      "  _warn_prf(average, modifier, msg_start, len(result))\n",
      "C:\\Users\\User1\\anaconda3\\envs\\tensorflow_env\\lib\\site-packages\\sklearn\\metrics\\_classification.py:1245: UndefinedMetricWarning: Precision and F-score are ill-defined and being set to 0.0 in labels with no predicted samples. Use `zero_division` parameter to control this behavior.\n",
      "  _warn_prf(average, modifier, msg_start, len(result))\n",
      "C:\\Users\\User1\\anaconda3\\envs\\tensorflow_env\\lib\\site-packages\\tensorflow\\python\\data\\ops\\dataset_ops.py:3349: UserWarning: Even though the tf.config.experimental_run_functions_eagerly option is set, this option does not apply to tf.data functions. tf.data functions are still traced and executed as graphs.\n",
      "  warnings.warn(\n",
      "C:\\Users\\User1\\anaconda3\\envs\\tensorflow_env\\lib\\site-packages\\tensorflow\\python\\data\\ops\\dataset_ops.py:3349: UserWarning: Even though the tf.config.experimental_run_functions_eagerly option is set, this option does not apply to tf.data functions. tf.data functions are still traced and executed as graphs.\n",
      "  warnings.warn(\n"
     ]
    },
    {
     "name": "stdout",
     "output_type": "stream",
     "text": [
      "Fitting the  43 / 48  model\n"
     ]
    },
    {
     "name": "stderr",
     "output_type": "stream",
     "text": [
      "C:\\Users\\User1\\anaconda3\\envs\\tensorflow_env\\lib\\site-packages\\tensorflow\\python\\data\\ops\\dataset_ops.py:3349: UserWarning: Even though the tf.config.experimental_run_functions_eagerly option is set, this option does not apply to tf.data functions. tf.data functions are still traced and executed as graphs.\n",
      "  warnings.warn(\n",
      "C:\\Users\\User1\\anaconda3\\envs\\tensorflow_env\\lib\\site-packages\\tensorflow\\python\\data\\ops\\dataset_ops.py:3349: UserWarning: Even though the tf.config.experimental_run_functions_eagerly option is set, this option does not apply to tf.data functions. tf.data functions are still traced and executed as graphs.\n",
      "  warnings.warn(\n",
      "C:\\Users\\User1\\anaconda3\\envs\\tensorflow_env\\lib\\site-packages\\sklearn\\metrics\\_classification.py:1245: UndefinedMetricWarning: Precision and F-score are ill-defined and being set to 0.0 in labels with no predicted samples. Use `zero_division` parameter to control this behavior.\n",
      "  _warn_prf(average, modifier, msg_start, len(result))\n",
      "C:\\Users\\User1\\anaconda3\\envs\\tensorflow_env\\lib\\site-packages\\sklearn\\metrics\\_classification.py:1245: UndefinedMetricWarning: Precision and F-score are ill-defined and being set to 0.0 in labels with no predicted samples. Use `zero_division` parameter to control this behavior.\n",
      "  _warn_prf(average, modifier, msg_start, len(result))\n",
      "C:\\Users\\User1\\anaconda3\\envs\\tensorflow_env\\lib\\site-packages\\sklearn\\metrics\\_classification.py:1245: UndefinedMetricWarning: Precision and F-score are ill-defined and being set to 0.0 in labels with no predicted samples. Use `zero_division` parameter to control this behavior.\n",
      "  _warn_prf(average, modifier, msg_start, len(result))\n",
      "C:\\Users\\User1\\anaconda3\\envs\\tensorflow_env\\lib\\site-packages\\tensorflow\\python\\data\\ops\\dataset_ops.py:3349: UserWarning: Even though the tf.config.experimental_run_functions_eagerly option is set, this option does not apply to tf.data functions. tf.data functions are still traced and executed as graphs.\n",
      "  warnings.warn(\n",
      "C:\\Users\\User1\\anaconda3\\envs\\tensorflow_env\\lib\\site-packages\\tensorflow\\python\\data\\ops\\dataset_ops.py:3349: UserWarning: Even though the tf.config.experimental_run_functions_eagerly option is set, this option does not apply to tf.data functions. tf.data functions are still traced and executed as graphs.\n",
      "  warnings.warn(\n"
     ]
    },
    {
     "name": "stdout",
     "output_type": "stream",
     "text": [
      "Fitting the  44 / 48  model\n"
     ]
    },
    {
     "name": "stderr",
     "output_type": "stream",
     "text": [
      "C:\\Users\\User1\\anaconda3\\envs\\tensorflow_env\\lib\\site-packages\\tensorflow\\python\\data\\ops\\dataset_ops.py:3349: UserWarning: Even though the tf.config.experimental_run_functions_eagerly option is set, this option does not apply to tf.data functions. tf.data functions are still traced and executed as graphs.\n",
      "  warnings.warn(\n",
      "C:\\Users\\User1\\anaconda3\\envs\\tensorflow_env\\lib\\site-packages\\tensorflow\\python\\data\\ops\\dataset_ops.py:3349: UserWarning: Even though the tf.config.experimental_run_functions_eagerly option is set, this option does not apply to tf.data functions. tf.data functions are still traced and executed as graphs.\n",
      "  warnings.warn(\n",
      "C:\\Users\\User1\\anaconda3\\envs\\tensorflow_env\\lib\\site-packages\\sklearn\\metrics\\_classification.py:1245: UndefinedMetricWarning: Precision and F-score are ill-defined and being set to 0.0 in labels with no predicted samples. Use `zero_division` parameter to control this behavior.\n",
      "  _warn_prf(average, modifier, msg_start, len(result))\n",
      "C:\\Users\\User1\\anaconda3\\envs\\tensorflow_env\\lib\\site-packages\\sklearn\\metrics\\_classification.py:1245: UndefinedMetricWarning: Precision and F-score are ill-defined and being set to 0.0 in labels with no predicted samples. Use `zero_division` parameter to control this behavior.\n",
      "  _warn_prf(average, modifier, msg_start, len(result))\n",
      "C:\\Users\\User1\\anaconda3\\envs\\tensorflow_env\\lib\\site-packages\\sklearn\\metrics\\_classification.py:1245: UndefinedMetricWarning: Precision and F-score are ill-defined and being set to 0.0 in labels with no predicted samples. Use `zero_division` parameter to control this behavior.\n",
      "  _warn_prf(average, modifier, msg_start, len(result))\n",
      "C:\\Users\\User1\\anaconda3\\envs\\tensorflow_env\\lib\\site-packages\\tensorflow\\python\\data\\ops\\dataset_ops.py:3349: UserWarning: Even though the tf.config.experimental_run_functions_eagerly option is set, this option does not apply to tf.data functions. tf.data functions are still traced and executed as graphs.\n",
      "  warnings.warn(\n",
      "C:\\Users\\User1\\anaconda3\\envs\\tensorflow_env\\lib\\site-packages\\tensorflow\\python\\data\\ops\\dataset_ops.py:3349: UserWarning: Even though the tf.config.experimental_run_functions_eagerly option is set, this option does not apply to tf.data functions. tf.data functions are still traced and executed as graphs.\n",
      "  warnings.warn(\n"
     ]
    },
    {
     "name": "stdout",
     "output_type": "stream",
     "text": [
      "Fitting the  45 / 48  model\n"
     ]
    },
    {
     "name": "stderr",
     "output_type": "stream",
     "text": [
      "C:\\Users\\User1\\anaconda3\\envs\\tensorflow_env\\lib\\site-packages\\tensorflow\\python\\data\\ops\\dataset_ops.py:3349: UserWarning: Even though the tf.config.experimental_run_functions_eagerly option is set, this option does not apply to tf.data functions. tf.data functions are still traced and executed as graphs.\n",
      "  warnings.warn(\n",
      "C:\\Users\\User1\\anaconda3\\envs\\tensorflow_env\\lib\\site-packages\\tensorflow\\python\\data\\ops\\dataset_ops.py:3349: UserWarning: Even though the tf.config.experimental_run_functions_eagerly option is set, this option does not apply to tf.data functions. tf.data functions are still traced and executed as graphs.\n",
      "  warnings.warn(\n",
      "C:\\Users\\User1\\anaconda3\\envs\\tensorflow_env\\lib\\site-packages\\sklearn\\metrics\\_classification.py:1245: UndefinedMetricWarning: Precision and F-score are ill-defined and being set to 0.0 in labels with no predicted samples. Use `zero_division` parameter to control this behavior.\n",
      "  _warn_prf(average, modifier, msg_start, len(result))\n",
      "C:\\Users\\User1\\anaconda3\\envs\\tensorflow_env\\lib\\site-packages\\sklearn\\metrics\\_classification.py:1245: UndefinedMetricWarning: Precision and F-score are ill-defined and being set to 0.0 in labels with no predicted samples. Use `zero_division` parameter to control this behavior.\n",
      "  _warn_prf(average, modifier, msg_start, len(result))\n",
      "C:\\Users\\User1\\anaconda3\\envs\\tensorflow_env\\lib\\site-packages\\sklearn\\metrics\\_classification.py:1245: UndefinedMetricWarning: Precision and F-score are ill-defined and being set to 0.0 in labels with no predicted samples. Use `zero_division` parameter to control this behavior.\n",
      "  _warn_prf(average, modifier, msg_start, len(result))\n",
      "C:\\Users\\User1\\anaconda3\\envs\\tensorflow_env\\lib\\site-packages\\tensorflow\\python\\data\\ops\\dataset_ops.py:3349: UserWarning: Even though the tf.config.experimental_run_functions_eagerly option is set, this option does not apply to tf.data functions. tf.data functions are still traced and executed as graphs.\n",
      "  warnings.warn(\n",
      "C:\\Users\\User1\\anaconda3\\envs\\tensorflow_env\\lib\\site-packages\\tensorflow\\python\\data\\ops\\dataset_ops.py:3349: UserWarning: Even though the tf.config.experimental_run_functions_eagerly option is set, this option does not apply to tf.data functions. tf.data functions are still traced and executed as graphs.\n",
      "  warnings.warn(\n"
     ]
    },
    {
     "name": "stdout",
     "output_type": "stream",
     "text": [
      "Fitting the  46 / 48  model\n"
     ]
    },
    {
     "name": "stderr",
     "output_type": "stream",
     "text": [
      "C:\\Users\\User1\\anaconda3\\envs\\tensorflow_env\\lib\\site-packages\\tensorflow\\python\\data\\ops\\dataset_ops.py:3349: UserWarning: Even though the tf.config.experimental_run_functions_eagerly option is set, this option does not apply to tf.data functions. tf.data functions are still traced and executed as graphs.\n",
      "  warnings.warn(\n",
      "C:\\Users\\User1\\anaconda3\\envs\\tensorflow_env\\lib\\site-packages\\tensorflow\\python\\data\\ops\\dataset_ops.py:3349: UserWarning: Even though the tf.config.experimental_run_functions_eagerly option is set, this option does not apply to tf.data functions. tf.data functions are still traced and executed as graphs.\n",
      "  warnings.warn(\n",
      "C:\\Users\\User1\\anaconda3\\envs\\tensorflow_env\\lib\\site-packages\\sklearn\\metrics\\_classification.py:1245: UndefinedMetricWarning: Precision and F-score are ill-defined and being set to 0.0 in labels with no predicted samples. Use `zero_division` parameter to control this behavior.\n",
      "  _warn_prf(average, modifier, msg_start, len(result))\n",
      "C:\\Users\\User1\\anaconda3\\envs\\tensorflow_env\\lib\\site-packages\\sklearn\\metrics\\_classification.py:1245: UndefinedMetricWarning: Precision and F-score are ill-defined and being set to 0.0 in labels with no predicted samples. Use `zero_division` parameter to control this behavior.\n",
      "  _warn_prf(average, modifier, msg_start, len(result))\n",
      "C:\\Users\\User1\\anaconda3\\envs\\tensorflow_env\\lib\\site-packages\\sklearn\\metrics\\_classification.py:1245: UndefinedMetricWarning: Precision and F-score are ill-defined and being set to 0.0 in labels with no predicted samples. Use `zero_division` parameter to control this behavior.\n",
      "  _warn_prf(average, modifier, msg_start, len(result))\n",
      "C:\\Users\\User1\\anaconda3\\envs\\tensorflow_env\\lib\\site-packages\\tensorflow\\python\\data\\ops\\dataset_ops.py:3349: UserWarning: Even though the tf.config.experimental_run_functions_eagerly option is set, this option does not apply to tf.data functions. tf.data functions are still traced and executed as graphs.\n",
      "  warnings.warn(\n",
      "C:\\Users\\User1\\anaconda3\\envs\\tensorflow_env\\lib\\site-packages\\tensorflow\\python\\data\\ops\\dataset_ops.py:3349: UserWarning: Even though the tf.config.experimental_run_functions_eagerly option is set, this option does not apply to tf.data functions. tf.data functions are still traced and executed as graphs.\n",
      "  warnings.warn(\n"
     ]
    },
    {
     "name": "stdout",
     "output_type": "stream",
     "text": [
      "Fitting the  47 / 48  model\n"
     ]
    },
    {
     "name": "stderr",
     "output_type": "stream",
     "text": [
      "C:\\Users\\User1\\anaconda3\\envs\\tensorflow_env\\lib\\site-packages\\tensorflow\\python\\data\\ops\\dataset_ops.py:3349: UserWarning: Even though the tf.config.experimental_run_functions_eagerly option is set, this option does not apply to tf.data functions. tf.data functions are still traced and executed as graphs.\n",
      "  warnings.warn(\n",
      "C:\\Users\\User1\\anaconda3\\envs\\tensorflow_env\\lib\\site-packages\\tensorflow\\python\\data\\ops\\dataset_ops.py:3349: UserWarning: Even though the tf.config.experimental_run_functions_eagerly option is set, this option does not apply to tf.data functions. tf.data functions are still traced and executed as graphs.\n",
      "  warnings.warn(\n",
      "C:\\Users\\User1\\anaconda3\\envs\\tensorflow_env\\lib\\site-packages\\sklearn\\metrics\\_classification.py:1245: UndefinedMetricWarning: Precision and F-score are ill-defined and being set to 0.0 in labels with no predicted samples. Use `zero_division` parameter to control this behavior.\n",
      "  _warn_prf(average, modifier, msg_start, len(result))\n",
      "C:\\Users\\User1\\anaconda3\\envs\\tensorflow_env\\lib\\site-packages\\sklearn\\metrics\\_classification.py:1245: UndefinedMetricWarning: Precision and F-score are ill-defined and being set to 0.0 in labels with no predicted samples. Use `zero_division` parameter to control this behavior.\n",
      "  _warn_prf(average, modifier, msg_start, len(result))\n",
      "C:\\Users\\User1\\anaconda3\\envs\\tensorflow_env\\lib\\site-packages\\sklearn\\metrics\\_classification.py:1245: UndefinedMetricWarning: Precision and F-score are ill-defined and being set to 0.0 in labels with no predicted samples. Use `zero_division` parameter to control this behavior.\n",
      "  _warn_prf(average, modifier, msg_start, len(result))\n",
      "C:\\Users\\User1\\anaconda3\\envs\\tensorflow_env\\lib\\site-packages\\tensorflow\\python\\data\\ops\\dataset_ops.py:3349: UserWarning: Even though the tf.config.experimental_run_functions_eagerly option is set, this option does not apply to tf.data functions. tf.data functions are still traced and executed as graphs.\n",
      "  warnings.warn(\n",
      "C:\\Users\\User1\\anaconda3\\envs\\tensorflow_env\\lib\\site-packages\\tensorflow\\python\\data\\ops\\dataset_ops.py:3349: UserWarning: Even though the tf.config.experimental_run_functions_eagerly option is set, this option does not apply to tf.data functions. tf.data functions are still traced and executed as graphs.\n",
      "  warnings.warn(\n"
     ]
    },
    {
     "name": "stdout",
     "output_type": "stream",
     "text": [
      "Fitting the  48 / 48  model\n"
     ]
    },
    {
     "name": "stderr",
     "output_type": "stream",
     "text": [
      "C:\\Users\\User1\\anaconda3\\envs\\tensorflow_env\\lib\\site-packages\\tensorflow\\python\\data\\ops\\dataset_ops.py:3349: UserWarning: Even though the tf.config.experimental_run_functions_eagerly option is set, this option does not apply to tf.data functions. tf.data functions are still traced and executed as graphs.\n",
      "  warnings.warn(\n",
      "C:\\Users\\User1\\anaconda3\\envs\\tensorflow_env\\lib\\site-packages\\tensorflow\\python\\data\\ops\\dataset_ops.py:3349: UserWarning: Even though the tf.config.experimental_run_functions_eagerly option is set, this option does not apply to tf.data functions. tf.data functions are still traced and executed as graphs.\n",
      "  warnings.warn(\n",
      "C:\\Users\\User1\\anaconda3\\envs\\tensorflow_env\\lib\\site-packages\\sklearn\\metrics\\_classification.py:1245: UndefinedMetricWarning: Precision and F-score are ill-defined and being set to 0.0 in labels with no predicted samples. Use `zero_division` parameter to control this behavior.\n",
      "  _warn_prf(average, modifier, msg_start, len(result))\n",
      "C:\\Users\\User1\\anaconda3\\envs\\tensorflow_env\\lib\\site-packages\\sklearn\\metrics\\_classification.py:1245: UndefinedMetricWarning: Precision and F-score are ill-defined and being set to 0.0 in labels with no predicted samples. Use `zero_division` parameter to control this behavior.\n",
      "  _warn_prf(average, modifier, msg_start, len(result))\n",
      "C:\\Users\\User1\\anaconda3\\envs\\tensorflow_env\\lib\\site-packages\\sklearn\\metrics\\_classification.py:1245: UndefinedMetricWarning: Precision and F-score are ill-defined and being set to 0.0 in labels with no predicted samples. Use `zero_division` parameter to control this behavior.\n",
      "  _warn_prf(average, modifier, msg_start, len(result))\n"
     ]
    }
   ],
   "source": [
    "# define the drop out grid\n",
    "dropout_grid = [0.1, 0.5, 0.9]\n",
    "l1_grid = [2**-5, 2**-6, 2**-7, 2**-8]\n",
    "l2_grid = [2**-5, 2**-6, 2**-7, 2**-8]\n",
    "tot = len(dropout_grid) * len(l1_grid) * len(l2_grid)\n",
    "\n",
    "# variables for the best result\n",
    "scores = []\n",
    "best_history = [] # place holder\n",
    "best_ind = 0\n",
    "best_acc = 0\n",
    "\n",
    "# loop through each combination\n",
    "pos = 0\n",
    "for ii in dropout_grid:\n",
    "    for jj in l1_grid:\n",
    "        for kk in l2_grid:\n",
    "            pos = pos + 1\n",
    "            print(\"Fitting the \", pos, \"/\", tot , \" model\")\n",
    "            # define the model\n",
    "            curr_model = define_CNN_model(ii, jj, kk)\n",
    "            #curr_model.summary()\n",
    "            \n",
    "            # train the model\n",
    "            curr_history = curr_model.fit(training_X, training_y_encoded, epochs = 10, validation_data = (val_X, val_y_encoded), verbose = 0)\n",
    "            curr_acc = st.mean(curr_history.history['val_accuracy'][5:10])\n",
    "                        \n",
    "            # get prediction report\n",
    "            y_pred = curr_model.predict(val_X, batch_size=64, verbose=0)\n",
    "            y_pred_bool = np.argmax(y_pred, axis=1)\n",
    "            scores.append(classification_report(val_y, y_pred_bool))\n",
    "            \n",
    "            # save the best result\n",
    "            if best_acc < curr_acc:\n",
    "                best_acc = curr_acc\n",
    "                best_ind = pos - 1\n",
    "                best_history = curr_history"
   ]
  },
  {
   "cell_type": "code",
   "execution_count": 73,
   "id": "local-japan",
   "metadata": {},
   "outputs": [
    {
     "name": "stdout",
     "output_type": "stream",
     "text": [
      "              precision    recall  f1-score   support\n",
      "\n",
      "         0.0       0.55      0.52      0.53      1783\n",
      "         1.0       0.85      0.80      0.83      1843\n",
      "         2.0       0.91      0.91      0.91      1818\n",
      "         3.0       0.56      0.62      0.59      1862\n",
      "\n",
      "    accuracy                           0.71      7306\n",
      "   macro avg       0.72      0.71      0.72      7306\n",
      "weighted avg       0.72      0.71      0.72      7306\n",
      "\n"
     ]
    },
    {
     "data": {
      "image/png": "[encoded data removed]",
      "text/plain": [
       "<Figure size 432x288 with 1 Axes>"
      ]
     },
     "metadata": {
      "needs_background": "light"
     },
     "output_type": "display_data"
    },
    {
     "data": {
      "image/png": "[encoded data removed]",
      "text/plain": [
       "<Figure size 432x288 with 1 Axes>"
      ]
     },
     "metadata": {
      "needs_background": "light"
     },
     "output_type": "display_data"
    }
   ],
   "source": [
    "# print scores\n",
    "print(scores[best_ind])\n",
    "\n",
    "# print learning curve\n",
    "plot_history(best_history)"
   ]
  },
  {
   "cell_type": "code",
   "execution_count": 82,
   "id": "appointed-philip",
   "metadata": {},
   "outputs": [
    {
     "name": "stdout",
     "output_type": "stream",
     "text": [
      "model  1 :\n",
      "               precision    recall  f1-score   support\n",
      "\n",
      "         0.0       0.51      0.65      0.57      1783\n",
      "         1.0       0.83      0.80      0.82      1843\n",
      "         2.0       0.93      0.89      0.91      1818\n",
      "         3.0       0.59      0.49      0.54      1862\n",
      "\n",
      "    accuracy                           0.71      7306\n",
      "   macro avg       0.72      0.71      0.71      7306\n",
      "weighted avg       0.72      0.71      0.71      7306\n",
      "\n",
      "model  2 :\n",
      "               precision    recall  f1-score   support\n",
      "\n",
      "         0.0       0.53      0.64      0.58      1783\n",
      "         1.0       0.82      0.83      0.82      1843\n",
      "         2.0       0.88      0.93      0.91      1818\n",
      "         3.0       0.61      0.44      0.51      1862\n",
      "\n",
      "    accuracy                           0.71      7306\n",
      "   macro avg       0.71      0.71      0.70      7306\n",
      "weighted avg       0.71      0.71      0.70      7306\n",
      "\n",
      "model  3 :\n",
      "               precision    recall  f1-score   support\n",
      "\n",
      "         0.0       0.52      0.57      0.54      1783\n",
      "         1.0       0.81      0.82      0.81      1843\n",
      "         2.0       0.86      0.92      0.89      1818\n",
      "         3.0       0.59      0.48      0.53      1862\n",
      "\n",
      "    accuracy                           0.70      7306\n",
      "   macro avg       0.69      0.70      0.69      7306\n",
      "weighted avg       0.69      0.70      0.69      7306\n",
      "\n",
      "model  4 :\n",
      "               precision    recall  f1-score   support\n",
      "\n",
      "         0.0       0.51      0.59      0.55      1783\n",
      "         1.0       0.78      0.84      0.81      1843\n",
      "         2.0       0.90      0.90      0.90      1818\n",
      "         3.0       0.58      0.45      0.51      1862\n",
      "\n",
      "    accuracy                           0.69      7306\n",
      "   macro avg       0.69      0.70      0.69      7306\n",
      "weighted avg       0.69      0.69      0.69      7306\n",
      "\n",
      "model  5 :\n",
      "               precision    recall  f1-score   support\n",
      "\n",
      "         0.0       0.55      0.55      0.55      1783\n",
      "         1.0       0.79      0.85      0.82      1843\n",
      "         2.0       0.86      0.93      0.90      1818\n",
      "         3.0       0.60      0.49      0.54      1862\n",
      "\n",
      "    accuracy                           0.71      7306\n",
      "   macro avg       0.70      0.71      0.70      7306\n",
      "weighted avg       0.70      0.71      0.70      7306\n",
      "\n",
      "model  6 :\n",
      "               precision    recall  f1-score   support\n",
      "\n",
      "         0.0       0.51      0.68      0.58      1783\n",
      "         1.0       0.81      0.83      0.82      1843\n",
      "         2.0       0.90      0.91      0.91      1818\n",
      "         3.0       0.60      0.38      0.46      1862\n",
      "\n",
      "    accuracy                           0.70      7306\n",
      "   macro avg       0.70      0.70      0.69      7306\n",
      "weighted avg       0.70      0.70      0.69      7306\n",
      "\n",
      "model  7 :\n",
      "               precision    recall  f1-score   support\n",
      "\n",
      "         0.0       0.49      0.57      0.52      1783\n",
      "         1.0       0.83      0.79      0.81      1843\n",
      "         2.0       0.95      0.83      0.89      1818\n",
      "         3.0       0.56      0.56      0.56      1862\n",
      "\n",
      "    accuracy                           0.69      7306\n",
      "   macro avg       0.71      0.69      0.70      7306\n",
      "weighted avg       0.71      0.69      0.70      7306\n",
      "\n",
      "model  8 :\n",
      "               precision    recall  f1-score   support\n",
      "\n",
      "         0.0       0.55      0.52      0.53      1783\n",
      "         1.0       0.85      0.81      0.83      1843\n",
      "         2.0       0.91      0.92      0.92      1818\n",
      "         3.0       0.57      0.62      0.59      1862\n",
      "\n",
      "    accuracy                           0.72      7306\n",
      "   macro avg       0.72      0.72      0.72      7306\n",
      "weighted avg       0.72      0.72      0.72      7306\n",
      "\n",
      "model  9 :\n",
      "               precision    recall  f1-score   support\n",
      "\n",
      "         0.0       0.56      0.51      0.53      1783\n",
      "         1.0       0.80      0.86      0.83      1843\n",
      "         2.0       0.90      0.92      0.91      1818\n",
      "         3.0       0.56      0.56      0.56      1862\n",
      "\n",
      "    accuracy                           0.71      7306\n",
      "   macro avg       0.71      0.71      0.71      7306\n",
      "weighted avg       0.71      0.71      0.71      7306\n",
      "\n",
      "model  10 :\n",
      "               precision    recall  f1-score   support\n",
      "\n",
      "         0.0       0.55      0.60      0.58      1783\n",
      "         1.0       0.80      0.85      0.83      1843\n",
      "         2.0       0.90      0.91      0.91      1818\n",
      "         3.0       0.61      0.51      0.55      1862\n",
      "\n",
      "    accuracy                           0.72      7306\n",
      "   macro avg       0.72      0.72      0.72      7306\n",
      "weighted avg       0.72      0.72      0.72      7306\n",
      "\n",
      "model  11 :\n",
      "               precision    recall  f1-score   support\n",
      "\n",
      "         0.0       0.52      0.64      0.58      1783\n",
      "         1.0       0.86      0.80      0.83      1843\n",
      "         2.0       0.91      0.92      0.91      1818\n",
      "         3.0       0.60      0.50      0.54      1862\n",
      "\n",
      "    accuracy                           0.72      7306\n",
      "   macro avg       0.72      0.72      0.72      7306\n",
      "weighted avg       0.72      0.72      0.72      7306\n",
      "\n",
      "model  12 :\n",
      "               precision    recall  f1-score   support\n",
      "\n",
      "         0.0       0.54      0.53      0.54      1783\n",
      "         1.0       0.80      0.85      0.82      1843\n",
      "         2.0       0.92      0.91      0.91      1818\n",
      "         3.0       0.60      0.57      0.58      1862\n",
      "\n",
      "    accuracy                           0.72      7306\n",
      "   macro avg       0.71      0.71      0.71      7306\n",
      "weighted avg       0.71      0.72      0.71      7306\n",
      "\n",
      "model  13 :\n",
      "               precision    recall  f1-score   support\n",
      "\n",
      "         0.0       0.59      0.42      0.49      1783\n",
      "         1.0       0.81      0.85      0.83      1843\n",
      "         2.0       0.91      0.91      0.91      1818\n",
      "         3.0       0.56      0.69      0.62      1862\n",
      "\n",
      "    accuracy                           0.72      7306\n",
      "   macro avg       0.72      0.72      0.71      7306\n",
      "weighted avg       0.72      0.72      0.71      7306\n",
      "\n",
      "model  14 :\n",
      "               precision    recall  f1-score   support\n",
      "\n",
      "         0.0       0.55      0.52      0.53      1783\n",
      "         1.0       0.85      0.80      0.83      1843\n",
      "         2.0       0.91      0.91      0.91      1818\n",
      "         3.0       0.56      0.62      0.59      1862\n",
      "\n",
      "    accuracy                           0.71      7306\n",
      "   macro avg       0.72      0.71      0.72      7306\n",
      "weighted avg       0.72      0.71      0.72      7306\n",
      "\n",
      "model  15 :\n",
      "               precision    recall  f1-score   support\n",
      "\n",
      "         0.0       0.55      0.57      0.56      1783\n",
      "         1.0       0.80      0.85      0.83      1843\n",
      "         2.0       0.87      0.93      0.90      1818\n",
      "         3.0       0.62      0.51      0.56      1862\n",
      "\n",
      "    accuracy                           0.72      7306\n",
      "   macro avg       0.71      0.72      0.71      7306\n",
      "weighted avg       0.71      0.72      0.71      7306\n",
      "\n",
      "model  16 :\n",
      "               precision    recall  f1-score   support\n",
      "\n",
      "         0.0       0.54      0.55      0.54      1783\n",
      "         1.0       0.78      0.86      0.82      1843\n",
      "         2.0       0.90      0.93      0.91      1818\n",
      "         3.0       0.59      0.50      0.54      1862\n",
      "\n",
      "    accuracy                           0.71      7306\n",
      "   macro avg       0.70      0.71      0.70      7306\n",
      "weighted avg       0.70      0.71      0.70      7306\n",
      "\n",
      "model  17 :\n",
      "               precision    recall  f1-score   support\n",
      "\n",
      "         0.0       0.47      0.45      0.46      1783\n",
      "         1.0       0.74      0.75      0.74      1843\n",
      "         2.0       0.86      0.88      0.87      1818\n",
      "         3.0       0.51      0.50      0.50      1862\n",
      "\n",
      "    accuracy                           0.65      7306\n",
      "   macro avg       0.64      0.65      0.65      7306\n",
      "weighted avg       0.64      0.65      0.65      7306\n",
      "\n",
      "model  18 :\n",
      "               precision    recall  f1-score   support\n",
      "\n",
      "         0.0       0.47      0.45      0.46      1783\n",
      "         1.0       0.70      0.79      0.74      1843\n",
      "         2.0       0.91      0.83      0.87      1818\n",
      "         3.0       0.49      0.50      0.49      1862\n",
      "\n",
      "    accuracy                           0.64      7306\n",
      "   macro avg       0.65      0.64      0.64      7306\n",
      "weighted avg       0.65      0.64      0.64      7306\n",
      "\n",
      "model  19 :\n",
      "               precision    recall  f1-score   support\n",
      "\n",
      "         0.0       0.46      0.51      0.49      1783\n",
      "         1.0       0.66      0.80      0.72      1843\n",
      "         2.0       0.86      0.87      0.86      1818\n",
      "         3.0       0.52      0.35      0.42      1862\n",
      "\n",
      "    accuracy                           0.63      7306\n",
      "   macro avg       0.63      0.63      0.62      7306\n",
      "weighted avg       0.63      0.63      0.62      7306\n",
      "\n",
      "model  20 :\n",
      "               precision    recall  f1-score   support\n",
      "\n",
      "         0.0       0.48      0.46      0.47      1783\n",
      "         1.0       0.67      0.81      0.73      1843\n",
      "         2.0       0.85      0.88      0.87      1818\n",
      "         3.0       0.53      0.42      0.47      1862\n",
      "\n",
      "    accuracy                           0.64      7306\n",
      "   macro avg       0.63      0.64      0.63      7306\n",
      "weighted avg       0.63      0.64      0.63      7306\n",
      "\n",
      "model  21 :\n",
      "               precision    recall  f1-score   support\n",
      "\n",
      "         0.0       0.48      0.39      0.43      1783\n",
      "         1.0       0.72      0.79      0.76      1843\n",
      "         2.0       0.87      0.89      0.88      1818\n",
      "         3.0       0.51      0.54      0.52      1862\n",
      "\n",
      "    accuracy                           0.65      7306\n",
      "   macro avg       0.64      0.65      0.65      7306\n",
      "weighted avg       0.64      0.65      0.65      7306\n",
      "\n",
      "model  22 :\n",
      "               precision    recall  f1-score   support\n",
      "\n",
      "         0.0       0.53      0.25      0.34      1783\n",
      "         1.0       0.75      0.77      0.76      1843\n",
      "         2.0       0.90      0.86      0.88      1818\n",
      "         3.0       0.49      0.74      0.59      1862\n",
      "\n",
      "    accuracy                           0.66      7306\n",
      "   macro avg       0.67      0.66      0.64      7306\n",
      "weighted avg       0.66      0.66      0.64      7306\n",
      "\n",
      "model  23 :\n",
      "               precision    recall  f1-score   support\n",
      "\n",
      "         0.0       0.47      0.49      0.48      1783\n",
      "         1.0       0.79      0.74      0.76      1843\n",
      "         2.0       0.85      0.89      0.87      1818\n",
      "         3.0       0.49      0.49      0.49      1862\n",
      "\n",
      "    accuracy                           0.65      7306\n",
      "   macro avg       0.65      0.65      0.65      7306\n",
      "weighted avg       0.65      0.65      0.65      7306\n",
      "\n",
      "model  24 :\n",
      "               precision    recall  f1-score   support\n",
      "\n",
      "         0.0       0.47      0.44      0.46      1783\n",
      "         1.0       0.73      0.80      0.76      1843\n",
      "         2.0       0.88      0.87      0.88      1818\n",
      "         3.0       0.51      0.50      0.51      1862\n",
      "\n",
      "    accuracy                           0.65      7306\n",
      "   macro avg       0.65      0.65      0.65      7306\n",
      "weighted avg       0.65      0.65      0.65      7306\n",
      "\n",
      "model  25 :\n",
      "               precision    recall  f1-score   support\n",
      "\n",
      "         0.0       0.48      0.50      0.49      1783\n",
      "         1.0       0.76      0.76      0.76      1843\n",
      "         2.0       0.88      0.88      0.88      1818\n",
      "         3.0       0.53      0.51      0.52      1862\n",
      "\n",
      "    accuracy                           0.66      7306\n",
      "   macro avg       0.66      0.66      0.66      7306\n",
      "weighted avg       0.66      0.66      0.66      7306\n",
      "\n",
      "model  26 :\n",
      "               precision    recall  f1-score   support\n",
      "\n",
      "         0.0       0.49      0.26      0.34      1783\n",
      "         1.0       0.74      0.74      0.74      1843\n",
      "         2.0       0.85      0.89      0.87      1818\n",
      "         3.0       0.48      0.68      0.57      1862\n",
      "\n",
      "    accuracy                           0.65      7306\n",
      "   macro avg       0.64      0.64      0.63      7306\n",
      "weighted avg       0.64      0.65      0.63      7306\n",
      "\n",
      "model  27 :\n",
      "               precision    recall  f1-score   support\n",
      "\n",
      "         0.0       0.48      0.41      0.44      1783\n",
      "         1.0       0.71      0.80      0.75      1843\n",
      "         2.0       0.86      0.89      0.88      1818\n",
      "         3.0       0.51      0.51      0.51      1862\n",
      "\n",
      "    accuracy                           0.65      7306\n",
      "   macro avg       0.64      0.65      0.65      7306\n",
      "weighted avg       0.64      0.65      0.65      7306\n",
      "\n",
      "model  28 :\n",
      "               precision    recall  f1-score   support\n",
      "\n",
      "         0.0       0.46      0.16      0.24      1783\n",
      "         1.0       0.71      0.82      0.76      1843\n",
      "         2.0       0.80      0.92      0.86      1818\n",
      "         3.0       0.49      0.65      0.56      1862\n",
      "\n",
      "    accuracy                           0.64      7306\n",
      "   macro avg       0.62      0.64      0.60      7306\n",
      "weighted avg       0.62      0.64      0.61      7306\n",
      "\n",
      "model  29 :\n",
      "               precision    recall  f1-score   support\n",
      "\n",
      "         0.0       0.49      0.34      0.40      1783\n",
      "         1.0       0.68      0.84      0.75      1843\n",
      "         2.0       0.86      0.89      0.87      1818\n",
      "         3.0       0.52      0.52      0.52      1862\n",
      "\n",
      "    accuracy                           0.65      7306\n",
      "   macro avg       0.64      0.65      0.64      7306\n",
      "weighted avg       0.64      0.65      0.64      7306\n",
      "\n",
      "model  30 :\n",
      "               precision    recall  f1-score   support\n",
      "\n",
      "         0.0       0.49      0.43      0.46      1783\n",
      "         1.0       0.70      0.85      0.77      1843\n",
      "         2.0       0.89      0.89      0.89      1818\n",
      "         3.0       0.52      0.48      0.50      1862\n",
      "\n",
      "    accuracy                           0.66      7306\n",
      "   macro avg       0.65      0.66      0.65      7306\n",
      "weighted avg       0.65      0.66      0.65      7306\n",
      "\n",
      "model  31 :\n",
      "               precision    recall  f1-score   support\n",
      "\n",
      "         0.0       0.45      0.51      0.48      1783\n",
      "         1.0       0.80      0.74      0.76      1843\n",
      "         2.0       0.88      0.89      0.88      1818\n",
      "         3.0       0.47      0.45      0.46      1862\n",
      "\n",
      "    accuracy                           0.64      7306\n",
      "   macro avg       0.65      0.64      0.65      7306\n",
      "weighted avg       0.65      0.64      0.65      7306\n",
      "\n",
      "model  32 :\n",
      "               precision    recall  f1-score   support\n",
      "\n",
      "         0.0       0.48      0.41      0.44      1783\n",
      "         1.0       0.79      0.76      0.77      1843\n",
      "         2.0       0.89      0.88      0.89      1818\n",
      "         3.0       0.48      0.58      0.53      1862\n",
      "\n",
      "    accuracy                           0.66      7306\n",
      "   macro avg       0.66      0.66      0.66      7306\n",
      "weighted avg       0.66      0.66      0.66      7306\n",
      "\n",
      "model  33 :\n",
      "               precision    recall  f1-score   support\n",
      "\n",
      "         0.0       0.00      0.00      0.00      1783\n",
      "         1.0       0.00      0.00      0.00      1843\n",
      "         2.0       0.25      1.00      0.40      1818\n",
      "         3.0       0.00      0.00      0.00      1862\n",
      "\n",
      "    accuracy                           0.25      7306\n",
      "   macro avg       0.06      0.25      0.10      7306\n",
      "weighted avg       0.06      0.25      0.10      7306\n",
      "\n",
      "model  34 :\n",
      "               precision    recall  f1-score   support\n",
      "\n",
      "         0.0       0.00      0.00      0.00      1783\n",
      "         1.0       0.00      0.00      0.00      1843\n",
      "         2.0       0.25      1.00      0.40      1818\n",
      "         3.0       0.00      0.00      0.00      1862\n",
      "\n",
      "    accuracy                           0.25      7306\n",
      "   macro avg       0.06      0.25      0.10      7306\n",
      "weighted avg       0.06      0.25      0.10      7306\n",
      "\n",
      "model  35 :\n",
      "               precision    recall  f1-score   support\n",
      "\n",
      "         0.0       0.00      0.00      0.00      1783\n",
      "         1.0       0.00      0.00      0.00      1843\n",
      "         2.0       0.25      1.00      0.40      1818\n",
      "         3.0       0.00      0.00      0.00      1862\n",
      "\n",
      "    accuracy                           0.25      7306\n",
      "   macro avg       0.06      0.25      0.10      7306\n",
      "weighted avg       0.06      0.25      0.10      7306\n",
      "\n",
      "model  36 :\n",
      "               precision    recall  f1-score   support\n",
      "\n",
      "         0.0       0.00      0.00      0.00      1783\n",
      "         1.0       0.00      0.00      0.00      1843\n",
      "         2.0       0.25      1.00      0.40      1818\n",
      "         3.0       0.00      0.00      0.00      1862\n",
      "\n",
      "    accuracy                           0.25      7306\n",
      "   macro avg       0.06      0.25      0.10      7306\n",
      "weighted avg       0.06      0.25      0.10      7306\n",
      "\n",
      "model  37 :\n",
      "               precision    recall  f1-score   support\n",
      "\n",
      "         0.0       0.00      0.00      0.00      1783\n",
      "         1.0       0.25      1.00      0.40      1843\n",
      "         2.0       0.00      0.00      0.00      1818\n",
      "         3.0       0.00      0.00      0.00      1862\n",
      "\n",
      "    accuracy                           0.25      7306\n",
      "   macro avg       0.06      0.25      0.10      7306\n",
      "weighted avg       0.06      0.25      0.10      7306\n",
      "\n",
      "model  38 :\n",
      "               precision    recall  f1-score   support\n",
      "\n",
      "         0.0       0.00      0.00      0.00      1783\n",
      "         1.0       0.25      1.00      0.40      1843\n",
      "         2.0       0.00      0.00      0.00      1818\n",
      "         3.0       0.00      0.00      0.00      1862\n",
      "\n",
      "    accuracy                           0.25      7306\n",
      "   macro avg       0.06      0.25      0.10      7306\n",
      "weighted avg       0.06      0.25      0.10      7306\n",
      "\n",
      "model  39 :\n",
      "               precision    recall  f1-score   support\n",
      "\n",
      "         0.0       0.00      0.00      0.00      1783\n",
      "         1.0       0.00      0.00      0.00      1843\n",
      "         2.0       0.00      0.00      0.00      1818\n",
      "         3.0       0.25      1.00      0.41      1862\n",
      "\n",
      "    accuracy                           0.25      7306\n",
      "   macro avg       0.06      0.25      0.10      7306\n",
      "weighted avg       0.06      0.25      0.10      7306\n",
      "\n",
      "model  40 :\n",
      "               precision    recall  f1-score   support\n",
      "\n",
      "         0.0       0.24      1.00      0.39      1783\n",
      "         1.0       0.00      0.00      0.00      1843\n",
      "         2.0       0.00      0.00      0.00      1818\n",
      "         3.0       0.00      0.00      0.00      1862\n",
      "\n",
      "    accuracy                           0.24      7306\n",
      "   macro avg       0.06      0.25      0.10      7306\n",
      "weighted avg       0.06      0.24      0.10      7306\n",
      "\n",
      "model  41 :\n",
      "               precision    recall  f1-score   support\n",
      "\n",
      "         0.0       0.00      0.00      0.00      1783\n",
      "         1.0       0.00      0.00      0.00      1843\n",
      "         2.0       0.25      1.00      0.40      1818\n",
      "         3.0       0.00      0.00      0.00      1862\n",
      "\n",
      "    accuracy                           0.25      7306\n",
      "   macro avg       0.06      0.25      0.10      7306\n",
      "weighted avg       0.06      0.25      0.10      7306\n",
      "\n",
      "model  42 :\n",
      "               precision    recall  f1-score   support\n",
      "\n",
      "         0.0       0.24      1.00      0.39      1783\n",
      "         1.0       0.00      0.00      0.00      1843\n",
      "         2.0       0.00      0.00      0.00      1818\n",
      "         3.0       0.00      0.00      0.00      1862\n",
      "\n",
      "    accuracy                           0.24      7306\n",
      "   macro avg       0.06      0.25      0.10      7306\n",
      "weighted avg       0.06      0.24      0.10      7306\n",
      "\n",
      "model  43 :\n",
      "               precision    recall  f1-score   support\n",
      "\n",
      "         0.0       0.00      0.00      0.00      1783\n",
      "         1.0       0.00      0.00      0.00      1843\n",
      "         2.0       0.25      1.00      0.40      1818\n",
      "         3.0       0.00      0.00      0.00      1862\n",
      "\n",
      "    accuracy                           0.25      7306\n",
      "   macro avg       0.06      0.25      0.10      7306\n",
      "weighted avg       0.06      0.25      0.10      7306\n",
      "\n",
      "model  44 :\n",
      "               precision    recall  f1-score   support\n",
      "\n",
      "         0.0       0.00      0.00      0.00      1783\n",
      "         1.0       0.00      0.00      0.00      1843\n",
      "         2.0       0.25      1.00      0.40      1818\n",
      "         3.0       0.00      0.00      0.00      1862\n",
      "\n",
      "    accuracy                           0.25      7306\n",
      "   macro avg       0.06      0.25      0.10      7306\n",
      "weighted avg       0.06      0.25      0.10      7306\n",
      "\n",
      "model  45 :\n",
      "               precision    recall  f1-score   support\n",
      "\n",
      "         0.0       0.00      0.00      0.00      1783\n",
      "         1.0       0.25      1.00      0.40      1843\n",
      "         2.0       0.00      0.00      0.00      1818\n",
      "         3.0       0.00      0.00      0.00      1862\n",
      "\n",
      "    accuracy                           0.25      7306\n",
      "   macro avg       0.06      0.25      0.10      7306\n",
      "weighted avg       0.06      0.25      0.10      7306\n",
      "\n",
      "model  46 :\n",
      "               precision    recall  f1-score   support\n",
      "\n",
      "         0.0       0.00      0.00      0.00      1783\n",
      "         1.0       0.00      0.00      0.00      1843\n",
      "         2.0       0.25      1.00      0.40      1818\n",
      "         3.0       0.00      0.00      0.00      1862\n",
      "\n",
      "    accuracy                           0.25      7306\n",
      "   macro avg       0.06      0.25      0.10      7306\n",
      "weighted avg       0.06      0.25      0.10      7306\n",
      "\n",
      "model  47 :\n",
      "               precision    recall  f1-score   support\n",
      "\n",
      "         0.0       0.00      0.00      0.00      1783\n",
      "         1.0       0.00      0.00      0.00      1843\n",
      "         2.0       0.25      1.00      0.40      1818\n",
      "         3.0       0.00      0.00      0.00      1862\n",
      "\n",
      "    accuracy                           0.25      7306\n",
      "   macro avg       0.06      0.25      0.10      7306\n",
      "weighted avg       0.06      0.25      0.10      7306\n",
      "\n",
      "model  48 :\n",
      "               precision    recall  f1-score   support\n",
      "\n",
      "         0.0       0.00      0.00      0.00      1783\n",
      "         1.0       0.00      0.00      0.00      1843\n",
      "         2.0       0.25      1.00      0.40      1818\n",
      "         3.0       0.00      0.00      0.00      1862\n",
      "\n",
      "    accuracy                           0.25      7306\n",
      "   macro avg       0.06      0.25      0.10      7306\n",
      "weighted avg       0.06      0.25      0.10      7306\n",
      "\n"
     ]
    }
   ],
   "source": [
    "num = 1\n",
    "for ii in scores:\n",
    "    print(\"model \", num, \":\\n\", ii)\n",
    "    num = num + 1"
   ]
  },
  {
   "cell_type": "code",
   "execution_count": 74,
   "id": "favorite-radiation",
   "metadata": {},
   "outputs": [
    {
     "name": "stdout",
     "output_type": "stream",
     "text": [
      "13\n"
     ]
    }
   ],
   "source": [
    "print(best_ind)"
   ]
  },
  {
   "cell_type": "code",
   "execution_count": 78,
   "id": "psychological-monthly",
   "metadata": {},
   "outputs": [
    {
     "name": "stdout",
     "output_type": "stream",
     "text": [
      "0.1 0.00390625 0.015625\n"
     ]
    }
   ],
   "source": [
    "# loop through each combination\n",
    "pos = 0\n",
    "for ii in dropout_grid:\n",
    "    for jj in l1_grid:\n",
    "        for kk in l2_grid:\n",
    "            pos = pos + 1\n",
    "            if pos == 14:\n",
    "                print(ii, jj, kk)\n",
    "                break"
   ]
  },
  {
   "cell_type": "code",
   "execution_count": 84,
   "id": "incident-optimization",
   "metadata": {},
   "outputs": [
    {
     "name": "stdout",
     "output_type": "stream",
     "text": [
      "Model: \"sequential_451\"\n",
      "_________________________________________________________________\n",
      "Layer (type)                 Output Shape              Param #   \n",
      "=================================================================\n",
      "conv1d_445 (Conv1D)          (None, 23, 128)           384       \n",
      "_________________________________________________________________\n",
      "max_pooling1d_445 (MaxPoolin (None, 11, 128)           0         \n",
      "_________________________________________________________________\n",
      "flatten_445 (Flatten)        (None, 1408)              0         \n",
      "_________________________________________________________________\n",
      "dropout_888 (Dropout)        (None, 1408)              0         \n",
      "_________________________________________________________________\n",
      "dense_890 (Dense)            (None, 64)                90176     \n",
      "_________________________________________________________________\n",
      "dropout_889 (Dropout)        (None, 64)                0         \n",
      "_________________________________________________________________\n",
      "dense_891 (Dense)            (None, 4)                 260       \n",
      "=================================================================\n",
      "Total params: 90,820\n",
      "Trainable params: 90,820\n",
      "Non-trainable params: 0\n",
      "_________________________________________________________________\n"
     ]
    }
   ],
   "source": [
    "# Creating an instance\n",
    "best_model = define_CNN_model(0.1, 0.00390625, 0.015625)\n",
    "best_model.summary()"
   ]
  },
  {
   "cell_type": "code",
   "execution_count": 89,
   "id": "wrapped-peace",
   "metadata": {},
   "outputs": [
    {
     "name": "stdout",
     "output_type": "stream",
     "text": [
      "Epoch 1/30\n",
      "  13/1370 [..............................] - ETA: 12s - loss: 0.6298 - accuracy: 0.7692"
     ]
    },
    {
     "name": "stderr",
     "output_type": "stream",
     "text": [
      "C:\\Users\\User1\\anaconda3\\envs\\tensorflow_env\\lib\\site-packages\\tensorflow\\python\\data\\ops\\dataset_ops.py:3349: UserWarning: Even though the tf.config.experimental_run_functions_eagerly option is set, this option does not apply to tf.data functions. tf.data functions are still traced and executed as graphs.\n",
      "  warnings.warn(\n"
     ]
    },
    {
     "name": "stdout",
     "output_type": "stream",
     "text": [
      "1365/1370 [============================>.] - ETA: 0s - loss: 0.6947 - accuracy: 0.7063"
     ]
    },
    {
     "name": "stderr",
     "output_type": "stream",
     "text": [
      "C:\\Users\\User1\\anaconda3\\envs\\tensorflow_env\\lib\\site-packages\\tensorflow\\python\\data\\ops\\dataset_ops.py:3349: UserWarning: Even though the tf.config.experimental_run_functions_eagerly option is set, this option does not apply to tf.data functions. tf.data functions are still traced and executed as graphs.\n",
      "  warnings.warn(\n"
     ]
    },
    {
     "name": "stdout",
     "output_type": "stream",
     "text": [
      "1370/1370 [==============================] - 14s 10ms/step - loss: 0.6946 - accuracy: 0.7063 - val_loss: 0.6528 - val_accuracy: 0.7234\n",
      "Epoch 2/30\n",
      "1370/1370 [==============================] - 14s 10ms/step - loss: 0.6907 - accuracy: 0.7076 - val_loss: 0.6515 - val_accuracy: 0.7183\n",
      "Epoch 3/30\n",
      "1370/1370 [==============================] - 14s 10ms/step - loss: 0.6925 - accuracy: 0.7075 - val_loss: 0.6536 - val_accuracy: 0.7297\n",
      "Epoch 4/30\n",
      "1370/1370 [==============================] - 14s 10ms/step - loss: 0.6884 - accuracy: 0.7087 - val_loss: 0.6465 - val_accuracy: 0.7349\n",
      "Epoch 5/30\n",
      "1370/1370 [==============================] - 14s 10ms/step - loss: 0.6885 - accuracy: 0.7071 - val_loss: 0.6455 - val_accuracy: 0.7336\n",
      "Epoch 6/30\n",
      "1370/1370 [==============================] - 14s 10ms/step - loss: 0.6858 - accuracy: 0.7100 - val_loss: 0.6385 - val_accuracy: 0.7312\n",
      "Epoch 7/30\n",
      "1370/1370 [==============================] - 14s 10ms/step - loss: 0.6819 - accuracy: 0.7107 - val_loss: 0.6545 - val_accuracy: 0.7269\n",
      "Epoch 8/30\n",
      "1370/1370 [==============================] - 14s 10ms/step - loss: 0.6848 - accuracy: 0.7113 - val_loss: 0.6386 - val_accuracy: 0.7372\n",
      "Epoch 9/30\n",
      "1370/1370 [==============================] - 14s 10ms/step - loss: 0.6849 - accuracy: 0.7100 - val_loss: 0.6436 - val_accuracy: 0.7312\n",
      "Epoch 10/30\n",
      "1370/1370 [==============================] - 14s 10ms/step - loss: 0.6841 - accuracy: 0.7120 - val_loss: 0.6461 - val_accuracy: 0.7321\n",
      "Epoch 11/30\n",
      "1370/1370 [==============================] - 14s 10ms/step - loss: 0.6811 - accuracy: 0.7098 - val_loss: 0.6569 - val_accuracy: 0.7208\n",
      "Epoch 12/30\n",
      "1370/1370 [==============================] - 14s 10ms/step - loss: 0.6821 - accuracy: 0.7132 - val_loss: 0.6564 - val_accuracy: 0.7267\n",
      "Epoch 13/30\n",
      "1370/1370 [==============================] - 14s 10ms/step - loss: 0.6840 - accuracy: 0.7093 - val_loss: 0.6335 - val_accuracy: 0.7430\n",
      "Epoch 14/30\n",
      "1370/1370 [==============================] - 14s 10ms/step - loss: 0.6813 - accuracy: 0.7120 - val_loss: 0.6353 - val_accuracy: 0.7321\n",
      "Epoch 15/30\n",
      "1370/1370 [==============================] - 14s 10ms/step - loss: 0.6817 - accuracy: 0.7121 - val_loss: 0.6329 - val_accuracy: 0.7379\n",
      "Epoch 16/30\n",
      "1370/1370 [==============================] - 14s 10ms/step - loss: 0.6792 - accuracy: 0.7125 - val_loss: 0.6384 - val_accuracy: 0.7430\n",
      "Epoch 17/30\n",
      "1370/1370 [==============================] - 14s 10ms/step - loss: 0.6756 - accuracy: 0.7163 - val_loss: 0.6417 - val_accuracy: 0.7343\n",
      "Epoch 18/30\n",
      "1370/1370 [==============================] - 14s 10ms/step - loss: 0.6745 - accuracy: 0.7171 - val_loss: 0.6440 - val_accuracy: 0.7309\n",
      "Epoch 19/30\n",
      "1370/1370 [==============================] - 14s 10ms/step - loss: 0.6778 - accuracy: 0.7150 - val_loss: 0.6457 - val_accuracy: 0.7394\n",
      "Epoch 20/30\n",
      "1370/1370 [==============================] - 14s 10ms/step - loss: 0.6769 - accuracy: 0.7127 - val_loss: 0.6394 - val_accuracy: 0.7369\n",
      "Epoch 21/30\n",
      "1370/1370 [==============================] - 14s 10ms/step - loss: 0.6727 - accuracy: 0.7166 - val_loss: 0.6324 - val_accuracy: 0.7397\n",
      "Epoch 22/30\n",
      "1370/1370 [==============================] - 14s 10ms/step - loss: 0.6725 - accuracy: 0.7172 - val_loss: 0.6334 - val_accuracy: 0.7345\n",
      "Epoch 23/30\n",
      "1370/1370 [==============================] - 14s 10ms/step - loss: 0.6701 - accuracy: 0.7178 - val_loss: 0.6519 - val_accuracy: 0.7334\n",
      "Epoch 24/30\n",
      "1370/1370 [==============================] - 14s 10ms/step - loss: 0.6728 - accuracy: 0.7171 - val_loss: 0.6415 - val_accuracy: 0.7390\n",
      "Epoch 25/30\n",
      "1370/1370 [==============================] - 14s 10ms/step - loss: 0.6741 - accuracy: 0.7171 - val_loss: 0.6257 - val_accuracy: 0.7416\n",
      "Epoch 26/30\n",
      "1370/1370 [==============================] - 14s 10ms/step - loss: 0.6749 - accuracy: 0.7160 - val_loss: 0.6276 - val_accuracy: 0.7417\n",
      "Epoch 27/30\n",
      "1370/1370 [==============================] - 14s 10ms/step - loss: 0.6698 - accuracy: 0.7187 - val_loss: 0.6359 - val_accuracy: 0.7428\n",
      "Epoch 28/30\n",
      "1370/1370 [==============================] - 14s 10ms/step - loss: 0.6742 - accuracy: 0.7166 - val_loss: 0.6446 - val_accuracy: 0.7339\n",
      "Epoch 29/30\n",
      "1370/1370 [==============================] - 14s 10ms/step - loss: 0.6682 - accuracy: 0.7179 - val_loss: 0.6368 - val_accuracy: 0.7365\n",
      "Epoch 30/30\n",
      "1370/1370 [==============================] - 14s 10ms/step - loss: 0.6702 - accuracy: 0.7169 - val_loss: 0.6339 - val_accuracy: 0.7388\n"
     ]
    }
   ],
   "source": [
    "# fit the model\n",
    "best_history = best_model.fit(training_X, training_y_encoded, epochs = 30, validation_data = (val_X, val_y_encoded), verbose = 1)    "
   ]
  },
  {
   "cell_type": "code",
   "execution_count": 90,
   "id": "opening-utilization",
   "metadata": {},
   "outputs": [
    {
     "name": "stdout",
     "output_type": "stream",
     "text": [
      "0.7387626647949219\n"
     ]
    },
    {
     "data": {
      "image/png": "[encoded data removed]",
      "text/plain": [
       "<Figure size 432x288 with 1 Axes>"
      ]
     },
     "metadata": {
      "needs_background": "light"
     },
     "output_type": "display_data"
    },
    {
     "data": {
      "image/png": "[encoded data removed]",
      "text/plain": [
       "<Figure size 432x288 with 1 Axes>"
      ]
     },
     "metadata": {
      "needs_background": "light"
     },
     "output_type": "display_data"
    }
   ],
   "source": [
    "# calculate the stat\n",
    "curr_acc = st.mean(best_history.history['val_accuracy'][25:30]) \n",
    "print(curr_acc)\n",
    "\n",
    "# plot the fit history\n",
    "plot_history(best_history)"
   ]
  },
  {
   "cell_type": "code",
   "execution_count": 91,
   "id": "abandoned-johnston",
   "metadata": {},
   "outputs": [
    {
     "name": "stderr",
     "output_type": "stream",
     "text": [
      "C:\\Users\\User1\\anaconda3\\envs\\tensorflow_env\\lib\\site-packages\\tensorflow\\python\\data\\ops\\dataset_ops.py:3349: UserWarning: Even though the tf.config.experimental_run_functions_eagerly option is set, this option does not apply to tf.data functions. tf.data functions are still traced and executed as graphs.\n",
      "  warnings.warn(\n"
     ]
    },
    {
     "name": "stdout",
     "output_type": "stream",
     "text": [
      "              precision    recall  f1-score   support\n",
      "\n",
      "         0.0       0.56      0.66      0.61      1783\n",
      "         1.0       0.84      0.88      0.86      1843\n",
      "         2.0       0.90      0.94      0.92      1818\n",
      "         3.0       0.64      0.48      0.55      1862\n",
      "\n",
      "    accuracy                           0.74      7306\n",
      "   macro avg       0.74      0.74      0.73      7306\n",
      "weighted avg       0.74      0.74      0.73      7306\n",
      "\n"
     ]
    }
   ],
   "source": [
    "# get prediction report\n",
    "y_pred = best_model.predict(val_X, batch_size=64, verbose=0)\n",
    "y_pred_bool = np.argmax(y_pred, axis=1)\n",
    "print(classification_report(val_y, y_pred_bool))"
   ]
  },
  {
   "cell_type": "code",
   "execution_count": null,
   "id": "clinical-school",
   "metadata": {},
   "outputs": [],
   "source": []
  }
 ],
 "metadata": {
  "kernelspec": {
   "display_name": "Python 3",
   "language": "python",
   "name": "python3"
  },
  "language_info": {
   "codemirror_mode": {
    "name": "ipython",
    "version": 3
   },
   "file_extension": ".py",
   "mimetype": "text/x-python",
   "name": "python",
   "nbconvert_exporter": "python",
   "pygments_lexer": "ipython3",
   "version": "3.8.8"
  }
 },
 "nbformat": 4,
 "nbformat_minor": 5
}
