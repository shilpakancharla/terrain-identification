{
 "cells": [
  {
   "cell_type": "code",
   "execution_count": 7,
   "id": "adjusted-simon",
   "metadata": {},
   "outputs": [],
   "source": [
    "#import sys\n",
    "import numpy as np\n",
    "import pandas as pd\n",
    "import tensorflow as tf\n",
    "from sklearn import tree\n",
    "#!{sys.executable} -m pip install tensorflow"
   ]
  },
  {
   "cell_type": "markdown",
   "id": "empty-request",
   "metadata": {},
   "source": [
    "# Preprocessing"
   ]
  },
  {
   "cell_type": "code",
   "execution_count": 115,
   "id": "velvet-school",
   "metadata": {},
   "outputs": [],
   "source": [
    "\"\"\"\n",
    "    Based on the training data given, we are able to extract 7 attributes:\n",
    "    1. x accelerometer measurement\n",
    "    2. y accelerometer measurement\n",
    "    3. z accelerometer measurement\n",
    "    4. x gyroscope measurement\n",
    "    5. y gyroscope measurement\n",
    "    6. z gyroscope measurement\n",
    "    7. time stamp for accelerometer and gyroscope measures\n",
    "    \n",
    "    We start by creating a dataframe using the csv files provided for readability.\n",
    "    \n",
    "    @param x_file: contains the xyz accelerometers and xyz gyroscope measures from the lower limb\n",
    "    @param x_time_file: contain the time stamps for the accelerometer and gyroscope measures\n",
    "    @return dataframe of 7 attributes mentioned\n",
    "\"\"\"\n",
    "def create_dataframe_X(x_file, x_time_file):\n",
    "    df1 = pd.read_csv(x_file, sep = ',', names = ['X_acc', 'Y_acc', 'Z_acc', 'X_gyr', 'Y_gyr', 'Z_gyr'])\n",
    "    df2 = pd.read_csv(x_time_file, names = ['Time stamp'])\n",
    "    frames = [df1, df2]\n",
    "    result = pd.concat(frames, axis = 1)\n",
    "    return result\n",
    "    \n",
    "\"\"\"\n",
    "    We have both the labels and the time stamps for the labels. We create a dataframe from these for\n",
    "    readability.\n",
    "    \n",
    "    @param y_file: contain the labels: \n",
    "        (0) indicates standing or walking in solid ground, \n",
    "        (1) indicates going down the stairs, \n",
    "        (2) indicates going up the stairs, and \n",
    "        (3) indicates walking on grass\n",
    "    @param y_time_file: contain the time stamps for the labels\n",
    "    @return dataframe of labels and time stamps\n",
    "\"\"\" \n",
    "def create_dataframe_Y(y_file, y_time_file):\n",
    "    df1 = pd.read_csv(y_file, names = ['Label'])\n",
    "    df2 = pd.read_csv(y_time_file, names = ['Time stamp'])\n",
    "    frames = [df1, df2]\n",
    "    result = pd.concat(frames, axis = 1)\n",
    "    return result\n",
    "    \n",
    "\"\"\"\n",
    "    We take the outputs of create_dataframe_X and create_dataframe_Y. In order to combine both of these\n",
    "    dataframes, we need look at the time intervals present for when the labels were assigned. The goal is\n",
    "    to return a dataframe that now has an eighth column in addition to the seven columns from the dataframe\n",
    "    from create_dataframe_X. Additionally, we know that x_frame contains more values than y_frame. We want to\n",
    "    map these labels accordingly. In the end, we drop data that have \n",
    "    \n",
    "    @param x_frame: dataframe from create_dataframe_X\n",
    "    @param y_frame: dataframe from create_dataframe_Y\n",
    "    @return dataframe with 8 columns (7 attributes and label)\n",
    "\"\"\"\n",
    "def combine_frames(x_frame, y_frame):\n",
    "    # Change each dataframe column to a list for iterations\n",
    "    labels = y_frame['Label'].tolist()\n",
    "    time_stamp_y = y_frame['Time stamp'].tolist()\n",
    "    time_stamp_x = x_frame['Time stamp'].tolist()\n",
    "    \n",
    "    labels_for_x = [] # Create empty list to gather corresponding labels for x_frame\n",
    "    count = 0\n",
    "    for i in range(0, len(time_stamp_y)):\n",
    "        while (time_stamp_x[count] <= time_stamp_y[i]) and (count <= len(time_stamp_x)):\n",
    "            labels_for_x.append(labels[i])\n",
    "            count += 1\n",
    "        continue\n",
    "    \n",
    "    # Concatenate the dataframes\n",
    "    label_df = pd.DataFrame(labels_for_x, columns = ['Label']) # Convert list back to data frame\n",
    "    combined_frame = pd.concat([x_frame, label_df], axis = 1)\n",
    "    \n",
    "    # Drop missing values at the end\n",
    "    combined_frame = combined_frame.dropna()\n",
    "    return combined_frame"
   ]
  },
  {
   "cell_type": "code",
   "execution_count": 117,
   "id": "stock-minneapolis",
   "metadata": {},
   "outputs": [
    {
     "name": "stdout",
     "output_type": "stream",
     "text": [
      "          X_acc     Y_acc     Z_acc     X_gyr     Y_gyr     Z_gyr  Time stamp  \\\n",
      "0      4.435275  8.196063  2.974488  0.014215 -0.039157 -0.016744       0.000   \n",
      "1      4.186920  8.344455  2.908057  0.005771 -0.004480 -0.003345       0.025   \n",
      "2      4.544637  8.408659  2.890000  0.007967  0.022412  0.001159       0.050   \n",
      "3      4.849308  8.411614  2.900692  0.027778 -0.010670 -0.014223       0.075   \n",
      "4      4.509190  8.118649  2.847298  0.021577 -0.045498 -0.021111       0.100   \n",
      "...         ...       ...       ...       ...       ...       ...         ...   \n",
      "37884  1.762278  9.583861  0.928481  0.001940  0.008152 -0.003944     947.100   \n",
      "37885  1.927349  9.584698  0.940000 -0.001852  0.015182 -0.000370     947.125   \n",
      "37886  1.930000  9.562658  0.874684  0.003927  0.006205  0.000671     947.150   \n",
      "37887  1.906144  9.555361  0.866144 -0.001111 -0.005937 -0.000032     947.175   \n",
      "37888  1.900380  9.575190  0.865570 -0.004195 -0.004688 -0.007653     947.200   \n",
      "\n",
      "       Label  \n",
      "0        0.0  \n",
      "1        0.0  \n",
      "2        0.0  \n",
      "3        0.0  \n",
      "4        0.0  \n",
      "...      ...  \n",
      "37884    0.0  \n",
      "37885    0.0  \n",
      "37886    0.0  \n",
      "37887    0.0  \n",
      "37888    0.0  \n",
      "\n",
      "[37889 rows x 8 columns]\n"
     ]
    }
   ],
   "source": [
    "df_x = create_dataframe_X('TrainingData/subject_001_01__x.csv', 'TrainingData/subject_001_01__x_time.csv')\n",
    "df_y = create_dataframe_Y('TrainingData/subject_001_01__y.csv', 'TrainingData/subject_001_01__y_time.csv')\n",
    "frame = combine_frames(df_x, df_y)\n",
    "print(frame)"
   ]
  },
  {
   "cell_type": "markdown",
   "id": "human-season",
   "metadata": {},
   "source": [
    "# Training, Validation, Test Sets"
   ]
  },
  {
   "cell_type": "code",
   "execution_count": null,
   "id": "intellectual-egyptian",
   "metadata": {},
   "outputs": [],
   "source": []
  }
 ],
 "metadata": {
  "kernelspec": {
   "display_name": "Python 3",
   "language": "python",
   "name": "python3"
  },
  "language_info": {
   "codemirror_mode": {
    "name": "ipython",
    "version": 3
   },
   "file_extension": ".py",
   "mimetype": "text/x-python",
   "name": "python",
   "nbconvert_exporter": "python",
   "pygments_lexer": "ipython3",
   "version": "3.9.2"
  }
 },
 "nbformat": 4,
 "nbformat_minor": 5
}
