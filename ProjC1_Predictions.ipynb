{
 "cells": [
  {
   "cell_type": "code",
   "execution_count": 32,
   "id": "covered-pitch",
   "metadata": {},
   "outputs": [],
   "source": [
    "#import sys\n",
    "import numpy as np\n",
    "import pandas as pd\n",
    "import tensorflow as tf \n",
    "#!{sys.executable} -m pip install tensorflow"
   ]
  },
  {
   "cell_type": "code",
   "execution_count": 52,
   "id": "returning-comment",
   "metadata": {},
   "outputs": [],
   "source": [
    "\"\"\"\n",
    "    Based on the training data given, we are able to extract 7 attributes:\n",
    "    1. x accelerometer measurement\n",
    "    2. y accelerometer measurement\n",
    "    3. z accelerometer measurement\n",
    "    4. x gyroscope measurement\n",
    "    5. y gyroscope measurement\n",
    "    6. z gyroscope measurement\n",
    "    7. time stamp for accelerometer and gyroscope measures\n",
    "    \n",
    "    We start by creating a dataframe using the csv files provided for readability.\n",
    "    \n",
    "    @param x_file: contains the xyz accelerometers and xyz gyroscope measures from the lower limb\n",
    "    @param x_time_file: contain the time stamps for the accelerometer and gyroscope measures\n",
    "    @return dataframe of attributes and label\n",
    "\"\"\"\n",
    "def create_dataframe_X(x_file, x_time_file):\n",
    "    df1 = pd.read_csv(x_file, sep = ',', names = ['X_acc', 'Y_acc', 'Z_acc', 'X_gyr', 'Y_gyr', 'Z_gyr'])\n",
    "    df2 = pd.read_csv(x_time_file, names = ['Time stamp'])\n",
    "    frames = [df1, df2]\n",
    "    result = pd.concat(frames, axis = 1)\n",
    "    \n",
    "def create_dataframe_Y(y_file, y_time_file):\n",
    "    df1 = pd.read_csv(y_file, names = ['Label'])\n",
    "    df2 = pd.read_csv(y_time_file, names = ['Time stamp'])\n",
    "    frames = [df1, df2]\n",
    "    result = pd.concat(frames, axis = 1)\n",
    "    print(result)"
   ]
  },
  {
   "cell_type": "code",
   "execution_count": 53,
   "id": "extended-taste",
   "metadata": {},
   "outputs": [
    {
     "name": "stdout",
     "output_type": "stream",
     "text": [
      "          X_acc     Y_acc     Z_acc     X_gyr     Y_gyr     Z_gyr  Time stamp\n",
      "0      4.435275  8.196063  2.974488  0.014215 -0.039157 -0.016744       0.000\n",
      "1      4.186920  8.344455  2.908057  0.005771 -0.004480 -0.003345       0.025\n",
      "2      4.544637  8.408659  2.890000  0.007967  0.022412  0.001159       0.050\n",
      "3      4.849308  8.411614  2.900692  0.027778 -0.010670 -0.014223       0.075\n",
      "4      4.509190  8.118649  2.847298  0.021577 -0.045498 -0.021111       0.100\n",
      "...         ...       ...       ...       ...       ...       ...         ...\n",
      "37885  1.927349  9.584698  0.940000 -0.001852  0.015182 -0.000370     947.125\n",
      "37886  1.930000  9.562658  0.874684  0.003927  0.006205  0.000671     947.150\n",
      "37887  1.906144  9.555361  0.866144 -0.001111 -0.005937 -0.000032     947.175\n",
      "37888  1.900380  9.575190  0.865570 -0.004195 -0.004688 -0.007653     947.200\n",
      "37889  1.813466  9.584614  0.914613  0.000381 -0.010000 -0.011841     947.225\n",
      "\n",
      "[37890 rows x 7 columns]\n"
     ]
    }
   ],
   "source": [
    "create_dataframe_&('TrainingData/subject_001_01__x.csv', 'TrainingData/subject_001_01__x_time.csv')"
   ]
  },
  {
   "cell_type": "code",
   "execution_count": null,
   "id": "exclusive-decimal",
   "metadata": {},
   "outputs": [],
   "source": []
  }
 ],
 "metadata": {
  "kernelspec": {
   "display_name": "Python 3",
   "language": "python",
   "name": "python3"
  },
  "language_info": {
   "codemirror_mode": {
    "name": "ipython",
    "version": 3
   },
   "file_extension": ".py",
   "mimetype": "text/x-python",
   "name": "python",
   "nbconvert_exporter": "python",
   "pygments_lexer": "ipython3",
   "version": "3.9.2"
  }
 },
 "nbformat": 4,
 "nbformat_minor": 5
}
